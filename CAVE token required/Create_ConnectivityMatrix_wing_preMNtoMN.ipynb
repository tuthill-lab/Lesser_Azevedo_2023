{
 "cells": [
  {
   "cell_type": "code",
   "execution_count": null,
   "metadata": {},
   "outputs": [],
   "source": [
    "# import packages\n",
    "from caveclient import CAVEclient\n",
    "import pandas as pd\n",
    "from matplotlib import pyplot,patches\n",
    "import matplotlib.pyplot as plt\n",
    "import numpy as np\n",
    "import seaborn as sns\n",
    "import cmocean\n",
    "import utils"
   ]
  },
  {
   "cell_type": "code",
   "execution_count": null,
   "metadata": {},
   "outputs": [],
   "source": [
    "# need a caveclient token to access the data. see https://caveclient.readthedocs.io/en/latest/guide/authentication.html for information on getting a token\n",
    "\n",
    "client = CAVEclient()\n",
    "datastack_name = 'fanc_production_mar2021'\n",
    "client = CAVEclient(datastack_name)\n",
    "client.materialize.version = 604\n"
   ]
  },
  {
   "cell_type": "code",
   "execution_count": null,
   "metadata": {},
   "outputs": [],
   "source": [
    "# time of materialization for data used in the paper\n",
    "import datetime\n",
    "# timestamp_then = datetime.datetime(2023, 5, 15, 20, 35, 47, 161789)\n",
    "timestamp = datetime.datetime.fromtimestamp(1685002201.254304)"
   ]
  },
  {
   "cell_type": "code",
   "execution_count": null,
   "metadata": {},
   "outputs": [],
   "source": [
    "# timestamp = datetime.datetime(2023, 5, 15, 20, 35, 47, 161789)"
   ]
  },
  {
   "cell_type": "code",
   "execution_count": null,
   "metadata": {},
   "outputs": [],
   "source": [
    "# get left wing MNs from cave annotation table\n",
    "wing_table = client.materialize.query_table('wing_motor_neuron_table_v0', timestamp=timestamp)\n",
    "\n",
    "wing_table['side'] = [x.strip()[-1] for x in wing_table.classification_system]\n",
    "wingL_table = wing_table[wing_table.side.isin(['L'])]\n",
    "\n",
    "wing_MN_table = wingL_table[~wingL_table.cell_type.isin(['nonMN_unk3','nonMN_unk2','nonMN_unk1','nonMN_PSI','tt','ttb_u','ttc_u'])] # other efferent neurons\n",
    "wing_MN_table.shape # should be 30"
   ]
  },
  {
   "cell_type": "code",
   "execution_count": null,
   "metadata": {},
   "outputs": [],
   "source": [
    "utils.save_df_csv(wing_MN_table,'wing_mn_segIDs_to_make_public')"
   ]
  },
  {
   "cell_type": "code",
   "execution_count": null,
   "metadata": {},
   "outputs": [],
   "source": [
    "# query for the full connectivity matrix\n",
    "full_df = client.materialize.synapse_query(post_ids = wing_MN_table.pt_root_id.to_list())"
   ]
  },
  {
   "cell_type": "code",
   "execution_count": null,
   "metadata": {},
   "outputs": [],
   "source": [
    "full_df.head()"
   ]
  },
  {
   "cell_type": "code",
   "execution_count": null,
   "metadata": {},
   "outputs": [],
   "source": [
    "# threshold for how many synapses to count as an upstream partners\n",
    "\n",
    "def group_and_count_inputs(df, thresh):\n",
    "\n",
    "    # count the number of synapses between pairs of pre and post synaptic inputs\n",
    "    syn_in_conn=df.groupby(['pre_pt_root_id','post_pt_root_id']).transform(len)['id']\n",
    "    # save this result in a new column and reorder the index\n",
    "    df['syn_in_conn']=syn_in_conn\n",
    "    df = df[['id', 'pre_pt_root_id','post_pt_root_id','score','syn_in_conn']].sort_values('syn_in_conn', ascending=False).reset_index()\n",
    "\n",
    "    # Filter out small synapses between pairs of neurons and now print the shape\n",
    "    df = df[df['syn_in_conn']>=thresh]\n",
    "    # print(df.shape)\n",
    "    return df"
   ]
  },
  {
   "cell_type": "code",
   "execution_count": null,
   "metadata": {},
   "outputs": [],
   "source": [
    "thresh = 3 # minimum number of synapses to count as a connection\n",
    "syn_df = group_and_count_inputs(full_df, thresh = 3)\n",
    "print(\"{} synapses before thresholding\".format(len(full_df)))\n",
    "print(\"{} synapses with a {} synapse threshold\".format(len(syn_df), thresh))"
   ]
  },
  {
   "cell_type": "code",
   "execution_count": null,
   "metadata": {},
   "outputs": [],
   "source": [
    "# use the premotor annotation table to filter out fragments\n",
    "premotor_df = client.materialize.query_table('wing_premotor_v4')\n",
    "premotor_df = premotor_df[premotor_df.classification_system.isin(['local','local_intersegmental','descending','ascending','sensory'])]\n",
    "premotor_df = premotor_df.replace({'uk': 'unknown', 'unk2': 'unknown', 'unk3': 'unknown'})\n",
    "\n",
    "syn_df_premotor = syn_df[syn_df.pre_pt_root_id.isin(premotor_df.pt_root_id.to_list())]\n",
    "print(\"{} synapses with a {} synapse threshold and proofread preMNs\".format(len(syn_df_premotor), thresh))"
   ]
  },
  {
   "cell_type": "code",
   "execution_count": null,
   "metadata": {},
   "outputs": [],
   "source": [
    "# adjaceny matrix\n",
    "adj = pd.crosstab(syn_df_premotor.pre_pt_root_id, syn_df_premotor.post_pt_root_id)"
   ]
  },
  {
   "cell_type": "code",
   "execution_count": null,
   "metadata": {},
   "outputs": [],
   "source": [
    "# order the columns by motor module\n",
    "MN_order = ['DLM_1', 'DLM_2', 'DLM_3', 'DLM_4', 'DLM_5', 'DVM_1a', 'DVM_1b', 'DVM_1c', 'DVM_2a', 'DVM_2b', 'DVM_3a', 'DVM_3b', 'PS1', 'PSn_u', 'PS2', 'dtpmn_u', 'tp2', 'tpn', 'iii1', 'iii3', 'i2_u', 'i1', 'b3_u', 'b2', 'b1', 'hg2', 'hg1_u', 'hg3', 'hg4', 'iii4a_u']\n",
    "MN_dict = dict(zip(wing_MN_table.pt_root_id, wing_MN_table.cell_type))\n",
    " \n",
    "#rename columns in DataFrame using dictionary\n",
    "adj.rename(columns=MN_dict, inplace=True)\n",
    "adj_ordered = adj[MN_order]\n"
   ]
  },
  {
   "cell_type": "code",
   "execution_count": null,
   "metadata": {},
   "outputs": [],
   "source": [
    "# order the preMNs\n",
    "# order preMNs by cell class, preferred pool, synapse number\n",
    "\n",
    "# First, find the module preferred by each preMN\n",
    "\n",
    "# modules\n",
    "DLM_mod = ['DLM_1','DLM_2','DLM_3','DLM_4','DLM_5']\n",
    "DVM_mod = ['DVM_1a','DVM_1b','DVM_1c','DVM_2a','DVM_2b','DVM_3a','DVM_3b']\n",
    "tension_mod = ['PS1','PSn_u','PS2','dtpmn_u','tp2']\n",
    "steerA_mod = ['tpn','iii1','iii3']\n",
    "steerB_mod = ['i2_u','i1','b3_u']\n",
    "steerC_mod = ['b2','b1']\n",
    "hg2_mod = ['hg2']\n",
    "steerD_mod = ['hg1_u','hg3','hg4','iii4a_u']"
   ]
  },
  {
   "cell_type": "code",
   "execution_count": null,
   "metadata": {},
   "outputs": [],
   "source": [
    "preMN_prefs = pd.DataFrame(adj_ordered.sum(axis=1).rename_axis('pt_root_id').reset_index(name='MN_syn_total'))\n",
    "preMN_prefs['DLM_syn'] = adj_ordered.loc[:,DLM_mod].sum(axis=1).to_list()\n",
    "preMN_prefs['DVM_syn'] = adj_ordered.loc[:,DVM_mod].sum(axis=1).to_list()\n",
    "preMN_prefs['tension_syn'] = adj_ordered.loc[:,tension_mod].sum(axis=1).to_list()\n",
    "preMN_prefs['steerA_syn'] = adj_ordered.loc[:,steerA_mod].sum(axis=1).to_list()\n",
    "preMN_prefs['steerB_syn'] = adj_ordered.loc[:,steerB_mod].sum(axis=1).to_list()\n",
    "preMN_prefs['steerC_syn'] = adj_ordered.loc[:,steerC_mod].sum(axis=1).to_list()\n",
    "preMN_prefs['steerhg2_syn'] = adj_ordered.loc[:,hg2_mod].sum(axis=1).to_list()\n",
    "preMN_prefs['steerD_syn'] = adj_ordered.loc[:,steerD_mod].sum(axis=1).to_list()"
   ]
  },
  {
   "cell_type": "code",
   "execution_count": null,
   "metadata": {},
   "outputs": [],
   "source": [
    "# as a check, should be 0\n",
    "(preMN_prefs['MN_syn_total'].to_list() - preMN_prefs.iloc[:,2:].sum(axis=1)).sum()"
   ]
  },
  {
   "cell_type": "code",
   "execution_count": null,
   "metadata": {},
   "outputs": [],
   "source": [
    "# assign preferred pool\n",
    "preMN_prefs['pref'] = ''\n",
    "temp_df = preMN_prefs.iloc[:,2:-1].astype(float)\n",
    "\n",
    "i = 0\n",
    "while i < len(preMN_prefs):\n",
    "    preMN_prefs['pref'].iloc[i] = temp_df.loc[i].idxmax()\n",
    "    i = i + 1\n",
    "\n",
    "preMN_prefs.head()"
   ]
  },
  {
   "cell_type": "code",
   "execution_count": null,
   "metadata": {},
   "outputs": [],
   "source": [
    "# add cell class label to preference df for ordering\n",
    "preMN_prefs = preMN_prefs.merge(premotor_df[['pt_root_id','classification_system']], how='left')\n",
    "len(preMN_prefs)"
   ]
  },
  {
   "cell_type": "code",
   "execution_count": null,
   "metadata": {},
   "outputs": [],
   "source": [
    "# ordering info\n",
    "pref_order = ['DLM_syn','DVM_syn','tension_syn','steerA_syn','steerB_syn','steerC_syn','steerhg2_syn','steerD_syn']\n",
    "class_order = ['ascending','descending','sensory','local_intersegmental','local']\n",
    "\n",
    "from pandas.api.types import CategoricalDtype\n",
    "pref_order = CategoricalDtype(\n",
    "    pref_order, \n",
    "    ordered=True\n",
    ")\n",
    "\n",
    "from pandas.api.types import CategoricalDtype\n",
    "class_order = CategoricalDtype(\n",
    "    class_order, \n",
    "    ordered=True\n",
    ")"
   ]
  },
  {
   "cell_type": "code",
   "execution_count": null,
   "metadata": {},
   "outputs": [],
   "source": [
    "# order the preMNs\n",
    "# order preMNs by cell class, preferred pool, synapse number\n",
    "\n",
    "preMN_prefs['pref'] = preMN_prefs['pref'].astype(pref_order)\n",
    "preMN_prefs['classification_system'] = preMN_prefs['classification_system'].astype(class_order)\n",
    "\n",
    "sorted_preMNs = preMN_prefs.sort_values(by = ['classification_system','pref','MN_syn_total'], ascending=[True,True,False]).pt_root_id.to_list()"
   ]
  },
  {
   "cell_type": "code",
   "execution_count": null,
   "metadata": {},
   "outputs": [],
   "source": [
    "MNpreMN_ordered_adj = adj_ordered.reindex(sorted_preMNs)\n",
    "len(MNpreMN_ordered_adj)"
   ]
  },
  {
   "cell_type": "code",
   "execution_count": null,
   "metadata": {},
   "outputs": [],
   "source": [
    "utils.save_df_csv(MNpreMN_ordered_adj.index.to_frame(),'wing_premns_to_make_public')"
   ]
  },
  {
   "cell_type": "code",
   "execution_count": null,
   "metadata": {},
   "outputs": [],
   "source": [
    "# check that matrix looks normal\n",
    "fig = plt.figure(1, figsize = [4,6])\n",
    "cmap = cmocean.cm.dense\n",
    "\n",
    "log_df = np.log10(MNpreMN_ordered_adj +1)\n",
    "ax = sns.heatmap(log_df, cmap = cmap, yticklabels = '')\n",
    "\n",
    "plt.show()"
   ]
  },
  {
   "cell_type": "code",
   "execution_count": null,
   "metadata": {},
   "outputs": [],
   "source": [
    "# flat df (not multi index) with pt root ids\n",
    "MN_dict_r = dict(zip(MN_dict.values(), MN_dict.keys()))\n",
    "\n",
    "df = MNpreMN_ordered_adj.T\n",
    "df['MN_id'] = df.index.map(MN_dict_r)\n",
    "df = df.rename_axis('MN_label').reset_index()\n",
    "df2 = df.set_index(['MN_label','MN_id'], drop=True).T"
   ]
  },
  {
   "cell_type": "code",
   "execution_count": null,
   "metadata": {},
   "outputs": [],
   "source": [
    "df2.to_pickle('preMN_to_MN_wing_v604.pkl')"
   ]
  },
  {
   "cell_type": "code",
   "execution_count": null,
   "metadata": {},
   "outputs": [],
   "source": [
    "# make a multi index dataframe \n",
    "\n",
    "df = preMN_prefs\n",
    "df = df.merge(premotor_df[['pt_root_id','cell_type']], how='left')\n",
    "df = df.rename(columns={\"pt_root_id\":\"pre_pt_root_id\"})\n",
    "\n",
    "labeled_adj = MNpreMN_ordered_adj.reset_index().merge(df[['pre_pt_root_id','pref','classification_system','cell_type']], how='left')\n",
    "labeled_adj = labeled_adj.rename(columns={\"pref\": \"preferred_module\"})\n",
    "labeled_adj = labeled_adj.rename(columns={\"classification_system\":\"cell_class\"})\n",
    "len(labeled_adj)"
   ]
  },
  {
   "cell_type": "code",
   "execution_count": null,
   "metadata": {},
   "outputs": [],
   "source": [
    "# add neurotransmitter info - only to local and intersegmental neurons\n",
    "# NT lists - according to Lacin et al 2019\n",
    "GABA_list = ['11B', '0A', '6A', '3B', '5B', '19A', '6B', '12B', '13B', '13A','9A','1B']\n",
    "Glu_list = ['2A', '16B', '8A', '21A', '14A', '24B_'] #'15B', \n",
    "ACh_list = ['17A', '12A', '8B', '19B', '11A', '7B', '23B', '18B', '1A', '20A', '4B', '3A', '22A','10B','PSI']\n",
    "\n",
    "labeled_adj['putative_NT'] = 'unk' #unknown\n",
    "labeled_adj.loc[labeled_adj['cell_type'].isin(ACh_list), 'putative_NT'] = 'ACh'\n",
    "labeled_adj.loc[labeled_adj['cell_type'].isin(GABA_list), 'putative_NT'] = 'GABA'\n",
    "labeled_adj.loc[labeled_adj['cell_type'].isin(Glu_list), 'putative_NT'] = 'Glu'"
   ]
  },
  {
   "cell_type": "code",
   "execution_count": null,
   "metadata": {},
   "outputs": [],
   "source": [
    "multi_df = labeled_adj.set_index(['pre_pt_root_id', 'preferred_module', 'cell_type', 'cell_class','putative_NT'])"
   ]
  },
  {
   "cell_type": "code",
   "execution_count": 32,
   "metadata": {},
   "outputs": [],
   "source": [
    "multi_df.to_pickle(\"./preMN_to_MN_wing_v604.pkl\")"
   ]
  },
  {
   "cell_type": "code",
   "execution_count": null,
   "metadata": {},
   "outputs": [],
   "source": [
    "# also export synapse dataframe with pt positions\n",
    "df = full_df[full_df.pre_pt_root_id.isin(syn_df_premotor.pre_pt_root_id.to_list())]"
   ]
  },
  {
   "cell_type": "code",
   "execution_count": null,
   "metadata": {},
   "outputs": [],
   "source": [
    "df2 = df[['pre_pt_root_id','post_pt_root_id','pre_pt_position','post_pt_position']]"
   ]
  },
  {
   "cell_type": "code",
   "execution_count": null,
   "metadata": {},
   "outputs": [],
   "source": [
    "df2.to_pickle('syanpse_positions_wing_v604.pkl')"
   ]
  },
  {
   "cell_type": "code",
   "execution_count": null,
   "metadata": {},
   "outputs": [],
   "source": []
  }
 ],
 "metadata": {
  "kernelspec": {
   "display_name": ".fanc_env",
   "language": "python",
   "name": "python3"
  },
  "language_info": {
   "codemirror_mode": {
    "name": "ipython",
    "version": 3
   },
   "file_extension": ".py",
   "mimetype": "text/x-python",
   "name": "python",
   "nbconvert_exporter": "python",
   "pygments_lexer": "ipython3",
   "version": "3.9.15"
  },
  "orig_nbformat": 4
 },
 "nbformat": 4,
 "nbformat_minor": 2
}
