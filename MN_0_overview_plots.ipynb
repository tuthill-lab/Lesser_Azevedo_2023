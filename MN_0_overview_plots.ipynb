{
 "cells": [
  {
   "cell_type": "code",
   "execution_count": null,
   "metadata": {},
   "outputs": [],
   "source": [
    "import os\n",
    "import utils\n",
    "import connectome_create\n",
    "# viz_method = one of ['itkwidgets', 'vtk']\n",
    "viz_method = 'vtk'\n",
    "\n",
    "# import some of our favorite packages\n",
    "import pandas as pd\n",
    "import numpy as np\n",
    "import os\n",
    "import matplotlib.pyplot as plt\n",
    "import seaborn as sns\n",
    "import re\n",
    "import warnings\n",
    "\n",
    "%matplotlib inline\n",
    "from sklearn.metrics.pairwise import cosine_similarity\n",
    "from sklearn.cluster import AgglomerativeClustering\n",
    "# import nglui.statebuilder as ngstbld\n",
    "\n",
    "# # this is the EM specific package for querying the EM data\n",
    "from caveclient import CAVEclient\n",
    "\n",
    "from sklearn.decomposition import PCA\n",
    "from numpy.random import default_rng\n",
    "\n",
    "# from meshparty import trimesh_io, trimesh_vtk\n",
    "# from meshparty import skeletonize, skeleton_io, skeleton\n",
    "# import cloudvolume\n",
    "\n",
    "%load_ext autoreload\n",
    "%autoreload 2"
   ]
  },
  {
   "cell_type": "code",
   "execution_count": null,
   "metadata": {},
   "outputs": [],
   "source": [
    "# from pathlib import Path\n",
    "# import json\n",
    "\n",
    "# with open(Path.home() / '.cloudvolume/secrets/'/'cave-secret.json') as f:\n",
    "#         tokens = json.load(f)\n",
    "        \n",
    "# seg_source = 'graphene://https://cave.fanc-fly.com/segmentation/table/mar2021_prod'\n",
    "# cv = cloudvolume.CloudVolume(cloudpath=seg_source, use_https=True, secrets=tokens)"
   ]
  },
  {
   "cell_type": "code",
   "execution_count": null,
   "metadata": {
    "tags": []
   },
   "outputs": [],
   "source": [
    "datastack_name = 'fanc_production_mar2021'\n",
    "\n",
    "client = CAVEclient(datastack_name)"
   ]
  },
  {
   "cell_type": "code",
   "execution_count": null,
   "metadata": {
    "tags": []
   },
   "outputs": [],
   "source": [
    "# client = CAVEclient()\n",
    "\n",
    "# # if not os.path.isfile(os.path.expanduser(\"~/.cloudvolume/secrets/cave-secret.json\")):\n",
    "# client.auth.get_new_token(open=True)"
   ]
  },
  {
   "cell_type": "code",
   "execution_count": null,
   "metadata": {},
   "outputs": [],
   "source": [
    "# if you have not yet setup this computer, uncomment this below line\n",
    "# paste the token from the website in, and run the line\n",
    "\n",
    "# client.auth.save_token(token=\"c14cd7a3e18a1a697716a399afbf5778\", overwrite=True)\n",
    "\n",
    "# then comment or delete the line as you don't need to run it on this computer  again"
   ]
  },
  {
   "cell_type": "code",
   "execution_count": null,
   "metadata": {},
   "outputs": [],
   "source": [
    "pre_to_mn_df = connectome_create.load_pre_to_mn_df(ext='matched_typed_with_nt')\n",
    "pre_to_mn_df.shape"
   ]
  },
  {
   "attachments": {},
   "cell_type": "markdown",
   "metadata": {},
   "source": [
    "# Figure 2\n",
    "1. Connectivity matrix\n",
    "2. Numbers of each class"
   ]
  },
  {
   "cell_type": "code",
   "execution_count": null,
   "metadata": {},
   "outputs": [],
   "source": [
    "lbls = utils.mn_labels(pre_to_mn_df.columns.to_frame(),depth='rank')\n",
    "\n",
    "\n",
    "fig = plt.figure(1, figsize = [8,20])\n",
    "import cmocean\n",
    "cmap_alt = cmocean.cm.dense\n",
    "cmap = utils.white_dense()\n",
    "ax = sns.heatmap(np.log10(pre_to_mn_df.to_numpy()+1), xticklabels=lbls, cmap=cmap)\n",
    "ax.set_rasterized(True)\n",
    "cbar = ax.collections[0].colorbar\n",
    "# here set the labelsize by 20\n",
    "# cbar.ax.tick_params(labelsize=20)\n",
    "cbar.set_label(label = 'log 10 # of synapses', size=24)\n",
    "plt.xlabel('Motor Neurons', fontsize =18)\n",
    "# plt.ylabel(ylabelstring, fontsize =18)\n",
    "# plt.yticks(fontsize = 16)\n",
    "# plt.xticks(fontsize = 16)\n",
    "# plt.show()\n",
    "\n",
    "# plt.xlabel(None)\n",
    "# plt.ylabel(None)\n",
    "# plt.xticks([])\n",
    "# plt.yticks([])\n",
    "plt.show()\n",
    "\n",
    "\n",
    "fig.savefig('./figpanels/matched_premotor_to_motor.eps',format='eps',dpi=300, bbox_inches='tight')\n",
    "# plt.savefig('wingConnMatrix0110.eps', format='eps', bbox_inches='tight')\n",
    "# fig.savefig('./figpanels/matched_premotor_to_motor.png',format='png')"
   ]
  },
  {
   "attachments": {},
   "cell_type": "markdown",
   "metadata": {},
   "source": [
    "## Number of partners"
   ]
  },
  {
   "cell_type": "code",
   "execution_count": null,
   "metadata": {},
   "outputs": [],
   "source": [
    "# total number of synapses from actual neurons (no fragments)\n",
    "pre_to_mn_df.loc[(['local','intersegmental','ascending','sensory','descending'])].sum(axis=0).max()"
   ]
  },
  {
   "cell_type": "code",
   "execution_count": null,
   "metadata": {},
   "outputs": [],
   "source": [
    "# Double check the order of the neurons\n",
    "x = utils.xticks_from_pools(pre_to_mn_df.columns.to_frame())\n",
    "lbls = utils.mn_labels(pre_to_mn_df.columns.to_frame(),depth='rank')\n",
    "mat = pre_to_mn_df.to_numpy()\n",
    "y = pre_to_mn_df.astype(bool).sum(axis=0).to_numpy()\n",
    "\n",
    "fig = plt.figure(1, figsize=(20, 6))\n",
    "ax1 = plt.subplot2grid((1,1),(0,0))\n",
    "\n",
    "ax1.scatter(x, y,marker='o')\n",
    "plt.sca(ax1)\n",
    "plt.title('Number of descending neurons connected to each MN')\n",
    "plt.xlabel('MN')\n",
    "plt.ylabel('Number of inputs')\n",
    "locs, labels = plt.xticks(ticks=x, labels=lbls, rotation=90)\n",
    "\n",
    "ax1.set_ylim([0, 400])\n",
    "\n",
    "plt.savefig('./figpanels/total_partners.svg',format='svg')\n",
    "\n",
    "# mean number of partners\n",
    "y.mean()\n",
    "# max number of partners\n",
    "# y.max()"
   ]
  },
  {
   "attachments": {},
   "cell_type": "markdown",
   "metadata": {},
   "source": [
    "## Number of targets per preMN"
   ]
  },
  {
   "cell_type": "code",
   "execution_count": null,
   "metadata": {},
   "outputs": [],
   "source": [
    "pre_to_mn_df.head()\n",
    "partners = pre_to_mn_df.loc[(['local','intersegmental','ascending','sensory','descending'])].astype(bool).groupby(by='cell_class',axis=0).sum()\n",
    "# mean numbers of targets partners\n",
    "y = pre_to_mn_df.astype(bool).sum(axis=1).to_numpy()\n",
    "\n",
    "x = [i for i in range(len(pre_to_mn_df.index.to_frame()['cell_class'].values))]\n",
    "lbls = pre_to_mn_df.index.to_frame()['cell_class'].values\n",
    "\n",
    "fig = plt.figure(1, figsize=(20, 6))\n",
    "ax1 = plt.subplot2grid((1,1),(0,0))\n",
    "\n",
    "ax1.scatter(x, y,marker='o')\n",
    "plt.sca(ax1)\n",
    "plt.title('Number of MN targets per preMN')\n",
    "plt.xlabel('MN')\n",
    "plt.ylabel('Number of targets')\n",
    "locs, labels = plt.xticks(ticks=x, labels=lbls, rotation=90)\n",
    "\n",
    "# ax1.set_ylim([0, 400])\n",
    "\n",
    "plt.savefig('./figpanels/total_partners.svg',format='svg')\n",
    "\n",
    "# mean number of partners\n",
    "y.mean()\n",
    "# max number of partners\n",
    "# y.max()"
   ]
  },
  {
   "cell_type": "code",
   "execution_count": null,
   "metadata": {},
   "outputs": [],
   "source": [
    "mn_mi = partners.columns.to_frame()\n",
    "x = utils.xticks_from_mnmi(mn_mi)\n",
    "\n",
    "partners = pre_to_mn_df.loc[(['descending','sensory','ascending','intersegmental','local'])].astype(bool).groupby(by='cell_class',axis=0).sum()\n",
    "partners = partners.div(partners.sum(axis=0))\n",
    "partners = partners.loc[['descending','sensory','ascending','intersegmental','local'],:]\n",
    "\n",
    "classlist = ['local', 'intersegmental', 'ascending', 'sensory', 'descending','fragment',]\n",
    "colors = [\"#7D688E\",  \"#CC9FCC\",    \"#6084CC\",  \"#93E5B6\",  \"#79D0F7\",        \"#dddddd\", ]\n",
    "cmap = sns.set_palette(sns.color_palette(colors))\n",
    "\n",
    "ax = partners[::-1].T.plot(kind='bar', stacked=True, legend = False,width=1,cmap=cmap,figsize=(30,6)) \n",
    "plt.savefig('./figpanels/prepartners_from_cell_classes.svg',format='svg')"
   ]
  },
  {
   "cell_type": "code",
   "execution_count": null,
   "metadata": {},
   "outputs": [],
   "source": [
    "all_pre_to_mn_df = connectome_create.load_pre_to_mn_df('pre_match_to_pool_w_fragments')\n",
    "\n",
    "# Double check the order of the neurons\n",
    "x = utils.xticks_from_mnmi(mn_mi)\n",
    "x = utils.xticks_from_pools(mn_mi)\n",
    "lbls = utils.mn_labels(mn_mi,depth='rank')\n",
    "mat = all_pre_to_mn_df.to_numpy()\n",
    "y = mat.sum(axis=0)\n",
    "\n",
    "fig = plt.figure(1, figsize=(20, 6))\n",
    "ax1 = plt.subplot2grid((1,1),(0,0))\n",
    "\n",
    "ax1.scatter(x, y,marker='o')\n",
    "plt.sca(ax1)\n",
    "plt.title('Number of descending neurons connected to each MN')\n",
    "plt.xlabel('MN')\n",
    "plt.ylabel('Number of inputs')\n",
    "locs, labels = plt.xticks(ticks=x, labels=lbls, rotation=90)\n",
    "\n",
    "plt.savefig('./figpanels/total_inputs.svg',format='svg')"
   ]
  },
  {
   "attachments": {},
   "cell_type": "markdown",
   "metadata": {},
   "source": [
    "## Fraction of total input from each cell_class"
   ]
  },
  {
   "cell_type": "code",
   "execution_count": null,
   "metadata": {},
   "outputs": [],
   "source": [
    "mn_mi = all_pre_to_mn_df.columns.to_frame()\n",
    "x = utils.xticks_from_mnmi(mn_mi)\n",
    "\n",
    "frac_df = pd.DataFrame(index=['fragment','descending','sensory','ascending','intersegmental','local','x'],columns=pre_to_mn_df.columns)\n",
    "frac_df.loc['fragment',:] = all_pre_to_mn_df.loc['fragment'].sum(axis=0)\n",
    "frac_df.loc['descending',:] = all_pre_to_mn_df.loc['descending'].sum(axis=0)\n",
    "frac_df.loc['sensory',:] = all_pre_to_mn_df.loc['sensory'].sum(axis=0)\n",
    "frac_df.loc['ascending',:] = all_pre_to_mn_df.loc['ascending'].sum(axis=0)\n",
    "frac_df.loc['intersegmental',:] = all_pre_to_mn_df.loc['intersegmental'].sum(axis=0)\n",
    "frac_df.loc['local',:] = all_pre_to_mn_df.loc['local'].sum(axis=0)\n",
    "# frac_df.loc['motor',:] = mns.sum(axis=0)\n",
    "frac_df = frac_df/frac_df.sum(axis=0)\n",
    "frac_df.loc['x',:] = x\n",
    "\n",
    "# sns.set(rc = {'figure.figsize':(15,8)})\n",
    "\n",
    "\n",
    "# # locs, labels = plt.xticks(ticks=x, labels=lbls, rotation=90)\n",
    "          #'motor', 'nont1',    'desc',     'sens',     'ascend',   'local',    'intr',     'vnc',      'fragments'\n",
    "classlist = ['motor', 'descending', 'sensory', 'ascending', 'intersegmental','local',   'non_t1_motor', 'descending_post',  'sensory_post','ascending_post','neurmodulatory_ascending_neuron', 'vnc_non_premotor']\n",
    "colors = [\"#910951\",  \"#79D0F7\",    \"#93E5B6\",  \"#6084CC\",  \"#CC9FCC\",        \"#7D688E\", \"#CC4893\",      '#79D0F7',          \"#93E5B6\",      \"#6084CC\",      \"#CC4893\",                          \"#CC9FCC\"]\n",
    "classlist = ['fragment', 'descending', 'sensory', 'ascending', 'intersegmental','local',]\n",
    "colors = [\"#dddddd\",  \"#79D0F7\",    \"#93E5B6\",  \"#6084CC\",  \"#CC9FCC\",        \"#7D688E\", ]\n",
    "classlist = ['local', 'intersegmental', 'ascending', 'sensory', 'descending','fragment',]\n",
    "colors = [\"#7D688E\",  \"#CC9FCC\",    \"#6084CC\",  \"#93E5B6\",  \"#79D0F7\",        \"#dddddd\", ]\n",
    "cmap = sns.set_palette(sns.color_palette(colors))\n",
    "\n",
    "# ax = frac_df.T.plot(x='x',kind='barh', stacked=True, legend = True,align='edge') \n",
    "ax = frac_df[::-1].T.plot(x='x',kind='bar', stacked=True, legend = False,width=1,cmap=cmap,figsize=(30,6)) \n",
    "# Most of them are pretty close to 1\n",
    "\n",
    "# ax = frac_df.iloc[::-1].T.plot(x='x',kind='bar', stacked=True, legend = True) #, color=['aqua','red', 'steelblue','orange','yellow'])\n",
    "# locs, labels = plt.xticks(ticks=[i for i in range(len(lbls))], labels=lbls, rotation=90)\n",
    "plt.savefig('./figpanels/input_from_cell_classes.svg',format='svg')"
   ]
  },
  {
   "cell_type": "code",
   "execution_count": null,
   "metadata": {},
   "outputs": [],
   "source": []
  },
  {
   "attachments": {},
   "cell_type": "markdown",
   "metadata": {},
   "source": [
    "## Total fractional input from each class "
   ]
  },
  {
   "attachments": {},
   "cell_type": "markdown",
   "metadata": {},
   "source": [
    "### Pie chart  "
   ]
  },
  {
   "cell_type": "code",
   "execution_count": null,
   "metadata": {},
   "outputs": [],
   "source": [
    "piesums = all_pre_to_mn_df.groupby(level='cell_class').sum().sum(axis=1)\n",
    "piesums = piesums.loc[['local','intersegmental','motor','fragment','descending','sensory','ascending']]\n",
    "print(piesums.sum())\n",
    "piesums\n"
   ]
  },
  {
   "cell_type": "code",
   "execution_count": null,
   "metadata": {},
   "outputs": [],
   "source": [
    "fig, ax = plt.subplots( 1, 1, figsize=(8,8))\n",
    "ax.pie(piesums, explode=None, labels=piesums.index, autopct='%1.1f%%',\n",
    "              shadow=False, startangle=90)\n",
    "\n",
    "fname = './figpanels/class_input_to_mns_pie.svg'\n",
    "fig.savefig(fname,format='svg')"
   ]
  },
  {
   "attachments": {},
   "cell_type": "markdown",
   "metadata": {},
   "source": [
    "## Total synapses"
   ]
  },
  {
   "cell_type": "code",
   "execution_count": null,
   "metadata": {},
   "outputs": [],
   "source": [
    "print('Total synapses: {}'.format(piesums.sum()))"
   ]
  },
  {
   "attachments": {},
   "cell_type": "markdown",
   "metadata": {},
   "source": [
    "# Total sysnapses to FETi that are not fragments"
   ]
  },
  {
   "cell_type": "code",
   "execution_count": null,
   "metadata": {},
   "outputs": [],
   "source": [
    "all_pre_to_mn_df.loc[(['local','intersegmental','ascending','sensory','descending'])].sum(axis=0).max()"
   ]
  },
  {
   "attachments": {},
   "cell_type": "markdown",
   "metadata": {},
   "source": [
    "## Now print the segids for 13A as an example, then color them in neuroglancer"
   ]
  },
  {
   "cell_type": "code",
   "execution_count": null,
   "metadata": {},
   "outputs": [],
   "source": [
    "All = slice(None)\n",
    "pmn_index = pre_to_mn_df.index.to_frame()\n",
    "pmn_index_df = pmn_index.set_index(keys=['cell_class','preferred_pool','classification_system','cell_type'],drop=False)\n",
    "eg13A = pmn_index_df.loc[('local',All,'D', All,),:]\n",
    "pks = eg13A.preferred_pool.unique()\n",
    "\n",
    "pool_pal = {\n",
    "    'thorax_swing':'#ff4df0',\n",
    "    'thorax_stance':'#00bf4d',\n",
    "    'trochanter_extension':'#FCBE86',\n",
    "    'trochanter_flexion':'#95B0FC',\n",
    "    'femur_reductor':'#EC1C24',\n",
    "    'tibia_extensor':'#DB6800',\n",
    "    'main_tibia_flexor':'#203789',\n",
    "    'auxiliary_tibia_flexor_E':'#009B1D',\n",
    "    'ltm':'#FEDF08',\n",
    "    'tarsus_depressor_noid':'#FF8D8D',\n",
    "}\n",
    "# print('\"segmentColors\": {')    \n",
    "# for pl in eg13A.preferred_pool.unique():\n",
    "#     print(pl)\n",
    "#     # print(eg13A.loc[(All,pl,All),'segID'])\n",
    "#     for s in eg13A.loc[(All,pl,All),'segID'].to_list():\n",
    "#         print('\"{}\": \"{}\",'.format(s,pool_pal[pl]))\n",
    "# print('\"segments\": {')    \n",
    "# for pl in eg13A.preferred_pool.unique():\n",
    "#     for s in eg13A.loc[(All,pl,All),'segID'].to_list():\n",
    "#         print('\"{}\",'.format(s))\n"
   ]
  },
  {
   "cell_type": "code",
   "execution_count": null,
   "metadata": {},
   "outputs": [],
   "source": []
  },
  {
   "attachments": {},
   "cell_type": "markdown",
   "metadata": {},
   "source": [
    "## All"
   ]
  },
  {
   "cell_type": "code",
   "execution_count": null,
   "metadata": {},
   "outputs": [],
   "source": [
    "# Cluster according to everything but fragments\n",
    "mn_mi = pre_to_mn_df.columns.to_frame()\n",
    "lbls = utils.mn_labels(mn_mi,depth='rank')\n",
    "\n",
    "sim_mat = cosine_similarity(pre_to_mn_df.to_numpy().transpose())\n",
    "fig = plt.figure(1, figsize = [6,6])\n",
    "ax = sns.heatmap(sim_mat, xticklabels=mn_mi.segID.to_list(), yticklabels=lbls,cmap=plt.get_cmap('Greys'))\n",
    "ax.xaxis.set_ticks_position('top')\n",
    "cbar = ax.collections[0].colorbar\n",
    "ax.set_xticklabels(ax.get_xticklabels(),rotation = 90)\n",
    "\n",
    "# here set the labelsize by 20\n",
    "cbar.ax.tick_params(labelsize=20)\n",
    "cbar.set_label(label = 'cosine similarity', size=24)\n",
    "plt.xlabel('Motor Neurons', fontsize =18)\n",
    "plt.ylabel('Motor Neurons', fontsize =18)\n",
    "plt.yticks(fontsize = 16)\n",
    "plt.xticks(fontsize = 16)\n",
    "plt.show()\n",
    "\n",
    "fig.savefig('./figpanels/cos_sim_all_grayscale.svg',format='svg')"
   ]
  },
  {
   "attachments": {},
   "cell_type": "markdown",
   "metadata": {},
   "source": [
    "## Local"
   ]
  },
  {
   "cell_type": "code",
   "execution_count": null,
   "metadata": {},
   "outputs": [],
   "source": [
    "# Cluster according to everything but fragments\n",
    "mn_mi = pre_to_mn_df.columns.to_frame()\n",
    "lbls = utils.mn_labels(mn_mi,depth='rank')\n",
    "\n",
    "sim_mat = cosine_similarity(pre_to_mn_df.loc['local',:].to_numpy().transpose())\n",
    "fig = plt.figure(1, figsize = [6,6])\n",
    "ax = sns.heatmap(sim_mat, xticklabels=mn_mi.segID.to_list(), yticklabels=lbls,cmap=plt.get_cmap('Greys'))\n",
    "ax.xaxis.set_ticks_position('top')\n",
    "cbar = ax.collections[0].colorbar\n",
    "ax.set_xticklabels(ax.get_xticklabels(),rotation = 90)\n",
    "\n",
    "# here set the labelsize by 20\n",
    "cbar.ax.tick_params(labelsize=20)\n",
    "cbar.set_label(label = 'cosine similarity', size=24)\n",
    "plt.xlabel('Motor Neurons', fontsize =18)\n",
    "plt.ylabel('Motor Neurons', fontsize =18)\n",
    "plt.yticks(fontsize = 16)\n",
    "plt.xticks(fontsize = 16)\n",
    "plt.show()\n",
    "\n",
    "fig.savefig('./figpanels/cos_sim_local_grayscale.svg',format='svg')"
   ]
  },
  {
   "attachments": {},
   "cell_type": "markdown",
   "metadata": {},
   "source": [
    "## Intersegmental"
   ]
  },
  {
   "cell_type": "code",
   "execution_count": null,
   "metadata": {},
   "outputs": [],
   "source": [
    "# Cluster according to everything but fragments\n",
    "mn_mi = pre_to_mn_df.columns.to_frame()\n",
    "lbls = utils.mn_labels(mn_mi,depth='rank')\n",
    "\n",
    "sim_mat = cosine_similarity(pre_to_mn_df.loc['intersegmental',:].to_numpy().transpose())\n",
    "fig = plt.figure(1, figsize = [6,6])\n",
    "ax = sns.heatmap(sim_mat, xticklabels=mn_mi.segID.to_list(), yticklabels=lbls,cmap=plt.get_cmap('Greys'))\n",
    "ax.xaxis.set_ticks_position('top')\n",
    "cbar = ax.collections[0].colorbar\n",
    "ax.set_xticklabels(ax.get_xticklabels(),rotation = 90)\n",
    "\n",
    "# here set the labelsize by 20\n",
    "cbar.ax.tick_params(labelsize=20)\n",
    "cbar.set_label(label = 'cosine similarity', size=24)\n",
    "plt.xlabel('Motor Neurons', fontsize =18)\n",
    "plt.ylabel('Motor Neurons', fontsize =18)\n",
    "plt.yticks(fontsize = 16)\n",
    "plt.xticks(fontsize = 16)\n",
    "plt.show()\n",
    "\n",
    "fig.savefig('./figpanels/cos_sim_intersegmental_grayscale.svg',format='svg')"
   ]
  },
  {
   "attachments": {},
   "cell_type": "markdown",
   "metadata": {},
   "source": [
    "## Descending"
   ]
  },
  {
   "cell_type": "code",
   "execution_count": null,
   "metadata": {},
   "outputs": [],
   "source": [
    "# Cluster according to everything but fragments\n",
    "mn_mi = pre_to_mn_df.columns.to_frame()\n",
    "lbls = utils.mn_labels(mn_mi,depth='rank')\n",
    "\n",
    "sim_mat = cosine_similarity(pre_to_mn_df.loc['descending',:].to_numpy().transpose())\n",
    "fig = plt.figure(1, figsize = [6,6])\n",
    "ax = sns.heatmap(sim_mat, xticklabels=mn_mi.segID.to_list(), yticklabels=lbls,cmap=plt.get_cmap('Greys'))\n",
    "ax.xaxis.set_ticks_position('top')\n",
    "cbar = ax.collections[0].colorbar\n",
    "ax.set_xticklabels(ax.get_xticklabels(),rotation = 90)\n",
    "\n",
    "# here set the labelsize by 20\n",
    "cbar.ax.tick_params(labelsize=20)\n",
    "cbar.set_label(label = 'cosine similarity', size=24)\n",
    "plt.xlabel('Motor Neurons', fontsize =18)\n",
    "plt.ylabel('Motor Neurons', fontsize =18)\n",
    "plt.yticks(fontsize = 16)\n",
    "plt.xticks(fontsize = 16)\n",
    "plt.show()\n",
    "\n",
    "fig.savefig('./figpanels/cos_sim_descending_grayscale.svg',format='svg')"
   ]
  },
  {
   "attachments": {},
   "cell_type": "markdown",
   "metadata": {},
   "source": [
    "## Ascending"
   ]
  },
  {
   "cell_type": "code",
   "execution_count": null,
   "metadata": {},
   "outputs": [],
   "source": [
    "# Cluster according to everything but fragments\n",
    "mn_mi = pre_to_mn_df.columns.to_frame()\n",
    "lbls = utils.mn_labels(mn_mi,depth='rank')\n",
    "\n",
    "sim_mat = cosine_similarity(pre_to_mn_df.loc['ascending',:].to_numpy().transpose())\n",
    "fig = plt.figure(1, figsize = [6,6])\n",
    "ax = sns.heatmap(sim_mat, xticklabels=mn_mi.segID.to_list(), yticklabels=lbls,cmap=plt.get_cmap('Greys'))\n",
    "ax.xaxis.set_ticks_position('top')\n",
    "cbar = ax.collections[0].colorbar\n",
    "ax.set_xticklabels(ax.get_xticklabels(),rotation = 90)\n",
    "\n",
    "# here set the labelsize by 20\n",
    "cbar.ax.tick_params(labelsize=20)\n",
    "cbar.set_label(label = 'cosine similarity', size=24)\n",
    "plt.xlabel('Motor Neurons', fontsize =18)\n",
    "plt.ylabel('Motor Neurons', fontsize =18)\n",
    "plt.yticks(fontsize = 16)\n",
    "plt.xticks(fontsize = 16)\n",
    "plt.show()\n",
    "\n",
    "fig.savefig('./figpanels/cos_sim_ascending_grayscale.svg',format='svg')"
   ]
  },
  {
   "attachments": {},
   "cell_type": "markdown",
   "metadata": {},
   "source": [
    "## Sensory"
   ]
  },
  {
   "cell_type": "code",
   "execution_count": null,
   "metadata": {},
   "outputs": [],
   "source": [
    "# Cluster according to everything but fragments\n",
    "mn_mi = pre_to_mn_df.columns.to_frame()\n",
    "lbls = utils.mn_labels(mn_mi,depth='rank')\n",
    "\n",
    "sim_mat = cosine_similarity(pre_to_mn_df.loc['sensory',:].to_numpy().transpose())\n",
    "fig = plt.figure(1, figsize = [6,6])\n",
    "ax = sns.heatmap(sim_mat, xticklabels=mn_mi.segID.to_list(), yticklabels=lbls,cmap=plt.get_cmap('Greys'))\n",
    "ax.xaxis.set_ticks_position('top')\n",
    "cbar = ax.collections[0].colorbar\n",
    "ax.set_xticklabels(ax.get_xticklabels(),rotation = 90)\n",
    "\n",
    "# here set the labelsize by 20\n",
    "cbar.ax.tick_params(labelsize=20)\n",
    "cbar.set_label(label = 'cosine similarity', size=24)\n",
    "plt.xlabel('Motor Neurons', fontsize =18)\n",
    "plt.ylabel('Motor Neurons', fontsize =18)\n",
    "plt.yticks(fontsize = 16)\n",
    "plt.xticks(fontsize = 16)\n",
    "plt.show()\n",
    "\n",
    "fig.savefig('./figpanels/cos_sim_sensory_grayscale.svg',format='svg')"
   ]
  },
  {
   "cell_type": "code",
   "execution_count": null,
   "metadata": {},
   "outputs": [],
   "source": []
  },
  {
   "attachments": {},
   "cell_type": "markdown",
   "metadata": {},
   "source": [
    "## Regress local vs. normal, vs. descending, etc."
   ]
  },
  {
   "cell_type": "code",
   "execution_count": null,
   "metadata": {},
   "outputs": [],
   "source": [
    "mn_mi_df = pre_to_mn_df.columns.to_frame()\n",
    "mn_mi_df\n",
    "\n",
    "# Ha! for this, put the tarsus neurons in the right pools\n",
    "muscle_tuple_dict = utils.get_motor_pool_tuple_dict()\n",
    "pool_keys = [\n",
    "    'thorax_swing',\n",
    "    'thorax_stance',\n",
    "    'trochanter_extension',\n",
    "    'trochanter_flexion',\n",
    "    'femur_reductor',\n",
    "    'tibia_extensor',\n",
    "    'main_tibia_flexor',\n",
    "    # 'auxiliary_tibia_flexor_A',\n",
    "    'auxiliary_tibia_flexor_B',\n",
    "    'auxiliary_tibia_flexor_E',\n",
    "    'ltm',\n",
    "    'tarsus_depressor',\n",
    "    ]\n",
    "\n",
    "\n",
    "    #  'main_tibia_flexor_wtarsus':                 \n",
    "    #  'auxiliary_tibia_flexor_B_wtarsus':\n",
    "    #  'auxiliary_tibia_flexor_E_wtarsus':\n",
    "    #             'tarsus_depressor_medial':\n",
    "    #             'tarsus_depressor_ventralU':  \n",
    "pool_keys = [\n",
    "    'thorax_swing',\n",
    "    'thorax_stance',\n",
    "    'trochanter_extension',\n",
    "    'trochanter_flexion',\n",
    "    'femur_reductor',\n",
    "    'tibia_extensor',\n",
    "    'main_tibia_flexor_wtarsus',\n",
    "    # 'auxiliary_tibia_flexor_A',\n",
    "    'auxiliary_tibia_flexor_B_wtarsus',\n",
    "    'auxiliary_tibia_flexor_E_wtarsus',\n",
    "    'ltm',\n",
    "    'tarsus_depressor_medial',\n",
    "    'tarsus_depressor_ventralU'\n",
    "    ]\n",
    "\n",
    "\n",
    "for key in pool_keys:\n",
    "    mn_tup = muscle_tuple_dict[key]\n",
    "    mn_mi_df.loc[mn_tup,'preferred_pool'] = key\n",
    "\n",
    "mn_mi_df.preferred_pool = mn_mi_df.preferred_pool.astype(\"category\")\n",
    "mn_mi_df.preferred_pool = mn_mi_df.preferred_pool.cat.set_categories(pool_keys)\n",
    "mn_mi_df"
   ]
  },
  {
   "cell_type": "code",
   "execution_count": null,
   "metadata": {},
   "outputs": [],
   "source": [
    "sim_mat_all = cosine_similarity(pre_to_mn_df.to_numpy().transpose())\n",
    "sim_mat_local = cosine_similarity(pre_to_mn_df.loc['local',:].to_numpy().transpose())\n",
    "sim_mat_desc = cosine_similarity(pre_to_mn_df.loc['descending',:].to_numpy().transpose())\n",
    "sim_mat_inter = cosine_similarity(pre_to_mn_df.loc['intersegmental',:].to_numpy().transpose())\n",
    "sim_mat_ascending = cosine_similarity(pre_to_mn_df.loc['ascending',:].to_numpy().transpose())\n",
    "sim_mat_sensory = cosine_similarity(pre_to_mn_df.loc['sensory',:].to_numpy().transpose())\n",
    "\n",
    "tril_mask = np.full((sim_mat_all.shape[0], sim_mat_all.shape[1]), True, dtype=bool)\n",
    "motor_pool_mask = np.full((sim_mat_all.shape[0], sim_mat_all.shape[1]), False, dtype=bool)\n",
    "i_index = np.full((sim_mat_all.shape[0], sim_mat_all.shape[1]), 0, dtype=int)\n",
    "j_index = np.full((sim_mat_all.shape[0], sim_mat_all.shape[1]), 0, dtype=int)\n",
    "for i in range(motor_pool_mask.shape[0]):\n",
    "    for j in range(motor_pool_mask.shape[1]):\n",
    "        motor_pool_mask[i,j] =(mn_mi_df.iloc[i,:].preferred_pool==mn_mi_df.iloc[j,:].preferred_pool)\n",
    "        i_index[i,j] = i\n",
    "        j_index[i,j] = j\n",
    "\n",
    "fig = plt.figure(1, figsize = [6,6])\n",
    "ax = sns.heatmap(motor_pool_mask, xticklabels=mn_mi_df.preferred_pool.to_list(),cmap=plt.get_cmap('Greys'))\n",
    "\n",
    "# fig = plt.figure(2, figsize = [6,6])\n",
    "# ax = sns.heatmap(np.tril(motor_pool_mask,-1), xticklabels=mn_mi_df.preferred_pool.to_list(),cmap=plt.get_cmap('Greys'))\n",
    "\n",
    "tril_mask = np.tril(tril_mask,-1)\n",
    "\n",
    "pool_arr = mn_mi_df.preferred_pool.to_numpy()\n",
    "pool_arr = np.tile(pool_arr.reshape((-1,1)),len(pool_arr))\n",
    "pool_arr.reshape(-1)"
   ]
  },
  {
   "cell_type": "code",
   "execution_count": null,
   "metadata": {},
   "outputs": [],
   "source": [
    "sim_dict = {\n",
    "    'all_comps':sim_mat_all.reshape(-1),\n",
    "    'local':sim_mat_local.reshape(-1),\n",
    "    'desc':sim_mat_desc.reshape(-1),\n",
    "    'inter':sim_mat_inter.reshape(-1),\n",
    "    'asce':sim_mat_ascending.reshape(-1),\n",
    "    'sense':sim_mat_sensory.reshape(-1),\n",
    "    'pool':pool_arr.reshape(-1),\n",
    "    'same_pool': motor_pool_mask.reshape(-1),\n",
    "    'lower_tri':tril_mask.reshape(-1),\n",
    "    'i_index':i_index.reshape(-1),\n",
    "    'j_index':j_index.reshape(-1)\n",
    "    }\n"
   ]
  },
  {
   "cell_type": "code",
   "execution_count": null,
   "metadata": {},
   "outputs": [],
   "source": [
    "\n",
    "sim_compare_df = pd.DataFrame.from_dict(data = sim_dict,orient='columns')\n",
    "sim_compare_df\n",
    "# # get rid of upper triangle\n",
    "sim_compare_df = sim_compare_df.loc[sim_compare_df.lower_tri.to_numpy()]\n",
    "sim_compare_df\n"
   ]
  },
  {
   "attachments": {},
   "cell_type": "markdown",
   "metadata": {},
   "source": [
    "# Rain cloud plots if within vs across pool cosine similarity"
   ]
  },
  {
   "cell_type": "code",
   "execution_count": null,
   "metadata": {},
   "outputs": [],
   "source": [
    "all(sim_compare_df.lower_tri)\n",
    "sim_compare_df"
   ]
  },
  {
   "cell_type": "code",
   "execution_count": null,
   "metadata": {},
   "outputs": [],
   "source": [
    "(~sim_compare_df['same_pool']).sum()+sim_compare_df['same_pool'].sum()"
   ]
  },
  {
   "cell_type": "code",
   "execution_count": null,
   "metadata": {},
   "outputs": [],
   "source": [
    "# f, ax = plt.subplots(figsize=(7, 7))\n",
    "# # seaborn.violinplot(data=pprst, *, x=None, y=None, hue=None, order=None, hue_order=None, bw='scott', cut=2, scale='area', scale_hue=True, gridsize=100, width=0.8, inner='box', split=False, dodge=True, orient=None, linewidth=None, color=None, palette=None, saturation=0.75, ax=None, **kwargs)\n",
    "# seaborn.violinplot(data=pprst,x='NT',y='pref_perc', orient='vertical',scale='count', cut=0, ax=ax)\n",
    "# # sns.stripplot(data=pprst,x='NT',y='pref_perc',hue='syn_total',ax=ax)\n",
    "\n",
    "\n",
    "# f, ax = plt.subplots(figsize=(7, 7))\n",
    "# sns.violinplot(data=sim_compare_df,x='same_pool',y='all_comps',orient='vertical',scale='area', cut=0, ax=ax)\n",
    "\n",
    "# sim_same_pool = sim_compare_df.loc[sim_compare_df.same_pool,:]\n",
    "sim_same_pool_stacked = sim_compare_df.loc[:,['all_comps','pool','same_pool','lower_tri']]\n",
    "sim_same_pool_stacked['comp_cat'] = 'all_comps'\n",
    "sim_same_pool_stacked = sim_same_pool_stacked.rename({'all_comps':'cos_sim'},axis='columns')\n",
    "\n",
    "block = sim_compare_df.loc[:,['local','pool','same_pool','lower_tri']]\n",
    "block['comp_cat'] = 'local'\n",
    "block = block.rename({'local':'cos_sim'},axis='columns')\n",
    "\n",
    "sim_same_pool_stacked = pd.concat([sim_same_pool_stacked,block])\n",
    "sim_same_pool_stacked\n",
    "\n",
    "block = sim_compare_df.loc[:,['inter','pool','same_pool','lower_tri']]\n",
    "block['comp_cat'] = 'inter'\n",
    "block = block.rename({'inter':'cos_sim'},axis='columns')\n",
    "\n",
    "sim_same_pool_stacked = pd.concat([sim_same_pool_stacked,block])\n",
    "sim_same_pool_stacked\n",
    "\n",
    "block = sim_compare_df.loc[:,['desc','pool','same_pool','lower_tri']]\n",
    "block['comp_cat'] = 'desc'\n",
    "block = block.rename({'desc':'cos_sim'},axis='columns')\n",
    "\n",
    "sim_same_pool_stacked = pd.concat([sim_same_pool_stacked,block])\n",
    "\n",
    "block = sim_compare_df.loc[:,['asce','pool','same_pool','lower_tri']]\n",
    "block['comp_cat'] = 'asce'\n",
    "block = block.rename({'asce':'cos_sim'},axis='columns')\n",
    "\n",
    "sim_same_pool_stacked = pd.concat([sim_same_pool_stacked,block])\n",
    "\n",
    "block = sim_compare_df.loc[:,['sense','pool','same_pool','lower_tri']]\n",
    "block['comp_cat'] = 'sense'\n",
    "block = block.rename({'sense':'cos_sim'},axis='columns')\n",
    "\n",
    "sim_same_pool_stacked = pd.concat([sim_same_pool_stacked,block])\n",
    "sim_same_pool_stacked\n",
    "\n",
    "# ax.set_ylim([0,1.1])\n",
    "# f.savefig('./figpanels/cosine_sim_violin_all_comps.svg',format='svg')\n",
    "\n",
    "# ax.set_ylim([0,1.1])\n",
    "\n",
    "# f.savefig('./figpanels/pool_pref_by_NT_violin.svg',format='svg')\n",
    "\n",
    "f, ax = plt.subplots(figsize=(7, 7))\n",
    "sns.violinplot(data=sim_same_pool_stacked.loc[sim_same_pool_stacked.same_pool],x='comp_cat',y='cos_sim',orient='vertical',scale='area', cut=0, ax=ax,bw=.25)\n",
    "\n",
    "f.savefig('./figpanels/cosine_sim_violin_same_pool.svg',format='svg')\n",
    "\n",
    "f, ax = plt.subplots(figsize=(7, 7))\n",
    "sns.violinplot(data=sim_same_pool_stacked.loc[~sim_same_pool_stacked.same_pool,:],x='comp_cat',y='cos_sim',orient='vertical',scale='area', cut=0, ax=ax,bw=.25)\n",
    "\n",
    "f.savefig('./figpanels/cosine_sim_violin_different_pools.svg',format='svg')\n",
    "\n",
    "\n",
    "f, ax = plt.subplots(figsize=(7, 7))\n",
    "sns.stripplot(data=sim_same_pool_stacked.loc[sim_same_pool_stacked.same_pool],x='comp_cat',y='cos_sim',ax=ax)\n",
    "\n",
    "f.savefig('./figpanels/cosine_sim_rain_same_pool.svg',format='svg')\n",
    "\n",
    "f, ax = plt.subplots(figsize=(7, 7))\n",
    "sns.stripplot(data=sim_same_pool_stacked.loc[~sim_same_pool_stacked.same_pool,:],x='comp_cat',y='cos_sim',ax=ax)\n",
    "\n",
    "f.savefig('./figpanels/cosine_sim_rain_different_pools.svg',format='svg')"
   ]
  },
  {
   "cell_type": "code",
   "execution_count": null,
   "metadata": {},
   "outputs": [],
   "source": [
    "# Stats"
   ]
  },
  {
   "cell_type": "code",
   "execution_count": null,
   "metadata": {},
   "outputs": [],
   "source": [
    "sim_w_pool = sim_compare_df.loc[sim_compare_df['same_pool'],:]\n",
    "sim_w_pool.melt(value_vars=['all_comps','local','desc','inter'])"
   ]
  },
  {
   "cell_type": "code",
   "execution_count": null,
   "metadata": {},
   "outputs": [],
   "source": [
    "import scipy\n",
    "scipy.stats.kruskal(sim_w_pool['all_comps'],\n",
    "                    sim_w_pool['local'],\n",
    "                    sim_w_pool['desc'],\n",
    "                    sim_w_pool['inter'],)\n",
    "# scipy.stats.kruskal(ratiodf.iloc[:,0],ratiodf.iloc[:,1],ratiodf.iloc[:,2],ratiodf.iloc[:,3],ratiodf.iloc[:,4],ratiodf.iloc[:,5],ratiodf.iloc[:,6],ratiodf.iloc[:,7],ratiodf.iloc[:,8])"
   ]
  },
  {
   "cell_type": "code",
   "execution_count": null,
   "metadata": {},
   "outputs": [],
   "source": [
    "import scikit_posthocs \n",
    "\n",
    "scikit_posthocs.posthoc_conover(sim_w_pool.melt(value_vars=['all_comps','local','desc','inter']),val_col= 'value',group_col='variable',p_adjust='holm')\n"
   ]
  },
  {
   "cell_type": "code",
   "execution_count": null,
   "metadata": {},
   "outputs": [],
   "source": [
    "# f, ax = plt.subplots(figsize=(7, 7))\n",
    "# # seaborn.violinplot(data=pprst, *, x=None, y=None, hue=None, order=None, hue_order=None, bw='scott', cut=2, scale='area', scale_hue=True, gridsize=100, width=0.8, inner='box', split=False, dodge=True, orient=None, linewidth=None, color=None, palette=None, saturation=0.75, ax=None, **kwargs)\n",
    "# seaborn.violinplot(data=pprst,x='NT',y='pref_perc', orient='vertical',scale='count', cut=0, ax=ax)\n",
    "# # sns.stripplot(data=pprst,x='NT',y='pref_perc',hue='syn_total',ax=ax)\n",
    "\n",
    "\n",
    "# f, ax = plt.subplots(figsize=(7, 7))\n",
    "# sns.violinplot(data=sim_compare_df,x='same_pool',y='all_comps',orient='vertical',scale='area', cut=0, ax=ax)\n",
    "\n",
    "# sim_same_pool = sim_compare_df.loc[sim_compare_df.same_pool,:]\n",
    "sim_same_pool_stacked = sim_compare_df.loc[:,['all_comps','pool','same_pool','lower_tri']]\n",
    "sim_same_pool_stacked['comp_cat'] = 'all_comps'\n",
    "sim_same_pool_stacked = sim_same_pool_stacked.rename({'all_comps':'cos_sim'},axis='columns')\n",
    "\n",
    "block = sim_compare_df.loc[:,['local','pool','same_pool','lower_tri']]\n",
    "block['comp_cat'] = 'local'\n",
    "block = block.rename({'local':'cos_sim'},axis='columns')\n",
    "\n",
    "sim_same_pool_stacked = pd.concat([sim_same_pool_stacked,block])\n",
    "sim_same_pool_stacked\n",
    "\n",
    "block = sim_compare_df.loc[:,['inter','pool','same_pool','lower_tri']]\n",
    "block['comp_cat'] = 'long_range'\n",
    "block = block.rename({'inter':'cos_sim'},axis='columns')\n",
    "\n",
    "sim_same_pool_stacked = pd.concat([sim_same_pool_stacked,block])\n",
    "sim_same_pool_stacked\n",
    "\n",
    "block = sim_compare_df.loc[:,['desc','pool','same_pool','lower_tri']]\n",
    "block['comp_cat'] = 'long_range'\n",
    "block = block.rename({'desc':'cos_sim'},axis='columns')\n",
    "\n",
    "sim_same_pool_stacked = pd.concat([sim_same_pool_stacked,block])\n",
    "sim_same_pool_stacked\n",
    "\n",
    "# ax.set_ylim([0,1.1])\n",
    "# f.savefig('./figpanels/cosine_sim_violin_all_comps.svg',format='svg')\n",
    "\n",
    "# ax.set_ylim([0,1.1])\n",
    "\n",
    "# f.savefig('./figpanels/pool_pref_by_NT_violin.svg',format='svg')\n",
    "\n",
    "f, ax = plt.subplots(figsize=(7, 7))\n",
    "sns.violinplot(data=sim_same_pool_stacked.loc[sim_same_pool_stacked.same_pool],x='comp_cat',y='cos_sim',orient='vertical',scale='area', cut=0, ax=ax,bw=.25)\n",
    "\n",
    "f.savefig('./figpanels/cosine_sim_violin_same_pool_long.svg',format='svg')\n",
    "\n",
    "f, ax = plt.subplots(figsize=(7, 7))\n",
    "sns.violinplot(data=sim_same_pool_stacked.loc[~sim_same_pool_stacked.same_pool,:],x='comp_cat',y='cos_sim',orient='vertical',scale='area', cut=0, ax=ax, bw=.3)\n",
    "\n",
    "f.savefig('./figpanels/cosine_sim_violin_different_pools_long.svg',format='svg')\n",
    "\n",
    "\n",
    "f, ax = plt.subplots(figsize=(7, 7))\n",
    "sns.stripplot(data=sim_same_pool_stacked.loc[sim_same_pool_stacked.same_pool],x='comp_cat',y='cos_sim',ax=ax)\n",
    "\n",
    "f.savefig('./figpanels/cosine_sim_rain_same_pool_long.svg',format='svg')\n",
    "\n",
    "f, ax = plt.subplots(figsize=(7, 7))\n",
    "sns.stripplot(data=sim_same_pool_stacked.loc[~sim_same_pool_stacked.same_pool,:],x='comp_cat',y='cos_sim',ax=ax)\n",
    "\n",
    "f.savefig('./figpanels/cosine_sim_rain_different_pools_long.svg',format='svg')"
   ]
  },
  {
   "attachments": {},
   "cell_type": "markdown",
   "metadata": {},
   "source": [
    "# Stats"
   ]
  },
  {
   "cell_type": "code",
   "execution_count": null,
   "metadata": {},
   "outputs": [],
   "source": [
    "# Simple version, just mean and std of same pool, not same pool\n",
    "x = sim_compare_df.loc[sim_compare_df.same_pool,'local'].mean()\n",
    "y = sim_compare_df.loc[sim_compare_df.same_pool,'inter'].mean()\n",
    "\n",
    "x2 = sim_compare_df.loc[~sim_compare_df.same_pool,'local'].mean()\n",
    "y2 = sim_compare_df.loc[~sim_compare_df.same_pool,'inter'].mean()\n"
   ]
  },
  {
   "cell_type": "code",
   "execution_count": null,
   "metadata": {},
   "outputs": [],
   "source": [
    "import scipy\n",
    "\n",
    "scipy.stats.ttest_rel(sim_compare_df.loc[sim_compare_df.same_pool,'local'],sim_compare_df.loc[sim_compare_df.same_pool,'all_comps'],alternative='two-sided',axis=0)"
   ]
  },
  {
   "cell_type": "code",
   "execution_count": null,
   "metadata": {},
   "outputs": [],
   "source": [
    "sim_compare_df.loc[~sim_compare_df.same_pool,'local'].to_numpy()"
   ]
  },
  {
   "cell_type": "code",
   "execution_count": null,
   "metadata": {},
   "outputs": [],
   "source": []
  },
  {
   "attachments": {},
   "cell_type": "markdown",
   "metadata": {},
   "source": [
    "# PCA"
   ]
  },
  {
   "attachments": {},
   "cell_type": "markdown",
   "metadata": {},
   "source": [
    "# All leg modules"
   ]
  },
  {
   "cell_type": "code",
   "execution_count": null,
   "metadata": {},
   "outputs": [],
   "source": [
    "import utils\n",
    "mpool_dict = utils.get_motor_pool_tuple_dict()\n",
    "pool_keys = [\n",
    "    'thorax_swing',\n",
    "    'thorax_stance',\n",
    "    'trochanter_extension', \n",
    "    'tergotrochanter',          \n",
    "    'extracoxal_trochanter_depressor',\n",
    "    'trochanter_extensor',\n",
    "    'trochanter_flexion',\n",
    "    'femur_reductor',\n",
    "    'tibia_extensor',\n",
    "    'main_tibia_flexor_wtarsus',\n",
    "    'auxiliary_tibia_flexor_B_wtarsus',\n",
    "    'auxiliary_tibia_flexor_E_wtarsus',\n",
    "    # 'main_tibia_flexor',      # main_tibia_flexor for both main and A groups, or main_tibia_flexor_muscle for the muscle\n",
    "    # 'auxiliary_tibia_flexor_B',\n",
    "    # 'auxiliary_tibia_flexor_E',\n",
    "    'ltm',\n",
    "    'ltm_tiny_small',\n",
    "    'ltm_tibia',\n",
    "    'ltm_femur',\n",
    "    # 'tarsus_depressor_med_venU',\n",
    "    # 'tarsus_depressor_noid',\n",
    "    ]\n",
    "\n",
    "pref_pool_dict = {\n",
    "    'thorax_swing': 'thorax_swing',\n",
    "    'thorax_stance': 'thorax_stance',\n",
    "    'trochanter_extension': 'trochanter_extension',\n",
    "    'tergotrochanter': 'trochanter_extension',\n",
    "    'extracoxal_trochanter_depressor' : 'trochanter_extension',\n",
    "    'trochanter_extensor': 'trochanter_extension',\n",
    "    'trochanter_flexion': 'trochanter_flexion',\n",
    "    'femur_reductor':  'femur_reductor',\n",
    "    'tibia_extensor': 'tibia_extensor',\n",
    "    'main_tibia_flexor_wtarsus': 'main_tibia_flexor',\n",
    "    'auxiliary_tibia_flexor_B_wtarsus': 'auxiliary_tibia_flexor_B',\n",
    "    'auxiliary_tibia_flexor_E_wtarsus':  'auxiliary_tibia_flexor_E',\n",
    "    'ltm': 'ltm',\n",
    "    'ltm_tiny_small': 'ltm',\n",
    "    'ltm_tibia': 'ltm',\n",
    "    'ltm_femur': 'ltm',\n",
    "    #'tarsus_depressor_med_venU': ,\n",
    "}\n",
    "fname = './figpanels/PCA_leg_modules_pct_tr_ext_ltm_breakout.svg'\n",
    "# pre_to_mn_df.head()\n",
    "# mpool_dict"
   ]
  },
  {
   "cell_type": "code",
   "execution_count": null,
   "metadata": {},
   "outputs": [],
   "source": [
    "import utils\n",
    "mpool_dict = utils.get_motor_pool_tuple_dict()\n",
    "pool_keys = [\n",
    "    'thorax_swing',\n",
    "    'thorax_stance',\n",
    "    'trochanter_extension', \n",
    "    # 'tergotrochanter',          \n",
    "    # 'extracoxal_trochanter_depressor',\n",
    "    # 'trochanter_extensor',\n",
    "    'trochanter_flexion',\n",
    "    'femur_reductor',\n",
    "    'tibia_extensor',\n",
    "    'main_tibia_flexor_wtarsus',\n",
    "    'auxiliary_tibia_flexor_B_wtarsus',\n",
    "    'auxiliary_tibia_flexor_E_wtarsus',\n",
    "    # 'main_tibia_flexor',      # main_tibia_flexor for both main and A groups, or main_tibia_flexor_muscle for the muscle\n",
    "    # 'auxiliary_tibia_flexor_B',\n",
    "    # 'auxiliary_tibia_flexor_E',\n",
    "    'ltm',\n",
    "    #'ltm_tiny_small',\n",
    "    #'ltm_tibia',\n",
    "    #'ltm_femur',\n",
    "    # 'tarsus_depressor_med_venU',\n",
    "    # 'tarsus_depressor_noid',\n",
    "    ]\n",
    "\n",
    "pref_pool_dict = {\n",
    "    'thorax_swing': 'thorax_swing',\n",
    "    'thorax_stance': 'thorax_stance',\n",
    "    'trochanter_extension': 'trochanter_extension',\n",
    "    'tergotrochanter': 'trochanter_extension',\n",
    "    'extracoxal_trochanter_depressor' : 'trochanter_extension',\n",
    "    'trochanter_extensor': 'trochanter_extension',\n",
    "    'trochanter_flexion': 'trochanter_flexion',\n",
    "    'femur_reductor':  'femur_reductor',\n",
    "    'tibia_extensor': 'tibia_extensor',\n",
    "    'main_tibia_flexor_wtarsus': 'main_tibia_flexor',\n",
    "    'auxiliary_tibia_flexor_B_wtarsus': 'auxiliary_tibia_flexor_B',\n",
    "    'auxiliary_tibia_flexor_E_wtarsus':  'auxiliary_tibia_flexor_E',\n",
    "    'ltm': 'ltm',\n",
    "    'ltm_tiny_small': 'ltm',\n",
    "    'ltm_tibia': 'ltm',\n",
    "    'ltm_femur': 'ltm',\n",
    "    #'tarsus_depressor_med_venU': ,\n",
    "}\n",
    "fname = './figpanels/PCA_leg_modules_pct.svg'\n",
    "# pre_to_mn_df.head()\n",
    "# mpool_dict\n",
    "\n",
    "var_frac_dict = {}\n",
    "pca_decomp = PCA(n_components=None,\n",
    "        copy=True, \n",
    "        whiten=False, \n",
    "        svd_solver='full', \n",
    "        tol=0.0, \n",
    "        iterated_power='auto')\n"
   ]
  },
  {
   "cell_type": "code",
   "execution_count": null,
   "metadata": {},
   "outputs": [],
   "source": [
    "local_df = pre_to_mn_df.loc['local',:]\n",
    "# local_df.head()"
   ]
  },
  {
   "cell_type": "code",
   "execution_count": null,
   "metadata": {},
   "outputs": [],
   "source": [
    "var_frac_dict = {}\n",
    "pca_decomp = PCA(n_components=None,\n",
    "        copy=True, \n",
    "        whiten=False, \n",
    "        svd_solver='full', \n",
    "        tol=0.0, \n",
    "        iterated_power='auto')\n",
    "\n",
    "for pool in pool_keys:\n",
    "    syn = local_df.loc[pref_pool_dict[pool],mpool_dict[pool]]\n",
    "    print(syn.shape)\n",
    "    mu = np.mean(syn, axis=0)\n",
    "\n",
    "    syn_pca = pca_decomp.fit(syn)\n",
    "    A0 = syn_pca.transform(syn)\n",
    "    var_frac_dict[pool] = syn_pca.explained_variance_/syn_pca.explained_variance_.sum()\n",
    "\n",
    "fig, ax = plt.subplots( 1, 1, figsize=(6,6))\n",
    "clrs = sns.color_palette()\n",
    "clrs = [\n",
    "    '#555555',\n",
    "    '#888888',\n",
    "    '#A0A0A0',\n",
    "    '#BFBFBF',\n",
    "    '#DFDFDF',\n",
    "    '#E0E0E0',\n",
    "    '#E7E7E7',\n",
    "    '#EBEBEB',\n",
    "    '#EFEFEF',\n",
    "    '#F2F2F2',\n",
    "    '#F4F4F4',\n",
    "    '#F8F8F8',\n",
    "]\n",
    "\n",
    "m = 0\n",
    "pc1 = []\n",
    "pc2 = []\n",
    "for pool in pool_keys:\n",
    "    pc_frac = var_frac_dict[pool]\n",
    "    bottom = 0.\n",
    "    pc1+=[pc_frac[0]]\n",
    "    pc2+=[pc_frac[1]]\n",
    "    for pc_fr,clr in zip(pc_frac,clrs):\n",
    "        p = ax.bar(m, pc_fr, 0.8, bottom=bottom,color=clr)\n",
    "        bottom += pc_fr\n",
    "    m+=1\n",
    "\n",
    "x = [i for i in range(len(pool_keys))]\n",
    "ax.plot(x,pc1,color='#000000')\n",
    "ax.plot(x,pc2,color=clrs[1])\n",
    "ax.plot(x,np.array(pc2)/np.array(pc1))\n",
    "ax.set_xticks(x)\n",
    "ax.set_xticklabels(pool_keys)\n",
    "plt.xticks(rotation=90)\n",
    "\n",
    "fig.savefig(fname,format='svg')\n",
    "fig.savefig('./figpanels/PCA_leg_modules_pct.svg',format='svg')"
   ]
  },
  {
   "cell_type": "code",
   "execution_count": null,
   "metadata": {},
   "outputs": [],
   "source": [
    "# Plot the first 3 PCs for Tibia flexors\n",
    "\n",
    "# mft_df = femur_df_local.loc[('local','main_tibia_flexor',All,All),mpool_dict['aux_main_tibia_flexor']]\n",
    "\n",
    "pref_pool_dict['aux_main_tibia_flexor_wtarsus'] = 'main_tibia_flexor'\n",
    "\n",
    "syn = local_df.loc[pref_pool_dict['aux_main_tibia_flexor_wtarsus'],mpool_dict['aux_main_tibia_flexor_wtarsus']]\n",
    "print(syn.shape)\n",
    "mu = np.mean(syn, axis=0)\n",
    "\n",
    "syn_pca = pca_decomp.fit(syn)\n",
    "A0 = syn_pca.transform(syn)\n",
    "\n",
    "fig, ax = plt.subplots( 1, 1, figsize=(6,6))\n",
    "ax.plot(syn_pca.components_[0,:])\n",
    "ax.plot(syn_pca.components_[1,:])\n",
    "ax.plot(syn_pca.components_[2,:])\n",
    "fig.savefig('./figpanels/tibiaflexA_wtarsus_PCs.svg',format='svg')\n"
   ]
  }
 ],
 "metadata": {
  "kernelspec": {
   "display_name": "base",
   "language": "python",
   "name": "python3"
  },
  "language_info": {
   "codemirror_mode": {
    "name": "ipython",
    "version": 3
   },
   "file_extension": ".py",
   "mimetype": "text/x-python",
   "name": "python",
   "nbconvert_exporter": "python",
   "pygments_lexer": "ipython3",
   "version": "3.9.15"
  },
  "vscode": {
   "interpreter": {
    "hash": "2b93c3ce0f0b01938714f8d6ce3882059af39419bb08f14e121c5729b1321faa"
   }
  }
 },
 "nbformat": 4,
 "nbformat_minor": 4
}
