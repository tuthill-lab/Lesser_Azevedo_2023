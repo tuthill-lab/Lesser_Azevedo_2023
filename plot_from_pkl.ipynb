{
 "cells": [
  {
   "cell_type": "code",
   "execution_count": null,
   "metadata": {},
   "outputs": [],
   "source": [
    "# Recreate figure analyses and plots - does not require caveCLIENT permissions"
   ]
  },
  {
   "cell_type": "code",
   "execution_count": null,
   "metadata": {},
   "outputs": [],
   "source": [
    "# import packages\n",
    "import pandas as pd\n",
    "from matplotlib import pyplot,patches\n",
    "import matplotlib.pyplot as plt\n",
    "import numpy as np\n",
    "import seaborn as sns\n",
    "import cmocean\n",
    "import ptitprince as pt\n"
   ]
  },
  {
   "cell_type": "code",
   "execution_count": null,
   "metadata": {},
   "outputs": [],
   "source": [
    "# import dataframe\n",
    "# multi_df = pd.read_pickle('pkls/preMN_to_MN_wing_v604.pkl') # preprint era materialization\n",
    "# properties_df = pd.read_pickle('pkls/wingMN_properties_v604.pkl') # preprint era materialization\n",
    "\n",
    "multi_df = pd.read_pickle('pkls/preMN_to_MN_wing_011524.pkl')\n",
    "synapses_df = pd.read_pickle('pkls/synapse_positions_wing_011524.pkl')\n",
    "properties_df = pd.read_pickle('pkls/mn_properties_wing_011524.pkl')\n"
   ]
  },
  {
   "cell_type": "code",
   "execution_count": null,
   "metadata": {},
   "outputs": [],
   "source": [
    "# figure 1 plots of size vs synapses\n",
    "\n",
    "properties_df.head()"
   ]
  },
  {
   "cell_type": "code",
   "execution_count": null,
   "metadata": {},
   "outputs": [],
   "source": [
    "from scipy import stats\n",
    "\n",
    "indirects_df = properties_df[properties_df.cell_type.str.startswith('D')].reset_index(drop=True)\n",
    "tension_df = properties_df[properties_df.cell_type.str.startswith(('P','d','t'), na=False)].reset_index(drop=True)\n",
    "direct_df = properties_df[properties_df.cell_type.str.startswith(('i','iii','hg','b'), na=False)].reset_index(drop=True)\n",
    "\n",
    "source = direct_df\n",
    "dx = source.total_area_fixed_um\n",
    "dy = source.total_inputs\n",
    "\n",
    "sns.scatterplot(data=source, x=dx, y=dy, s=124)\n",
    "for point in range(0,source.shape[0]):\n",
    "     plt.text(dx[point]+300, dy[point], source.cell_type[point], \n",
    "              horizontalalignment='left', size='medium', color='black', weight='semibold')\n",
    "\n",
    "source=source[~source.cell_type.isin(['b1'])]\n",
    "dx = source.total_area_fixed_um\n",
    "dy = source.total_inputs\n",
    "\n",
    "slope, intercept, r, p, std_err = stats.linregress(dx, dy)\n",
    "def myfunc(dx):\n",
    "  return slope * dx + intercept\n",
    "mymodel = list(map(myfunc, dx))\n",
    "plt.plot(dx, mymodel)\n",
    "\n",
    "plt.xlim(0,50000)\n",
    "plt.ylim(0,15000)\n",
    "\n",
    "# plt.savefig('../wing_xy_indir.svg', format='svg', bbox_inches='tight')\n",
    "print(r)\n",
    "plt.show()\n",
    "\n"
   ]
  },
  {
   "cell_type": "code",
   "execution_count": null,
   "metadata": {},
   "outputs": [],
   "source": [
    "# Extended Data plots\n",
    "anat_order = ['DLM_1', 'DLM_2', 'DLM_3', 'DLM_4', 'DLM_5', 'DVM_1a', 'DVM_1b', 'DVM_1c', 'DVM_2a', 'DVM_2b', 'DVM_3a', 'DVM_3b', 'PS1', 'PS2', 'dtpmn_u', 'tp2', 'tpn', 'i1', 'i2_u', 'iii1', 'iii3', 'iii4a_u', 'hg1_u', 'hg2',  'hg3', 'hg4', 'b1', 'b2', 'b3_u']\n"
   ]
  },
  {
   "cell_type": "code",
   "execution_count": null,
   "metadata": {},
   "outputs": [],
   "source": [
    "properties_df.head()"
   ]
  },
  {
   "cell_type": "code",
   "execution_count": null,
   "metadata": {},
   "outputs": [],
   "source": [
    "df1 = properties_df.set_index('cell_type')\n",
    "df1.reindex(anat_order)"
   ]
  },
  {
   "cell_type": "code",
   "execution_count": null,
   "metadata": {},
   "outputs": [],
   "source": [
    "# number of presynaptic neurons\n",
    "pre_ids = []\n",
    "this_syn_df = syn_df[syn_df.pre_pt_root_id.isin(multi_df.index.get_level_values(level='pre_pt_root_id').to_list())]\n",
    "\n",
    "for mn in properties_df.pt_root_id:\n",
    "    n = len(this_syn_df[this_syn_df.post_pt_root_id.isin([mn])].pre_pt_root_id.unique())\n",
    "    pre_ids.append(n)\n",
    "\n",
    "df1['number_of_neurons'] = pre_ids"
   ]
  },
  {
   "cell_type": "code",
   "execution_count": null,
   "metadata": {},
   "outputs": [],
   "source": [
    "from scipy import stats\n",
    "\n",
    "source = df1.reindex(anat_order)\n",
    "dx = source.index #total_area_fixed_um#index\n",
    "dy = source.number_of_neurons  #total_volume_fixed_um#total_inputs #total_volume_fixed_um\n",
    "fig = plt.figure(1, figsize = [12,6])\n",
    "\n",
    "sns.scatterplot(data=source, x=dx, y=dy, s=80)\n",
    "\n",
    "# source=source[~source.index.isin(['b1'])]\n",
    "# dx = source.total_area_fixed_um\n",
    "# dy = source.total_volume_fixed_um\n",
    "\n",
    "# slope, intercept, r, p, std_err = stats.linregress(dx, dy)\n",
    "# def myfunc(dx):\n",
    "#   return slope * dx + intercept\n",
    "# mymodel = list(map(myfunc, dx))\n",
    "# plt.plot(dx, mymodel)\n",
    "\n",
    "# plt.xlim(0,60000)\n",
    "# plt.ylim(0,15000)\n",
    "plt.ylim(0,800)\n",
    "\n",
    "plt.savefig('../wing_numNeurons_11924.svg', format='svg', bbox_inches='tight')\n",
    "print(r)\n",
    "plt.show()\n",
    "\n"
   ]
  },
  {
   "cell_type": "code",
   "execution_count": null,
   "metadata": {},
   "outputs": [],
   "source": [
    "# multi_df is already organized. Cosine similarity metrics are (re-)calculated below"
   ]
  },
  {
   "cell_type": "code",
   "execution_count": null,
   "metadata": {},
   "outputs": [],
   "source": []
  },
  {
   "cell_type": "code",
   "execution_count": null,
   "metadata": {},
   "outputs": [],
   "source": [
    "# plotting code for wing premotor connectome\n",
    "source = multi_df[anat_order]\n",
    "\n",
    "fig = plt.figure(1, figsize = [7,12])\n",
    "sns.set(font_scale= 1)\n",
    "cmap = cmocean.cm.dense\n",
    "\n",
    "log_values = np.log10(source +1)\n",
    "pmn_ids = source.index.get_level_values(level='classification_system').to_list()\n",
    "mn_ids = source.columns.to_list()\n",
    "ax = sns.heatmap(log_values, vmin = 0, vmax = 3, xticklabels=mn_ids, yticklabels=pmn_ids, cmap = cmap)\n",
    "\n",
    "ax.xaxis.set_ticks_position('bottom')\n",
    "cbar = ax.collections[0].colorbar\n",
    "plt.title('wing premotor connectivity', size = 20)\n",
    "cbar.set_label(label = 'log 10 # of synapses', size=16)\n",
    "plt.xlabel('Wing MNs', size = 16)\n",
    "plt.ylabel('preMNs', size = 16)\n",
    "# plt.savefig('../wing_connmat011524.eps', format='eps', bbox_inches='tight')\n",
    "\n",
    "plt.show()"
   ]
  },
  {
   "cell_type": "code",
   "execution_count": null,
   "metadata": {},
   "outputs": [],
   "source": [
    "source.index.get_level_values(level='classification_system').value_counts()"
   ]
  },
  {
   "cell_type": "code",
   "execution_count": null,
   "metadata": {},
   "outputs": [],
   "source": [
    "# plot proportions from each cell class\n",
    "df_by_cell_class = multi_df.groupby(level='classification_system').sum().T.rename_axis('MN_label').reset_index()\n",
    "\n",
    "dict_syn = dict(zip(properties_df.cell_type, properties_df.total_inputs))\n",
    "\n",
    "df_by_cell_class['synapses_with_fragments'] = df_by_cell_class.MN_label.map(dict_syn)\n",
    "\n",
    "# dataframe of proportions for plotting\n",
    "df_by_cell_class_proportions = df_by_cell_class[['local','local_intersegmental','ascending','sensory','descending']].divide(df_by_cell_class.synapses_with_fragments, axis=0)\n"
   ]
  },
  {
   "cell_type": "code",
   "execution_count": null,
   "metadata": {},
   "outputs": [],
   "source": [
    "df_by_cell_class_proportions.index = df_by_cell_class['MN_label']\n",
    "df_by_cell_class_proportions['fragment'] = df_by_cell_class_proportions.apply(\n",
    "    lambda x: 1 - (x['ascending'] + x['descending'] + x['sensory'] + x['local_intersegmental'] + x['local']), axis=1)\n"
   ]
  },
  {
   "cell_type": "code",
   "execution_count": null,
   "metadata": {},
   "outputs": [],
   "source": [
    "source = df_by_cell_class_proportions\n",
    "\n",
    "colors_cell_class = [\"#916e99\",\"#cea2fd\",\"#069af3\",\"#90e4c1\",\"#95d0fc\",\"#929591\", \"#650021\"]\n",
    "cmap_cell_class = sns.set_palette(sns.color_palette(colors_cell_class))\n",
    "\n",
    "#create stacked bar chart\n",
    "p = source.plot(kind='bar', stacked=True, width = 1, legend = False, cmap = cmap_cell_class, figsize=(7, 2)) \n",
    "\n",
    "p.set_ylabel(\"Proportion of synapses\",fontsize = 16)\n",
    "p.set(ylim=(0, 1))\n",
    "p.set_xlabel(\"wing MNs\", fontsize = 16)\n",
    "plt.box(on = False)\n",
    "# plt.savefig('../wing_classproportions011524.svg', format='svg', bbox_inches='tight')\n",
    "\n",
    "plt.show()"
   ]
  },
  {
   "cell_type": "code",
   "execution_count": null,
   "metadata": {},
   "outputs": [],
   "source": [
    "df_by_cell_class = df_by_cell_class[:-1]"
   ]
  },
  {
   "cell_type": "code",
   "execution_count": null,
   "metadata": {},
   "outputs": [],
   "source": [
    "# for all wing MNs combined\n",
    "df_by_cell_class['fragment'] = df_by_cell_class.apply(\n",
    "    lambda x: x['synapses_with_fragments'] - (x['ascending'] + x['descending'] + x['sensory'] + x['local_intersegmental'] + x['local']), axis=1)\n",
    "\n",
    "df_total = df_by_cell_class[['local','local_intersegmental','ascending','sensory','descending','fragment']].sum().divide(df_by_cell_class.synapses_with_fragments.sum(), axis=0) # right order\n"
   ]
  },
  {
   "cell_type": "code",
   "execution_count": null,
   "metadata": {},
   "outputs": [],
   "source": [
    "df_total"
   ]
  },
  {
   "cell_type": "code",
   "execution_count": null,
   "metadata": {},
   "outputs": [],
   "source": [
    "# plot for all wing MNs combined\n",
    "source = pd.DataFrame(df_total).T\n",
    "\n",
    "#create stacked bar chart\n",
    "p = source.plot(kind='bar', stacked=True, width = 1, legend = False, cmap = cmap_cell_class, figsize=(1, 4)) \n",
    "\n",
    "p.set_ylabel(\"Proportion of synapses\",fontsize = 16)\n",
    "p.set(ylim=(0, 1))\n",
    "p.set_xlabel(\"all wing MNs\", fontsize = 16)\n",
    "plt.box(on = False)\n",
    "# plt.savefig('../wingALLmn_classproportions011524.svg', format='svg', bbox_inches='tight')\n",
    "\n",
    "plt.show()"
   ]
  },
  {
   "cell_type": "code",
   "execution_count": null,
   "metadata": {},
   "outputs": [],
   "source": [
    "# cosine similarity of MNs based on preMN input"
   ]
  },
  {
   "cell_type": "code",
   "execution_count": null,
   "metadata": {},
   "outputs": [],
   "source": [
    "def plot_dendrogram(model, **kwargs):\n",
    "    # create the counts of samples under each node\n",
    "    counts = np.zeros(model.children_.shape[0])\n",
    "    n_samples = len(model.labels_)\n",
    "    for i, merge in enumerate(model.children_):\n",
    "        current_count = 0\n",
    "        for child_idx in merge:\n",
    "            if child_idx < n_samples:\n",
    "                current_count += 1  # leaf node\n",
    "            else:\n",
    "                current_count += counts[child_idx - n_samples]\n",
    "        counts[i] = current_count\n",
    "\n",
    "    linkage_matrix = np.column_stack(\n",
    "        [model.children_, model.distances_, counts]\n",
    "    ).astype(float)\n",
    "\n",
    "    # Plot the corresponding dendrogram\n",
    "    dendrogram(linkage_matrix, **kwargs)\n",
    "    dend_dict = dendrogram(linkage_matrix, **kwargs)\n",
    "    \n",
    "    # sorted order of indices found through clustering\n",
    "    clustered_order = dend_dict['ivl']\n",
    "    \n",
    "    return clustered_order\n"
   ]
  },
  {
   "cell_type": "code",
   "execution_count": null,
   "metadata": {},
   "outputs": [],
   "source": [
    "def organize_by_cos_short(map_df):\n",
    "    adj = pd.crosstab(map_df['pre_pt_root_id'],map_df['post_pt_root_id'])\n",
    "    sim_mat_temp = cosine_similarity(adj.to_numpy().transpose())\n",
    "    model = AgglomerativeClustering(distance_threshold=0, n_clusters=None).fit(sim_mat_temp)\n",
    "    clustered_order = plot_dendrogram(model)#, truncate_mode=\"level\", p=12) # p truncate mode\n",
    "    clustered_order = np.array(clustered_order).astype(int) # convert strins into integers\n",
    "    reordered_df = adj.iloc[:,clustered_order]\n",
    "    sim_mat = cosine_similarity(reordered_df.to_numpy().transpose())\n",
    "    \n",
    "    return clustered_order"
   ]
  },
  {
   "cell_type": "code",
   "execution_count": null,
   "metadata": {},
   "outputs": [],
   "source": [
    "def organize_by_cos_long(map_df):\n",
    "    adj = pd.crosstab(map_df['pre_pt_root_id'],map_df['post_pt_root_id'])\n",
    "    sim_mat_temp = cosine_similarity(adj.to_numpy())\n",
    "    model = AgglomerativeClustering(distance_threshold=0, n_clusters=None).fit(sim_mat_temp)\n",
    "    clustered_order = plot_dendrogram(model)#, truncate_mode=\"level\", p=12) # p truncate mode\n",
    "    clustered_order = np.array(clustered_order).astype(int) # convert strins into integers\n",
    "    reordered_df = adj.iloc[clustered_order,:]\n",
    "    sim_mat = cosine_similarity(reordered_df.to_numpy())\n",
    "    \n",
    "    \n",
    "    return reordered_df"
   ]
  },
  {
   "cell_type": "code",
   "execution_count": null,
   "metadata": {},
   "outputs": [],
   "source": [
    "syn_df = synapses_df\n",
    "syn_df.head()"
   ]
  },
  {
   "cell_type": "code",
   "execution_count": null,
   "metadata": {},
   "outputs": [],
   "source": [
    "syn_df.pre_pt_root_id.value_counts()"
   ]
  },
  {
   "cell_type": "code",
   "execution_count": null,
   "metadata": {},
   "outputs": [],
   "source": [
    "pmns = multi_df.index.get_level_values(level='pre_pt_root_id').to_list()\n"
   ]
  },
  {
   "cell_type": "code",
   "execution_count": null,
   "metadata": {},
   "outputs": [],
   "source": [
    "set(pmns) - set(syn_df.pre_pt_root_id.to_list())"
   ]
  },
  {
   "cell_type": "code",
   "execution_count": null,
   "metadata": {},
   "outputs": [],
   "source": [
    "multi_df.index.get_level_values(level='pre_pt_root_id').value_counts() # should all be one"
   ]
  },
  {
   "cell_type": "code",
   "execution_count": null,
   "metadata": {},
   "outputs": [],
   "source": [
    "from sklearn.metrics.pairwise import cosine_similarity\n",
    "from scipy.cluster.hierarchy import dendrogram\n",
    "from sklearn.cluster import AgglomerativeClustering"
   ]
  },
  {
   "cell_type": "code",
   "execution_count": null,
   "metadata": {},
   "outputs": [],
   "source": [
    "adj = pd.crosstab(syn_df.pre_pt_root_id,syn_df.post_pt_root_id)\n",
    "clustered_order = organize_by_cos_short(syn_df)\n",
    "adj_ordered = adj.iloc[:,clustered_order]"
   ]
  },
  {
   "cell_type": "code",
   "execution_count": null,
   "metadata": {},
   "outputs": [],
   "source": [
    "clust_order = ['DLM_1', 'DLM_2', 'DLM_3', 'DLM_4', 'DLM_5', \n",
    "               'DVM_1a', 'DVM_1b', 'DVM_1c', 'DVM_2a', 'DVM_2b', 'DVM_3a', 'DVM_3b', \n",
    "                'PS1',\n",
    "                'dtpmn_u','PS2', 'tp2',\n",
    "                'iii3','tpn', 'iii1',  \n",
    "                'i2_u','i1','b3_u',\n",
    "                'b1', 'b2',\n",
    "                'hg1_u','hg3', 'hg4','iii4a_u', \n",
    "                'hg2']\n"
   ]
  },
  {
   "cell_type": "markdown",
   "metadata": {},
   "source": []
  },
  {
   "cell_type": "code",
   "execution_count": null,
   "metadata": {},
   "outputs": [],
   "source": [
    "dict_mn = dict(zip(properties_df.pt_root_id, properties_df.cell_type))\n",
    "adj_ordered.rename(columns=dict_mn, inplace=True)\n",
    "\n",
    "## toggle for anatomical ordering vs module clustering\n",
    "adj_ordered = adj_ordered[anat_order]\n",
    "# adj_ordered = adj_ordered[clust_order]\n",
    "\n",
    "mn_ids = adj_ordered.columns"
   ]
  },
  {
   "cell_type": "code",
   "execution_count": null,
   "metadata": {},
   "outputs": [],
   "source": [
    "sim_mat = cosine_similarity(adj_ordered.to_numpy().transpose())\n",
    "\n",
    "fig = plt.figure(1, figsize = [6,5])\n",
    "cmap = cmocean.cm.gray_r\n",
    "ax = sns.heatmap(sim_mat, xticklabels = mn_ids, yticklabels = '', cmap = cmap)# xticklabels=mn_ids, cmap = cmap)\n",
    "cbar = ax.collections[0].colorbar\n",
    "ax.xaxis.set_ticks_position('bottom')\n",
    "\n",
    "plt.xlabel('', fontsize =16)\n",
    "plt.title('all preMNs', fontsize = 18)\n",
    "# plt.savefig('wing_clustsim1115.svg', format='svg', bbox_inches='tight')\n",
    "\n",
    "plt.show()"
   ]
  },
  {
   "cell_type": "code",
   "execution_count": null,
   "metadata": {},
   "outputs": [],
   "source": [
    "# plot distributions of module preference according to cell class \n",
    "# need to create a dataframe where each row contains a unique preMN ID, its cell class, and the fraction of its output onto a single motor cluster, and total # of MN synapses"
   ]
  },
  {
   "cell_type": "code",
   "execution_count": null,
   "metadata": {},
   "outputs": [],
   "source": [
    "# motor clusters\n",
    "cluster_dict = {\n",
    "\"DLM_clu\" : ['DLM_1','DLM_2','DLM_3','DLM_4','DLM_5'],\n",
    "\"DVM_clu\" : ['DVM_1a','DVM_1b','DVM_1c','DVM_2a','DVM_2b','DVM_3a','DVM_3b'],\n",
    "\"tension_clu\" : ['PS1','PS2','dtpmn_u','tp2'],\n",
    "\"steerA_clu\" : ['tpn','iii1','iii3'],\n",
    "\"steerB_clu\" : ['i2_u','i1','b3_u'],\n",
    "\"steerC_clu\" : ['b2','b1'],\n",
    "# \"hg2_clu\" : ['hg2'],\n",
    "\"steerD_clu\" : ['hg1_u','hg3','hg4','iii4a_u','hg2']\n",
    "}\n",
    "flat_dict = {val:key for key, lst in cluster_dict.items() for val in lst}"
   ]
  },
  {
   "cell_type": "code",
   "execution_count": null,
   "metadata": {},
   "outputs": [],
   "source": [
    "properties_df['cluster'] = properties_df.cell_type.map(flat_dict)\n",
    "properties_df = properties_df.rename(columns={'MN_id':'post_pt_root_id'})"
   ]
  },
  {
   "cell_type": "code",
   "execution_count": null,
   "metadata": {},
   "outputs": [],
   "source": [
    "syn_df = syn_df.merge(properties_df.rename(columns={'pt_root_id':'post_pt_root_id'})[['post_pt_root_id','cluster']])"
   ]
  },
  {
   "cell_type": "code",
   "execution_count": null,
   "metadata": {},
   "outputs": [],
   "source": [
    "adj = pd.crosstab(syn_df.pre_pt_root_id,syn_df.cluster)\n",
    "adj.head()"
   ]
  },
  {
   "cell_type": "code",
   "execution_count": null,
   "metadata": {},
   "outputs": [],
   "source": [
    "pref_df = pd.DataFrame(adj.sum(axis=1).reset_index(name='MN_syn'))\n",
    "pref_df = pref_df.merge(pd.DataFrame(adj.max(axis=1).reset_index(name='top_syn')))\n",
    "pref_df['proportion'] = pref_df.top_syn / pref_df.MN_syn\n",
    "pref_df = pref_df.merge(multi_df.reset_index()[['pre_pt_root_id','classification_system']])\n",
    "\n",
    "pref_df['log_syn'] = np.log(pref_df['MN_syn'])\n",
    "pref_df['syn_bin'] = pd.cut(pref_df.log_syn,10) # bin number of MN synapses for plotting by hue\n",
    "\n",
    "pref_df.head()"
   ]
  },
  {
   "cell_type": "code",
   "execution_count": null,
   "metadata": {},
   "outputs": [],
   "source": [
    "ort = 'v' # vertical or horizontally oriented plot\n",
    "dx = \"classification_system\"\n",
    "dy = \"proportion\"\n",
    "class_order = ['local', 'local_intersegmental','descending','sensory','ascending']\n",
    "plot_df = pref_df\n",
    "\n",
    "pal = sns.color_palette(\"Greys\", n_colors=12)\n",
    "pal = pal[2:]\n",
    "\n",
    "f, ax = plt.subplots(figsize=(7, 5))\n",
    "\n",
    "ax=pt.half_violinplot( x = dx, y = dy, data = plot_df, bw = .2, cut = 0.,\n",
    "scale = \"count\", width = .6, inner = None, orient = ort, order=class_order)\n",
    "\n",
    "ax=sns.stripplot( x = dx, y = dy, data = plot_df, hue=\"syn_bin\", palette = pal,\n",
    "size = 3, jitter = 1, zorder = 0, orient = ort, order=class_order) # edgecolor = \"white\"\n",
    "\n",
    "ax=sns.boxplot( x = dx, y = dy, data = plot_df, color = \"black\", width = .15, zorder = 10,\\\n",
    "showcaps = True, boxprops = {'facecolor':'none', \"zorder\":10},\\\n",
    "showfliers=True, whiskerprops = {'linewidth':2, \"zorder\":10},\\\n",
    "saturation = 1, orient = ort, order=class_order)\n",
    "plt.ylim(0,1)\n",
    "plt.title(\"module preference score\")\n",
    "plt.savefig('../wing_modpref0124.svg', format='svg', bbox_inches='tight')\n",
    "\n",
    "plt.show()"
   ]
  },
  {
   "cell_type": "code",
   "execution_count": null,
   "metadata": {},
   "outputs": [],
   "source": [
    "# similarity plots, as in Figure 3F\n",
    "# create a dataframe where the rows are pairs of within-module MNs and each column is the cosine similarity when preMNs are broken up by cell class "
   ]
  },
  {
   "cell_type": "code",
   "execution_count": null,
   "metadata": {},
   "outputs": [],
   "source": [
    "# create a labeled version of syn_df, with a column for the MN label of postIDs and preMN class for preIDs\n",
    "labeled_syn_df = syn_df.merge(properties_df.rename(columns={'pt_root_id':'post_pt_root_id'})[['post_pt_root_id', 'cell_type','cluster']],how='left')\n",
    "labeled_syn_df = labeled_syn_df.merge(multi_df.reset_index()[['pre_pt_root_id','classification_system']],how='left')\n",
    "labeled_syn_df.head()"
   ]
  },
  {
   "cell_type": "code",
   "execution_count": null,
   "metadata": {},
   "outputs": [],
   "source": [
    "# quantify similarity for within-module pairwise comparisons"
   ]
  },
  {
   "cell_type": "code",
   "execution_count": null,
   "metadata": {},
   "outputs": [],
   "source": [
    "# cos-sim function: input = adjacency matrix with MNs as columns, output = long dataframe with one column of similarity value, and one column for each MN being compared\n",
    "\n",
    "def adj_to_long_sim (adj_df):\n",
    "    cs_df = cosine_similarity(adj_df.to_numpy().transpose())\n",
    "    column_names = adj_df.columns\n",
    "    df = pd.DataFrame(cs_df, columns=column_names)\n",
    "    df['mn_1'] = column_names\n",
    "    df = df.set_index(\"mn_1\")\n",
    "    df_long = pd.melt(df.reset_index(), id_vars='mn_1', value_vars=adj_df.columns).rename(columns={'post_pt_root_id':'mn_2'})\n",
    "\n",
    "    # get rid of duplicates and self-comparisons\n",
    "    df_long = df_long[df_long['mn_1'] != df_long['mn_2']].reset_index(drop=True)\n",
    "    mns_combined = []\n",
    "    i=0\n",
    "    while i < len(df_long):\n",
    "        if df_long.mn_1[i] > df_long.mn_2[i]:\n",
    "            # df_long.mns_combined[i] = str(df_long.mn_1[i]) + 'X' + str(df_long.mn_2[i])\n",
    "            mns_combined.append(str(df_long.mn_1[i]) + 'X' + str(df_long.mn_2[i]))\n",
    "        else:\n",
    "            # df_long.mns_combined[i] = str(df_long.mn_2[i]) + 'X' + str(df_long.mn_1[i])\n",
    "            mns_combined.append(str(df_long.mn_2[i]) + 'X' + str(df_long.mn_1[i]))\n",
    "\n",
    "        i=i+1\n",
    "        \n",
    "    df_long['mns_combined'] = pd.Series(mns_combined)\n",
    "    df_long = df_long.drop_duplicates(subset='mns_combined').reset_index(drop=True)\n",
    "\n",
    "    return df_long\n",
    "\n"
   ]
  },
  {
   "cell_type": "code",
   "execution_count": null,
   "metadata": {},
   "outputs": [],
   "source": [
    "steering_df = adj_ordered.iloc[:,-13:]\n",
    "steer_tension_df = adj_ordered.iloc[:,-17:]\n",
    "indir_df = adj_ordered.iloc[:,:12]"
   ]
  },
  {
   "cell_type": "code",
   "execution_count": null,
   "metadata": {},
   "outputs": [],
   "source": [
    "# all\n",
    "\n",
    "adj_to_measure = steer_tension_df\n",
    "\n",
    "df_long_all = adj_to_long_sim(adj_to_measure)\n",
    "df_long_all['cell_class'] = 'all'\n",
    "\n",
    "# local\n",
    "df_long_local = adj_to_long_sim(adj_to_measure[adj_to_measure.index.isin(\n",
    "    multi_df[multi_df.index.get_level_values(level='classification_system').isin(\n",
    "        ['local'])].index.get_level_values(level='pre_pt_root_id').to_list())])\n",
    "df_long_local['cell_class'] = 'local'\n",
    "\n",
    "# local_intersegmental\n",
    "df_long_intersegmental = adj_to_long_sim(adj_to_measure[adj_to_measure.index.isin(\n",
    "    multi_df[multi_df.index.get_level_values(level='classification_system').isin(\n",
    "        ['local_intersegmental'])].index.get_level_values(level='pre_pt_root_id').to_list())])\n",
    "df_long_intersegmental['cell_class'] = 'local_intersegmental'\n",
    "\n",
    "# ascending\n",
    "df_long_ascending = adj_to_long_sim(adj_to_measure[adj_to_measure.index.isin(\n",
    "    multi_df[multi_df.index.get_level_values(level='classification_system').isin(\n",
    "        ['ascending'])].index.get_level_values(level='pre_pt_root_id').to_list())])\n",
    "df_long_ascending['cell_class'] = 'ascending'\n",
    "\n",
    "# sensory\n",
    "df_long_sensory = adj_to_long_sim(adj_to_measure[adj_to_measure.index.isin(\n",
    "    multi_df[multi_df.index.get_level_values(level='classification_system').isin(\n",
    "        ['sensory'])].index.get_level_values(level='pre_pt_root_id').to_list())])\n",
    "df_long_sensory['cell_class'] = 'sensory'\n",
    "\n",
    "# descending\n",
    "df_long_descending = adj_to_long_sim(adj_to_measure[adj_to_measure.index.isin(\n",
    "    multi_df[multi_df.index.get_level_values(level='classification_system').isin(\n",
    "        ['descending'])].index.get_level_values(level='pre_pt_root_id').to_list())])\n",
    "df_long_descending['cell_class'] = 'descending'"
   ]
  },
  {
   "cell_type": "code",
   "execution_count": null,
   "metadata": {},
   "outputs": [],
   "source": [
    "df_long = pd.concat([df_long_all,df_long_local,df_long_intersegmental,df_long_ascending,df_long_sensory,df_long_descending])"
   ]
  },
  {
   "cell_type": "code",
   "execution_count": null,
   "metadata": {},
   "outputs": [],
   "source": [
    "len(df_long) # should be 2436\n",
    "df_long"
   ]
  },
  {
   "cell_type": "code",
   "execution_count": null,
   "metadata": {},
   "outputs": [],
   "source": [
    "# cluster?\n",
    "df_long['module_1'] = df_long.mn_1.map(flat_dict)\n",
    "df_long['module_2'] = df_long.mn_2.map(flat_dict)\n",
    "\n",
    "df_long.loc[df_long['module_1'] == df_long['module_2'], 'match'] = 'within'\n",
    "df_long.loc[df_long['module_1'] != df_long['module_2'], 'match'] = 'across'"
   ]
  },
  {
   "cell_type": "code",
   "execution_count": null,
   "metadata": {},
   "outputs": [],
   "source": [
    "# add a column to indicate within or across module comparisons\n",
    "\n",
    "# df_long = df_long.merge(properties_df.rename(columns={'MN_label':'mn_1','cluster':'module_1'})[['mn_1','module_1']])\n",
    "# df_long = df_long.merge(properties_df.rename(columns={'MN_label':'mn_2','cluster':'module_2'})[['mn_2','module_2']])\n",
    "\n",
    "# df_long.loc[df_long['module_1'] == df_long['module_2'], 'match'] = 'within'\n",
    "# df_long.loc[df_long['module_1'] != df_long['module_2'], 'match'] = 'across'"
   ]
  },
  {
   "cell_type": "code",
   "execution_count": null,
   "metadata": {},
   "outputs": [],
   "source": [
    "ort = 'v' # vertical or horizontally oriented plot\n",
    "dx = \"cell_class\"\n",
    "dy = \"value\"\n",
    "hu = \"match\"\n",
    "class_order = ['all', 'local', 'local_intersegmental','descending','sensory','ascending']\n",
    "plot_df = df_long[df_long.match.isin(['within'])]\n",
    "\n",
    "pal = sns.color_palette(\"tab10\")\n",
    "\n",
    "f, ax = plt.subplots(figsize=(15, 5))\n",
    "\n",
    "ax=sns.stripplot( x = dx, y = dy, data = plot_df, hue=hu, palette = pal,\n",
    "size = 3, jitter = 1, zorder = 0, orient = ort, order=class_order)\n",
    "\n",
    "ax=sns.boxplot( x = dx, y = dy, hue=hu, data = plot_df, color = \"black\", width = .15, zorder = 10,\\\n",
    "showcaps = True, boxprops = {'facecolor':'none', \"zorder\":10},\\\n",
    "showfliers=True, whiskerprops = {'linewidth':2, \"zorder\":10},\\\n",
    "saturation = 1, orient = ort, order=class_order)\n",
    "\n",
    "# ax = sns.catplot(x=dx, y=dy, data = plot_df, hue = 'mns_combined', kind='point')\n",
    "\n",
    "plt.ylim(0,1)\n",
    "plt.title(\"similarity\")\n",
    "# plt.savefig('../wing_steer_sim0118.svg', format='svg', bbox_inches='tight')\n",
    "\n",
    "plt.show()"
   ]
  },
  {
   "cell_type": "code",
   "execution_count": null,
   "metadata": {},
   "outputs": [],
   "source": [
    "#### Plots for figure 5: hemilineages"
   ]
  },
  {
   "cell_type": "code",
   "execution_count": null,
   "metadata": {},
   "outputs": [],
   "source": [
    "wing_multi_df = multi_df\n",
    "leg_multi_df = pd.read_pickle('pkls/leg_local_interseg_typed_012524.pkl')"
   ]
  },
  {
   "cell_type": "code",
   "execution_count": null,
   "metadata": {},
   "outputs": [],
   "source": [
    "wing_multi_df.head()"
   ]
  },
  {
   "cell_type": "code",
   "execution_count": null,
   "metadata": {},
   "outputs": [],
   "source": [
    "leg_multi_df.head()"
   ]
  },
  {
   "cell_type": "code",
   "execution_count": null,
   "metadata": {},
   "outputs": [],
   "source": [
    "# just local & intersegmental IDs\n",
    "\n",
    "wing_df = wing_multi_df[wing_multi_df.index.get_level_values(level='classification_system').str.startswith('l')].reset_index()\n",
    "leg_df = leg_multi_df[leg_multi_df.index.get_level_values(level='cell_class').isin(['local','intersegmental'])].reset_index()"
   ]
  },
  {
   "cell_type": "code",
   "execution_count": null,
   "metadata": {},
   "outputs": [],
   "source": [
    "leg_df.iloc[:,-69:]#.sum(axis=1)"
   ]
  },
  {
   "cell_type": "code",
   "execution_count": null,
   "metadata": {},
   "outputs": [],
   "source": [
    "# matching up dfs\n",
    "\n",
    "leg_df = leg_df.rename(columns={'segID':'pre_pt_root_id','NT':'putative_NT'})\n",
    "\n",
    "# leg MN_syn_total\n",
    "leg_df['MN_syn_total'] = leg_df.iloc[:,-69:].sum(axis=1)\n",
    "\n",
    "#rename wing_df columns by module, not MN\n",
    "df = wing_df.rename(columns=flat_dict, inplace=False)\n",
    "first_cols = ['pre_pt_root_id', 'pref_mn', 'pref_module', 'cell_type',\n",
    "        'classification_system', 'putative_NT','MN_syn_total']\n",
    "module_order = ['DLM_clu','DVM_clu','tension_clu','steerA_clu','steerB_clu','steerC_clu','steerD_clu']\n",
    "wing_df = df[first_cols + module_order]"
   ]
  },
  {
   "cell_type": "code",
   "execution_count": null,
   "metadata": {},
   "outputs": [],
   "source": [
    "wing_df['limb'] = 'wing'\n",
    "leg_df['limb'] = 'leg'\n",
    "\n",
    "merged_premotor = wing_df.merge(leg_df,how='outer')\n",
    "len(merged_premotor) # should be 1181 + 964 = 2145"
   ]
  },
  {
   "cell_type": "code",
   "execution_count": null,
   "metadata": {},
   "outputs": [],
   "source": [
    "# clean up cell type labels\n",
    "\n",
    "merged_premotor = merged_premotor.replace(['01A'], '1A')\n",
    "merged_premotor = merged_premotor.replace(['01B','01B_primary'], '1B')\n",
    "merged_premotor = merged_premotor.replace(['03A'], '3A')\n",
    "merged_premotor = merged_premotor.replace(['04B_ventroposterior_loop','04B_lateral','04B_ventroanterior_loop'], '4B')\n",
    "merged_premotor = merged_premotor.replace(['06A_primary','06A'], '6A')\n",
    "merged_premotor = merged_premotor.replace(['07B'], '7B')\n",
    "merged_premotor = merged_premotor.replace(['08A_ventral_mirrored','08A_ventral_post','08A_ventral_rind','08A_far_ventral_rind','08A_ventral','08A_ventral_core','08A_ventral_post_boutons'], '8A')\n",
    "merged_premotor = merged_premotor.replace(['09A','09Ac','09Ac_primary'], '9A')\n",
    "merged_premotor = merged_premotor.replace(['11B_u'], '11B')\n",
    "merged_premotor = merged_premotor.replace(['14Ac','14Ax','14Aa','14Ab','14Ad','14A_primary'], '14A')\n",
    "merged_premotor = merged_premotor.replace(['hlx16','16B'], '16')\n",
    "merged_premotor = merged_premotor.replace(['17A_dorsal_post','17A_dorsal_lateral','17A_central_core_post_mirrored','17A_dorsal_post_mirrored','17A_dorsal','17A_central_core_mirrored','17A_dorsal_post_boutons'], '17A')\n",
    "merged_premotor = merged_premotor.replace(['19A_dorsal_rind','19A_mid'], '19A')\n",
    "merged_premotor = merged_premotor.replace(['19B_primary'], '19B')\n",
    "merged_premotor = merged_premotor.replace(['21A_primary'], '21A')\n",
    "merged_premotor = merged_premotor.replace(['22A_posterior','22A_anterior','22A_posteriordorsal','22A_primary','22A','20A'], '20_22A')\n",
    "merged_premotor = merged_premotor.replace(['unk3'], 'uk')\n"
   ]
  },
  {
   "cell_type": "code",
   "execution_count": null,
   "metadata": {},
   "outputs": [],
   "source": []
  },
  {
   "cell_type": "code",
   "execution_count": null,
   "metadata": {},
   "outputs": [],
   "source": [
    "merged_premotor"
   ]
  },
  {
   "cell_type": "code",
   "execution_count": null,
   "metadata": {},
   "outputs": [],
   "source": [
    "g = merged_premotor.groupby('cell_type')"
   ]
  },
  {
   "cell_type": "code",
   "execution_count": null,
   "metadata": {},
   "outputs": [],
   "source": [
    "g.groups.keys()\n"
   ]
  },
  {
   "cell_type": "code",
   "execution_count": null,
   "metadata": {},
   "outputs": [],
   "source": [
    "wing_sum = []\n",
    "leg_sum = []\n",
    "\n",
    "for hl in g.groups.keys():\n",
    "    \n",
    "    this_hl = g.get_group(hl)\n",
    "    wing_sum.append(this_hl[this_hl.limb.isin(['wing'])].MN_syn_total.sum())\n",
    "    leg_sum.append(this_hl[this_hl.limb.isin(['leg'])].MN_syn_total.sum())"
   ]
  },
  {
   "cell_type": "code",
   "execution_count": null,
   "metadata": {},
   "outputs": [],
   "source": [
    "d = {'hemilineage': g.groups.keys(), 'wing_syn_sum': wing_sum, 'leg_syn_sum' : leg_sum}\n",
    "\n",
    "hl_syn_totals = pd.DataFrame(data=d)"
   ]
  },
  {
   "cell_type": "code",
   "execution_count": null,
   "metadata": {},
   "outputs": [],
   "source": [
    "hl_syn_proportions = hl_syn_totals.copy()\n",
    "hl_syn_proportions['wing_syn_sum'] = hl_syn_totals['wing_syn_sum'] / (hl_syn_totals['wing_syn_sum']+hl_syn_totals['leg_syn_sum'])\n",
    "hl_syn_proportions['leg_syn_sum'] = hl_syn_totals['leg_syn_sum'] / (hl_syn_totals['wing_syn_sum']+hl_syn_totals['leg_syn_sum'])"
   ]
  },
  {
   "cell_type": "code",
   "execution_count": null,
   "metadata": {},
   "outputs": [],
   "source": [
    "hl_order = ['13A','9A','19A','12B','13B','1B','6B','6A','3B','11B','5B','0A',\n",
    "            '21A', '14A', '24B','8A','16','2A',\n",
    "            '20_22A','4B', '3A','1A','23B','18B','7B','17A','11A','19B','8B','12A','10B'\n",
    "]\n",
    "\n",
    "# less than 10 neurons: 1B, 24B, 10B, 24B and 10B > 100 synapses"
   ]
  },
  {
   "cell_type": "code",
   "execution_count": null,
   "metadata": {},
   "outputs": [],
   "source": [
    "hl_syn_proportions = hl_syn_proportions[hl_syn_proportions.hemilineage.isin(hl_order)]\n",
    "hl_syn_proportions.hemilineage = hl_syn_proportions.hemilineage.astype(\"category\")\n",
    "hl_syn_proportions.hemilineage = hl_syn_proportions.hemilineage.cat.set_categories(hl_order)\n",
    "hl_syn_proportions = hl_syn_proportions.sort_values([\"hemilineage\"])"
   ]
  },
  {
   "cell_type": "code",
   "execution_count": null,
   "metadata": {},
   "outputs": [],
   "source": [
    "p = hl_syn_proportions.set_index('hemilineage').plot(kind='bar', stacked=True, width = 1, \n",
    "                                                     legend = False, cmap = cmap, figsize=(15, 4)) \n",
    "\n",
    "plt.savefig('../lhlimbproportions_0126.svg', format='svg', bbox_inches='tight')\n"
   ]
  },
  {
   "cell_type": "code",
   "execution_count": null,
   "metadata": {},
   "outputs": [],
   "source": [
    "#### connectivity heatmap\n",
    "\n",
    "heat_df = merged_premotor.copy().drop(['pref_mn','pref_module','classification_system','putative_NT','cell_class','limb','MN_syn_total','pre_pt_root_id'], axis=1)"
   ]
  },
  {
   "cell_type": "code",
   "execution_count": null,
   "metadata": {},
   "outputs": [],
   "source": [
    "# organize columns by module order\n",
    "\n",
    "wing_mod_order = ['DLM_clu','DVM_clu','tension_clu','steerA_clu','steerB_clu','steerC_clu','steerD_clu']\n",
    "leg_mod_order = ['coxa_promotion','coxa_rotator_adductor','coxa_posterior','trochanter_extend','trochanter_flex',\n",
    "                 'femur_reduct','tibia_extend','tibia_ta_flex_A','tibia_ta_flex_B','tibia_ta_flex_C','ltm_dipalpha',\n",
    "                 'ltm_nondipa','tarsus_depressor_medial','tarsus_depressor_ventralU']\n",
    "first_cols = ['cell_type']\n",
    "\n",
    "heat_df[first_cols + leg_mod_order + wing_mod_order]\n"
   ]
  },
  {
   "cell_type": "code",
   "execution_count": null,
   "metadata": {},
   "outputs": [],
   "source": [
    "# group columns with same name; same cluster\n",
    "\n",
    "counts = heat_df.iloc[:,3:].groupby(level=0,axis=1).sum()[leg_mod_order+wing_mod_order]\n",
    "\n",
    "heat_df=pd.concat([heat_df.iloc[:,0:1],counts], axis=1)"
   ]
  },
  {
   "cell_type": "code",
   "execution_count": null,
   "metadata": {},
   "outputs": [],
   "source": [
    "# collapse all hemilineages together\n",
    "heat_df = heat_df.set_index('cell_type').groupby(level=0,axis=0).sum().reindex(hl_order)\n"
   ]
  },
  {
   "cell_type": "code",
   "execution_count": null,
   "metadata": {},
   "outputs": [],
   "source": [
    "fig = plt.figure(1, figsize = [7,11])\n",
    "sns.set(font_scale= 1)\n",
    "cmap = cmocean.cm.dense\n",
    "\n",
    "#pmn_ids = reordered_pmn_labels_df.description\n",
    "# ax = sns.heatmap(all_reorderedLOG_df, vmin = 0, vmax = 3, xticklabels=labeled_adj.columns, yticklabels=sorted_df['class'].to_list(), cmap = cmap)\n",
    "ax = sns.heatmap(np.log10(heat_df +1), cmap = cmap)\n",
    "\n",
    "plt.savefig('../hlheatmap_0126.svg', format='svg', bbox_inches='tight')\n"
   ]
  },
  {
   "cell_type": "code",
   "execution_count": null,
   "metadata": {},
   "outputs": [],
   "source": [
    "## neurotransmitter plot\n",
    "\n",
    "# new dataframe with MNs as rows\n",
    "wing_df.putative_NT = wing_df.putative_NT.fillna('unk')\n",
    "leg_df.putative_NT = leg_df.putative_NT.fillna('unk')\n",
    "leg_df.loc[leg_df['putative_NT'].isin(['Ach']), 'putative_NT'] = 'ACh'\n",
    "\n",
    "wing_nt_df = wing_df.iloc[:,5:-1].set_index('putative_NT').groupby(level=0,axis=0).sum()\n",
    "leg_nt_df = leg_df.iloc[:,3:-2].set_index('putative_NT').groupby(level=0,axis=0).sum()"
   ]
  },
  {
   "cell_type": "code",
   "execution_count": null,
   "metadata": {},
   "outputs": [],
   "source": [
    "nt_df = pd.concat([leg_nt_df,wing_nt_df],axis=1).T[['ACh','unk','Glu','GABA']]"
   ]
  },
  {
   "cell_type": "code",
   "execution_count": null,
   "metadata": {},
   "outputs": [],
   "source": [
    "# drop mn_syn_total row and transform to proportions\n",
    "nt_df = nt_df.drop(['MN_syn_total'], axis=0)\n",
    "\n",
    "nt_proportions = nt_df.copy()\n",
    "nt_proportions['ACh'] = nt_df['ACh']/nt_df.sum(axis=1)\n",
    "nt_proportions['unk'] = nt_df['unk']/nt_df.sum(axis=1)\n",
    "nt_proportions['GABA'] = nt_df['GABA']/nt_df.sum(axis=1)\n",
    "nt_proportions['Glu'] = nt_df['Glu']/nt_df.sum(axis=1)"
   ]
  },
  {
   "cell_type": "code",
   "execution_count": null,
   "metadata": {},
   "outputs": [],
   "source": [
    "nt_proportions"
   ]
  },
  {
   "cell_type": "code",
   "execution_count": null,
   "metadata": {},
   "outputs": [],
   "source": [
    "# plot\n",
    "# colors_NT = [\"#15b01a\",\"#96f97b\", \"#d8dcd6\", \"#fdee73\", \"#fedf08\",\"#f7879a\",\"#cb416b\"]\n",
    "colors_NT = [\"#15b01a\", \"#d8dcd6\", \"#fedf08\", \"#cb416b\"] # no uncertain colors\n",
    "\n",
    "cmap = sns.set_palette(sns.color_palette(colors_NT))\n",
    "\n",
    "p = nt_proportions.plot(kind='bar', stacked=True, width = 1, legend = False, cmap = cmap, figsize=(15, 4)) \n",
    "\n",
    "plt.savefig('../ntmns_0126.svg', format='svg', bbox_inches='tight')\n"
   ]
  },
  {
   "cell_type": "code",
   "execution_count": null,
   "metadata": {},
   "outputs": [],
   "source": [
    "nt_df"
   ]
  },
  {
   "cell_type": "code",
   "execution_count": null,
   "metadata": {},
   "outputs": [],
   "source": []
  }
 ],
 "metadata": {
  "kernelspec": {
   "display_name": ".fanc_env",
   "language": "python",
   "name": "python3"
  },
  "language_info": {
   "codemirror_mode": {
    "name": "ipython",
    "version": 3
   },
   "file_extension": ".py",
   "mimetype": "text/x-python",
   "name": "python",
   "nbconvert_exporter": "python",
   "pygments_lexer": "ipython3",
   "version": "3.9.6"
  },
  "orig_nbformat": 4
 },
 "nbformat": 4,
 "nbformat_minor": 2
}
