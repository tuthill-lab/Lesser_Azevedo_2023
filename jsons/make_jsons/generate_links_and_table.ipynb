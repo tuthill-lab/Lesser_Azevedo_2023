{
 "cells": [
  {
   "cell_type": "code",
   "execution_count": null,
   "metadata": {},
   "outputs": [],
   "source": [
    "# generate links / json states programatically by cell type or anything, probably hack-y but it works\n",
    "from caveclient import CAVEclient\n",
    "import datetime\n",
    "import pandas as pd\n",
    "import numpy as np\n",
    "import json\n",
    "import xlwt\n",
    "from xlwt import Workbook, Formula\n",
    "\n",
    "client = CAVEclient()\n",
    "datastack_name = 'fanc_production_mar2021'\n",
    "client = CAVEclient(datastack_name)\n",
    "client.materialize.version = 604\n",
    "timestamp = datetime.datetime.fromtimestamp(1685002201.254304)"
   ]
  },
  {
   "cell_type": "code",
   "execution_count": null,
   "metadata": {},
   "outputs": [],
   "source": [
    "# toggle\n",
    "\n",
    "ngl_base = 'https://neuromancer-seung-import.appspot.com/' \n"
   ]
  },
  {
   "cell_type": "code",
   "execution_count": null,
   "metadata": {},
   "outputs": [],
   "source": [
    "def make_json(seg_ids, hidden_ids):\n",
    "    state = {\n",
    "    \"layers\": [\n",
    "      {\n",
    "        \"source\": \"precomputed://gs://lee-lab_female-adult-nerve-cord/alignmentV4/em/rechunked\",\n",
    "        \"type\": \"image\",\n",
    "        \"blend\": \"default\",\n",
    "        \"shaderControls\": {},\n",
    "        \"name\": \"FANC EM\"\n",
    "      },\n",
    "      {\n",
    "        \"type\": \"segmentation\",\n",
    "        \"mesh\": \"precomputed://gs://lee-lab_female-adult-nerve-cord/meshes/FANC/FANC_neurons/meshes\",\n",
    "        \"selectedAlpha\": 0.4,\n",
    "        \"colorSeed\": 3788587020,\n",
    "        \"segments\": seg_ids,\n",
    "        \"hiddenSegments\": hidden_ids,\n",
    "        \"skeletonRendering\": {\n",
    "          \"mode2d\": \"lines_and_points\",\n",
    "          \"mode3d\": \"lines\"\n",
    "        },\n",
    "        \"name\": \"published FANC neurons\"\n",
    "      },\n",
    "      {\n",
    "        \"type\": \"segmentation\",\n",
    "        \"mesh\": \"precomputed://gs://lee-lab_female-adult-nerve-cord/alignmentV4/volume_meshes/meshes\",\n",
    "        \"objectAlpha\": 0.1,\n",
    "        \"hideSegmentZero\": False,\n",
    "        \"ignoreSegmentInteractions\": True,\n",
    "        \"segmentColors\": {\n",
    "          \"1\": \"#bfbfbf\",\n",
    "          \"2\": \"#d343d6\"\n",
    "        },\n",
    "        \"segments\": [\n",
    "          \"1\",\n",
    "          \"2\"\n",
    "        ],\n",
    "        \"skeletonRendering\": {\n",
    "          \"mode2d\": \"lines_and_points\",\n",
    "          \"mode3d\": \"lines\"\n",
    "        },\n",
    "        \"name\": \"region outlines\"\n",
    "      }\n",
    "    ],\n",
    "    \"navigation\": {\n",
    "      \"pose\": {\n",
    "        \"position\": {\n",
    "          \"voxelSize\": [\n",
    "            4.300000190734863,\n",
    "            4.300000190734863,\n",
    "            45\n",
    "          ],\n",
    "          \"voxelCoordinates\": [38734, 148426, 2200\n",
    "          ]\n",
    "        }\n",
    "      },\n",
    "      \"zoomFactor\": 12\n",
    "    },\n",
    "    \"showAxisLines\": False,\n",
    "    \"showDefaultAnnotations\": False,\n",
    "    \"perspectiveZoom\": 6062.41070084089,\n",
    "    \"showSlices\": False,\n",
    "    \"gpuMemoryLimit\": 4000000000,\n",
    "    \"systemMemoryLimit\": 4000000000,\n",
    "    \"concurrentDownloads\": 64,\n",
    "    \"jsonStateServer\": \"https://global.daf-apis.com/nglstate/api/v1/post\",\n",
    "    \"selectedLayer\": {\n",
    "      \"layer\": \"published FANC neurons\",\n",
    "      \"visible\": True\n",
    "    },\n",
    "    \"layout\": \"3d\"\n",
    "  }\n",
    "\n",
    "    return state"
   ]
  },
  {
   "cell_type": "code",
   "execution_count": null,
   "metadata": {},
   "outputs": [],
   "source": [
    "leg_df = pd.read_pickle('dfs_pre_to_mn/pre_to_mn_df_matched_typed_with_nt_v604_20230525.pkl')\n",
    "leg_mns = leg_df.columns.get_level_values('segID').to_list()\n",
    "\n",
    "wing_df = pd.read_pickle('preMN_to_MN_wing_v604_multi_df.pkl')\n",
    "wing_mn_df = pd.read_pickle('wingMN_properties_v604.pkl')\n",
    "wing_mns = wing_mn_df.MN_id.to_list()\n"
   ]
  },
  {
   "cell_type": "code",
   "execution_count": null,
   "metadata": {},
   "outputs": [],
   "source": [
    "leg_dict = {\n",
    "    \"coxa_swing\" : [648518346491659326,648518346479325585,648518346517827432,648518346486895331,648518346487504531,648518346517437482,648518346487756866],\n",
    "    \"coxa_stance\" : [648518346478992848,648518346488854257,648518346490902957,648518346489802071,648518346479077839,648518346489076201],\n",
    "    \"trochanter_extend\" : [648518346504856435,648518346496195084,648518346482347156,648518346492578233,648518346515708666,648518346467061998,648518346502537286,648518346498089882],\n",
    "    \"trochanter_flex\" : [648518346487577002,648518346514275550,648518346517824616,648518346496812333,648518346479840662,648518346499918803,648518346514277931,648518346488873565,648518346498498324,648518346490899373,648518346489470041],\n",
    "    \"femur_reductor\" : [648518346487743188,648518346493238592,648518346496372087,648518346502536518,648518346492338559,648518346494195703],\n",
    "    \"tibia_extend\" : [648518346493238080,648518346495797355],\n",
    "    \"tibia_flex_A\" : [648518346496059082,648518346494196727,648518346496932836,648518346484809885,648518346493836024,648518346486906595,648518346482926501,648518346489731855,648518346494269831,648518346499176513],\n",
    "    \"tibia_flex_B\" : [648518346490901677,648518346496057290,648518346493202674,648518346479331004,648518346482925989,648518346517830760,648518346495467855],\n",
    "    \"tibia_flex_C\" : [648518346496852276,648518346491041571],\n",
    "    \"substrate_grip\" : [648518346491158561,648518346475434081,648518346504867443,648518346486902499,648518346484620291,648518346515711482,648518346493203442,648518346496934372],\n",
    "    \"tarsus_control\" : [648518346486890393,648518346491158817]\n",
    "}\n",
    "\n",
    "wing_dict = {\n",
    "    \"DLM\" : [648518346472269618,648518346486563887,648518346515087943,648518346494250631,648518346486629017],\n",
    "    \"DVM\" : [648518346492294527,648518346503730081,648518346488827114,648518346512153646,648518346492384195,648518346499049025,648518346509427075],\n",
    "    \"tension\" : [648518346492244419,648518346497125761,648518346490085915,648518346486682876,648518346472953700],\n",
    "    \"steerA\" : [648518346488622926,648518346487480490,648518346509604297],\n",
    "    \"steerB\" : [648518346470491902,648518346471876251,648518346499256923],\n",
    "    \"steerC\" : [648518346493634040,648518346501373528],\n",
    "    \"steerhg2\" : [648518346492048172],\n",
    "    \"steerD\" : [648518346482131604,648518346480882144,648518346515574010,648518346492294783]\n",
    "}\n"
   ]
  },
  {
   "cell_type": "code",
   "execution_count": null,
   "metadata": {},
   "outputs": [],
   "source": [
    "# update leg_df module names to match dict\n",
    "# energy.rename(index={'Republic of Korea':'South Korea'},inplace=True)\n",
    "\n",
    "leg_df.rename(index = {'thorax_swing': 'coxa_swing', 'thorax_stance': 'coxa_stance', 'trochanter_extension' : 'trochanter_extend', \n",
    "                         'trochanter_flexion' : 'trochanter_flex', 'tibia_extensor' : 'tibia_extend', 'main_tibia_flexor' : 'tibia_flex_A',\n",
    "                         'auxiliary_tibia_flexor_B' : 'tibia_flex_B', 'auxiliary_tibia_flexor_E' : 'tibia_flex_C', 'ltm' : 'substrate_grip',\n",
    "                         'tarsus_depressor_med_venU' : 'tarsus_control', 'tarsus_depressor_noid': 'tarsus_control'}, inplace=True)"
   ]
  },
  {
   "cell_type": "code",
   "execution_count": null,
   "metadata": {},
   "outputs": [],
   "source": [
    "# leg cell type update\n",
    "leg_df.rename(index = {'RVD' : '8A','Rcore_' : '8A', 'RCore' : '8A', 'R6' : '8A', 'R5' : '8A', 'R4' : '8A', 'R3' : '8A', 'R2' : '8A', '8A- Rind' : '8A',\n",
    "                        'R1' : '8A', 'R0' : '8A', '8A+' : '8A', '8A-' : '8A', '8A_' : '8A', '14A_' : '14A', '6B_' : '6B', '15B' : 'LinE',\n",
    "                        '16B' : 'hlx16', '16B_' : 'hlx16', '16B_small' : 'hlx16', '8A? 16B?' : 'hlx16', '4B_' : '4B', '4B-' : '4B', \n",
    "                        '4B+' : '4B', '22A_' : '22A', '22A?' : '22A', '21A_' : '21A', '9Ac_' : '9A', '1B_' : '1B', '13B_' : '13B'}, inplace=True)\n",
    "\n",
    "# merged_premotor = merged_premotor.replace(['RVD','Rcore_', 'RCore', 'R6', 'R5', 'R4', 'R3', 'R2', 'R1', 'R0', '8A+', '8A-', '8A_'], '8A')\n",
    "# merged_premotor = merged_premotor.replace(['14A_'], '14A')\n",
    "# merged_premotor = merged_premotor.replace(['6B_'], '6B')\n",
    "# merged_premotor = merged_premotor.replace(['hlx16', '16B_', '16B_small', '8A? 16B?'], '16B')\n",
    "# merged_premotor = merged_premotor.replace(['4B_', '4B-', '4B+'], '4B')\n",
    "# merged_premotor = merged_premotor.replace(['22A_', '22A?'], '22A')\n",
    "# merged_premotor = merged_premotor.replace(['21A_'], '21A')\n",
    "# merged_premotor = merged_premotor.replace(['9Ac_'], '9A')\n",
    "# merged_premotor = merged_premotor.replace(['1B_'], '1B')\n",
    "# merged_premotor = merged_premotor.replace(['13B_'], '13B')"
   ]
  },
  {
   "cell_type": "code",
   "execution_count": null,
   "metadata": {},
   "outputs": [],
   "source": [
    "idx = pd.IndexSlice\n",
    "wing_df_loc = wing_df.loc[idx[:,:,:,['local','local_intersegmental'],:]]\n",
    "leg_df_loc = leg_df.loc[idx[['local','intersegmental'],:,:,:,:,:]]"
   ]
  },
  {
   "cell_type": "code",
   "execution_count": null,
   "metadata": {},
   "outputs": [],
   "source": [
    "leg_preMNs = pd.DataFrame(leg_df_loc.index.get_level_values('segID'))\n",
    "types = pd.DataFrame(leg_df_loc.index.get_level_values('cell_type'))\n",
    "\n",
    "leg_preMNs['cell_type'] = types\n"
   ]
  },
  {
   "cell_type": "code",
   "execution_count": null,
   "metadata": {},
   "outputs": [],
   "source": [
    "leg_preMNs = leg_preMNs.rename(columns={'segID':'pre_pt_root_id'})"
   ]
  },
  {
   "cell_type": "code",
   "execution_count": null,
   "metadata": {},
   "outputs": [],
   "source": [
    "merged_premotor_df = wing_df_loc.reset_index()[['pre_pt_root_id','cell_type']].merge(leg_preMNs, how = 'outer')\n",
    "len(merged_premotor_df)"
   ]
  },
  {
   "cell_type": "code",
   "execution_count": null,
   "metadata": {},
   "outputs": [],
   "source": [
    "leg_preMNs = pd.DataFrame(leg_df.index.get_level_values('segID'))\n",
    "types = pd.DataFrame(leg_df.index.get_level_values('cell_class'))\n",
    "leg_preMNs['cell_class'] = types\n",
    "leg_preMNs = leg_preMNs.rename(columns={'segID':'pre_pt_root_id'})\n",
    "\n",
    "merged_premotor_df = wing_df.reset_index()[['pre_pt_root_id','cell_class']].merge(leg_preMNs, how = 'outer')\n",
    "merged_premotor_df = merged_premotor_df.replace('local_intersegmental','intersegmental')\n"
   ]
  },
  {
   "cell_type": "code",
   "execution_count": null,
   "metadata": {},
   "outputs": [],
   "source": [
    "leg_preMNs[leg_preMNs.pre_pt_root_id.isin([648518346494308722])]"
   ]
  },
  {
   "cell_type": "code",
   "execution_count": null,
   "metadata": {},
   "outputs": [],
   "source": [
    "len(wing_df.reset_index()[['pre_pt_root_id','cell_class']])"
   ]
  },
  {
   "cell_type": "code",
   "execution_count": null,
   "metadata": {},
   "outputs": [],
   "source": [
    "len(df[df.cell_class.isin(['sensory'])].pre_pt_root_id.to_list())"
   ]
  },
  {
   "cell_type": "code",
   "execution_count": null,
   "metadata": {},
   "outputs": [],
   "source": [
    "648518346494308722"
   ]
  },
  {
   "cell_type": "code",
   "execution_count": null,
   "metadata": {},
   "outputs": [],
   "source": [
    "df2 = df[~df.pre_pt_root_id.isin([648518346494308722])]\n",
    "print(len(df2))\n",
    "print(len(df))"
   ]
  },
  {
   "cell_type": "code",
   "execution_count": null,
   "metadata": {},
   "outputs": [],
   "source": [
    "print(len(df))"
   ]
  },
  {
   "cell_type": "code",
   "execution_count": null,
   "metadata": {},
   "outputs": [],
   "source": [
    "len(hidden_ids)"
   ]
  },
  {
   "cell_type": "code",
   "execution_count": null,
   "metadata": {},
   "outputs": [],
   "source": [
    "# manually make cell class links\n",
    "df = merged_premotor_df\n",
    "\n",
    "json_base = 'https://neuromancer-seung-import.appspot.com/?json_url=https://raw.githubusercontent.com/tuthill-lab/Lesser_Azevedo_2023/main/jsons/'\n",
    "\n",
    "cell = 'sensory'\n",
    "df= df[~df.pre_pt_root_id.isin([648518346494308722])]\n",
    "hidden_ids = df[df.cell_class.isin([cell])].pre_pt_root_id.to_list()\n",
    "seg_ids = [648518346498320945]\n",
    "#[648518346459693060] # descending\n",
    "# 648518346495738219 ascending\n",
    "# 648518346465103221 local\n",
    "# 648518346491133985 intersegmental\n",
    "\n",
    "formatted_ids = [str(x) for x in seg_ids]\n",
    "formatted_hidden_ids = [str(x) for x in hidden_ids]\n",
    "state = make_json(seg_ids = formatted_ids,\n",
    "                  hidden_ids = formatted_hidden_ids)\n",
    "    \n",
    "json_title = ('{}.json'.format(cell))\n",
    "# save a json\n",
    "with open('jsons/{}'.format(json_title), \"w\") as outfile:\n",
    "    json.dump(state, outfile)\n",
    "\n",
    "# print a link to paste to sheet\n",
    "table_link = json_base + json_title\n",
    "print(table_link)"
   ]
  },
  {
   "cell_type": "code",
   "execution_count": null,
   "metadata": {},
   "outputs": [],
   "source": [
    "formatted_ids"
   ]
  },
  {
   "cell_type": "code",
   "execution_count": null,
   "metadata": {},
   "outputs": [],
   "source": [
    "formatted_hidden_ids"
   ]
  },
  {
   "cell_type": "code",
   "execution_count": null,
   "metadata": {},
   "outputs": [],
   "source": [
    "state"
   ]
  },
  {
   "cell_type": "code",
   "execution_count": null,
   "metadata": {},
   "outputs": [],
   "source": [
    "# hemilineage links\n",
    "\n",
    "wb = Workbook()\n",
    "sheet1 = wb.add_sheet('hemilineages')\n",
    "json_base = 'https://neuromancer-seung-import.appspot.com/?json_url=https://raw.githubusercontent.com/tuthill-lab/Lesser_Azevedo_2023/main/jsons/'\n",
    "cell_types = merged_premotor_df.cell_type.unique()\n",
    "hidden_ids = []\n",
    "r = 0\n",
    "for hemilineage in cell_types:\n",
    "        seg_ids = merged_premotor_df[merged_premotor_df.cell_type.isin([hemilineage])].pre_pt_root_id.to_list()\n",
    "        formatted_ids = [str(x) for x in seg_ids]\n",
    "        state = make_json(seg_ids = formatted_ids,\n",
    "                          hidden_ids = hidden_ids)\n",
    "        json_title = str(hemilineage)\n",
    "\n",
    "        # save a json\n",
    "        with open('jsons/{}.json'.format(json_title), \"w\") as outfile:\n",
    "                json.dump(state, outfile)\n",
    "\n",
    "        table_link = json_base + json_title\n",
    "        hyperlink = 'HYPERLINK(\"{}.json\";\"{}\")'.format(table_link, json_title)\n",
    "        sheet1.write(r, 1, Formula(hyperlink))\n",
    "        r = r+1\n",
    "\n",
    "        wb.save('hemilineage_links.xls')\n",
    "        "
   ]
  },
  {
   "cell_type": "code",
   "execution_count": null,
   "metadata": {},
   "outputs": [],
   "source": [
    "\n",
    "# make json links and a table for neuroglancer states by cell class and preferred module\n",
    "\n",
    "# toggle for leg vs wing\n",
    "# hidden_ids = leg_mns # wing_mns leg_mns\n",
    "limb_dict = leg_dict # wing_dict leg_dict\n",
    "df = leg_df # wing_df leg_df\n",
    "column_title = 'Leg preMNs' # Wing Leg\n",
    "\n",
    "idx = pd.IndexSlice\n",
    "# cell_classes = wing_df.index.get_level_values('cell_class').unique().to_list()\n",
    "cell_classes = leg_df.index.get_level_values('cell_class').unique().to_list()\n",
    "\n",
    "wb = Workbook()\n",
    "sheet1 = wb.add_sheet('PreMNs')\n",
    "sheet1.write(0,1, column_title)\n",
    "json_base = 'https://neuromancer-seung-import.appspot.com/?json_url=https://raw.githubusercontent.com/tuthill-lab/Lesser_Azevedo_2023/main/jsons/'\n",
    "r = 0 # table row\n",
    "for module in limb_dict: # preferred module loop\n",
    "    r = r+1\n",
    "    c = 1\n",
    "    for cell_class in cell_classes: # cell class loop   \n",
    "        c = c+1 \n",
    "        json_title = '{}_{}'.format(cell_class,module)\n",
    "        # module_preMN = module + '_syn' #### WING ONLY\n",
    "\n",
    "        # seg_ids = wing_df.loc[idx[:,module_preMN,:,cell_class,:]].reset_index().pre_pt_root_id.to_list()\n",
    "        seg_ids = leg_df.loc[idx[cell_class,module,:,:,:,:]].reset_index().segID.to_list()\n",
    "\n",
    "    \n",
    "        formatted_ids = [str(x) for x in seg_ids]\n",
    "        \n",
    "        state = make_json(seg_ids = formatted_ids)\n",
    "        \n",
    "        # # save a json\n",
    "        # with open('jsons/{}.json'.format(json_title), \"w\") as outfile:\n",
    "        #     json.dump(state, outfile)\n",
    "\n",
    "        table_link = json_base + json_title\n",
    "        hyperlink = 'HYPERLINK(\"{}.json\";\"{}\")'.format(table_link, json_title)\n",
    "        # '\"{} \" & HYPERLINK(\"{}\")'.format(json_title[:-5], table_link)\n",
    "        sheet1.write(r, c, Formula(hyperlink))\n",
    "\n",
    "wb.save('leg_preMNlinks.xls')\n",
    "        \n"
   ]
  },
  {
   "cell_type": "code",
   "execution_count": null,
   "metadata": {},
   "outputs": [],
   "source": []
  },
  {
   "cell_type": "code",
   "execution_count": null,
   "metadata": {},
   "outputs": [],
   "source": []
  },
  {
   "cell_type": "code",
   "execution_count": null,
   "metadata": {},
   "outputs": [],
   "source": [
    "# trouble shooting etc below"
   ]
  },
  {
   "cell_type": "code",
   "execution_count": null,
   "metadata": {},
   "outputs": [],
   "source": [
    "hyperlink\n"
   ]
  },
  {
   "cell_type": "code",
   "execution_count": null,
   "metadata": {},
   "outputs": [],
   "source": [
    "# https://neuromancer-seung-import.appspot.com/?json_url=https://raw.githubusercontent.com/tuthill-lab/Lesser_Azevedo_2023/main/jsons/11A.json"
   ]
  },
  {
   "cell_type": "code",
   "execution_count": null,
   "metadata": {},
   "outputs": [],
   "source": [
    "table_link\n"
   ]
  },
  {
   "cell_type": "code",
   "execution_count": null,
   "metadata": {},
   "outputs": [],
   "source": [
    "# save a json\n",
    "with open('jsons/{}.json'.format(json_title), \"w\") as outfile:\n",
    "    json.dump(state, outfile)"
   ]
  },
  {
   "cell_type": "code",
   "execution_count": null,
   "metadata": {},
   "outputs": [],
   "source": [
    "# make a link\n",
    "new_id = client.state.upload_state_json(state)\n",
    "client.state.build_neuroglancer_url(new_id, ngl_base)"
   ]
  },
  {
   "cell_type": "code",
   "execution_count": null,
   "metadata": {},
   "outputs": [],
   "source": [
    "\n"
   ]
  },
  {
   "cell_type": "code",
   "execution_count": null,
   "metadata": {},
   "outputs": [],
   "source": [
    "# make a table of the links\n",
    "import xlwt\n",
    "from xlwt import Workbook, Formula"
   ]
  },
  {
   "cell_type": "code",
   "execution_count": null,
   "metadata": {},
   "outputs": [],
   "source": [
    "wb = Workbook()\n",
    "sheet1 = wb.add_sheet('preMNs by cell class and preferred module')\n",
    "\n",
    "\n",
    "\n",
    "#### Wing\n",
    "idx = pd.IndexSlice\n",
    "df = wing_df.reset_index() # group by cell type\n",
    "\n",
    "modules = df.preferred_module.unique()\n",
    "cell_classes = df.cell_class.unique()\n",
    "\n",
    "for module in modules:\n",
    "    module_label = str(module)\n",
    "    module_df = df[df.preferred_module.isin([module_label])]\n",
    "\n",
    "    for cell in cell_classes:\n",
    "        cell_class_label = str(cell)\n",
    "        \n",
    "        seg_ids = module_df[module_df.cell_class.isin([cell_class_label])].pre_pt_root_id.to_list()\n",
    "        formatted_ids = [str(x) for x in seg_ids]\n",
    "    \n",
    "        statename = 'preferred_module_{}_{}'.format(module_label[:-4],cell_class_label) \n",
    "        state = make_json(name = statename,\n",
    "                          seg_ids = formatted_ids)\n",
    "        # new_id = client.state.upload_state_json(state)\n",
    "        # client.state.build_neuroglancer_url(new_id, ngl_base)\n",
    "\n",
    "    # save json\n",
    "        with open('jsons/{}.json'.format(statename), \"w\") as outfile:\n",
    "            json.dump(state, outfile)\n",
    "\n",
    "\n",
    "\n"
   ]
  },
  {
   "cell_type": "code",
   "execution_count": null,
   "metadata": {},
   "outputs": [],
   "source": [
    "import xlwt\n",
    "from xlwt import Workbook\n",
    "  \n",
    "# Workbook is created\n",
    "wb = Workbook()\n",
    "  \n",
    "# add_sheet is used to create sheet.\n",
    "sheet1 = wb.add_sheet('Sheet 1')\n",
    "  \n",
    "sheet1.write(1, 0, 'ISBT DEHRADUN')\n",
    "sheet1.write(2, 0, 'SHASTRADHARA')\n",
    "sheet1.write(3, 0, 'CLEMEN TOWN')\n",
    "sheet1.write(4, 0, 'RAJPUR ROAD')\n",
    "sheet1.write(5, 0, 'CLOCK TOWER')\n",
    "sheet1.write(0, 1, 'ISBT DEHRADUN')\n",
    "sheet1.write(0, 2, 'SHASTRADHARA')\n",
    "sheet1.write(0, 3, 'CLEMEN TOWN')\n",
    "sheet1.write(0, 4, 'RAJPUR ROAD')\n",
    "sheet1.write(0, 5, 'CLOCK TOWER')\n",
    "  \n",
    "wb.save('xlwt example.xls')"
   ]
  },
  {
   "cell_type": "code",
   "execution_count": null,
   "metadata": {},
   "outputs": [],
   "source": [
    "# trouble shooting and old code"
   ]
  },
  {
   "cell_type": "code",
   "execution_count": null,
   "metadata": {},
   "outputs": [],
   "source": [
    "state"
   ]
  },
  {
   "cell_type": "code",
   "execution_count": null,
   "metadata": {},
   "outputs": [],
   "source": [
    "# import dataframe\n",
    "wing_df = pd.read_pickle('preMN_to_MN_wing_v604_multi_df.pkl')"
   ]
  },
  {
   "cell_type": "code",
   "execution_count": null,
   "metadata": {},
   "outputs": [],
   "source": [
    "# generate a link based on a cell type\n",
    "# only for local and intersegmental preMNs\n",
    "\n",
    "idx = pd.IndexSlice\n",
    "df = wing_df.loc[idx[:,:,:,['local','local_intersegmental'],:]].reset_index() # group by cell type\n",
    "\n",
    "cell_types = df.cell_type.unique()\n",
    "\n",
    "for cell_type in cell_types[1:2]:\n",
    "    cell_type_label = str(cell_type)\n",
    "    seg_ids = df[df.cell_type.isin([cell_type_label])].pre_pt_root_id.to_list()\n",
    "    formatted_ids = [str(x) for x in seg_ids]\n",
    "    \n",
    "    state = make_json(name = cell_type_label,\n",
    "                   seg_ids = formatted_ids)\n",
    "    new_id = client.state.upload_state_json(state)\n",
    "    client.state.build_neuroglancer_url(new_id, ngl_base)\n",
    "\n",
    "    # save json \n",
    "    # with open('jsons/{}.json'.format(cell_type_label), \"w\") as outfile:\n",
    "    #     json.dump(state, outfile)\n",
    "\n"
   ]
  },
  {
   "cell_type": "code",
   "execution_count": null,
   "metadata": {},
   "outputs": [],
   "source": [
    "client.state.build_neuroglancer_url(new_id, ngl_base)\n"
   ]
  },
  {
   "cell_type": "code",
   "execution_count": null,
   "metadata": {},
   "outputs": [],
   "source": [
    "# generate a link based on preferred module\n",
    "\n",
    "idx = pd.IndexSlice\n",
    "df = wing_df.reset_index() # group by cell type\n",
    "\n",
    "modules = df.preferred_module.unique()\n",
    "\n",
    "for module in modules:\n",
    "    module_label = str(module)\n",
    "    seg_ids = df[df.preferred_module.isin([module_label])].pre_pt_root_id.to_list()\n",
    "    formatted_ids = [str(x) for x in seg_ids]\n",
    "    \n",
    "    state = make_json(name = module_label,\n",
    "                   seg_ids = formatted_ids)\n",
    "    # new_id = client.state.upload_state_json(state)\n",
    "    # client.state.build_neuroglancer_url(new_id, ngl_base)\n",
    "\n",
    "    # save json \n",
    "    with open('jsons/{}.json'.format(module_label), \"w\") as outfile:\n",
    "        json.dump(state, outfile)\n"
   ]
  },
  {
   "cell_type": "code",
   "execution_count": null,
   "metadata": {},
   "outputs": [],
   "source": [
    "# jsons per cell class / per preferred module \n",
    "\n",
    "idx = pd.IndexSlice\n",
    "df = wing_df.reset_index() # group by cell type\n",
    "\n",
    "modules = df.preferred_module.unique()\n",
    "cell_classes = df.cell_class.unique()\n",
    "\n",
    "for module in modules:\n",
    "    module_label = str(module)\n",
    "    module_df = df[df.preferred_module.isin([module_label])]\n",
    "\n",
    "    for cell in cell_classes:\n",
    "        cell_class_label = str(cell)\n",
    "        \n",
    "        seg_ids = module_df[module_df.cell_class.isin([cell_class_label])].pre_pt_root_id.to_list()\n",
    "        formatted_ids = [str(x) for x in seg_ids]\n",
    "    \n",
    "        statename = 'preferred_module_{}_{}'.format(module_label[:-4],cell_class_label) \n",
    "        state = make_json(name = statename,\n",
    "                          seg_ids = formatted_ids)\n",
    "        # new_id = client.state.upload_state_json(state)\n",
    "        # client.state.build_neuroglancer_url(new_id, ngl_base)\n",
    "\n",
    "    # save json\n",
    "        with open('jsons/{}.json'.format(statename), \"w\") as outfile:\n",
    "            json.dump(state, outfile)\n",
    "\n"
   ]
  },
  {
   "cell_type": "code",
   "execution_count": null,
   "metadata": {},
   "outputs": [],
   "source": [
    "# module jsons \n",
    "mn_df = pd.read_pickle('wingMN_properties_v604.pkl')\n",
    "\n",
    "# modules\n",
    "DLM_mod = ['DLM_1','DLM_2','DLM_3','DLM_4','DLM_5']\n",
    "DVM_mod = ['DVM_1a','DVM_1b','DVM_1c','DVM_2a','DVM_2b','DVM_3a','DVM_3b']\n",
    "tension_mod = ['PS1','PSn_u','PS2','dtpmn_u','tp2']\n",
    "steerA_mod = ['tpn','iii1','iii3']\n",
    "steerB_mod = ['i2_u','i1','b3_u']\n",
    "steerC_mod = ['b2','b1']\n",
    "hg2_mod = ['hg2']\n",
    "steerD_mod = ['hg1_u','hg3','hg4','iii4a_u']\n",
    "\n",
    "mn_df.loc[mn_df.MN_label.isin(DLM_mod), 'motor_module'] = 'DLM_module'\n",
    "mn_df.loc[mn_df.MN_label.isin(DVM_mod), 'motor_module'] = 'DVM_module'\n",
    "mn_df.loc[mn_df.MN_label.isin(tension_mod), 'motor_module'] = 'tension_module'\n",
    "mn_df.loc[mn_df.MN_label.isin(steerA_mod), 'motor_module'] = 'steerA_module'\n",
    "mn_df.loc[mn_df.MN_label.isin(steerB_mod), 'motor_module'] = 'steerB_module'\n",
    "mn_df.loc[mn_df.MN_label.isin(steerC_mod), 'motor_module'] = 'steerC_module'\n",
    "mn_df.loc[mn_df.MN_label.isin(hg2_mod), 'motor_module'] = 'hg2_module'\n",
    "mn_df.loc[mn_df.MN_label.isin(steerD_mod), 'motor_module'] = 'steerD_module'\n",
    "\n",
    "modules = mn_df.motor_module.unique()\n",
    "\n",
    "for module in modules:\n",
    "    module_label = str(module)\n",
    "    seg_ids = mn_df[mn_df.motor_module.isin([module_label])].MN_id.to_list()\n",
    "    formatted_ids = [str(x) for x in seg_ids]\n",
    "    \n",
    "    state = make_json(name = module_label,\n",
    "                   seg_ids = formatted_ids)\n",
    "    # new_id = client.state.upload_state_json(state)\n",
    "    # client.state.build_neuroglancer_url(new_id, ngl_base)\n",
    "\n",
    "    # save json \n",
    "    with open('jsons/{}_MNs.json'.format(module_label), \"w\") as outfile:\n",
    "        json.dump(state, outfile)\n",
    "\n"
   ]
  },
  {
   "cell_type": "code",
   "execution_count": null,
   "metadata": {},
   "outputs": [],
   "source": [
    "mn_df.loc[mn_df.index.isin(steerD_mod)]"
   ]
  },
  {
   "cell_type": "code",
   "execution_count": null,
   "metadata": {},
   "outputs": [],
   "source": []
  },
  {
   "cell_type": "code",
   "execution_count": null,
   "metadata": {},
   "outputs": [],
   "source": [
    "pd.read_pickle('wingMN_properties_v604.pkl')"
   ]
  },
  {
   "cell_type": "code",
   "execution_count": null,
   "metadata": {},
   "outputs": [],
   "source": []
  },
  {
   "cell_type": "code",
   "execution_count": null,
   "metadata": {},
   "outputs": [],
   "source": [
    "# if you want a link\n",
    "client.state.build_neuroglancer_url(new_id, ngl_base)"
   ]
  }
 ],
 "metadata": {
  "kernelspec": {
   "display_name": ".fanc_env",
   "language": "python",
   "name": "python3"
  },
  "language_info": {
   "codemirror_mode": {
    "name": "ipython",
    "version": 3
   },
   "file_extension": ".py",
   "mimetype": "text/x-python",
   "name": "python",
   "nbconvert_exporter": "python",
   "pygments_lexer": "ipython3",
   "version": "3.9.6"
  },
  "orig_nbformat": 4
 },
 "nbformat": 4,
 "nbformat_minor": 2
}
