{
 "cells": [
  {
   "cell_type": "code",
   "execution_count": 1,
   "metadata": {},
   "outputs": [],
   "source": [
    "## checking numbers in the text"
   ]
  },
  {
   "cell_type": "code",
   "execution_count": 2,
   "metadata": {},
   "outputs": [],
   "source": [
    "# import packages\n",
    "import pandas as pd\n",
    "from matplotlib import pyplot,patches\n",
    "import matplotlib.pyplot as plt\n",
    "import numpy as np\n",
    "import seaborn as sns\n",
    "import cmocean\n",
    "from scipy import stats\n"
   ]
  },
  {
   "cell_type": "code",
   "execution_count": 3,
   "metadata": {},
   "outputs": [],
   "source": [
    "# import pkl files\n",
    "wing_multi_df = pd.read_pickle('pkls/preMN_to_MN_wing_v840.pkl')\n",
    "wing_synapses_df = pd.read_pickle('pkls/synapse_positions_wing_v840.pkl')\n",
    "wing_properties_df = pd.read_pickle('pkls/mn_properties_wing_v840.pkl')\n",
    "\n",
    "leg_typed_df = pd.read_pickle('pkls/leg_local_interseg_typed_012524.pkl')\n",
    "leg_multi_df = pd.read_pickle('../../../Downloads/pre_to_mn_df_matched_typed_with_nt_20240117.pkl')\n",
    "old_leg_df = pd.read_pickle('pkls/pre_to_mn_df_matched_typed_with_nt_v604_20230525.pkl')\n",
    "leg_properties_df = pd.read_pickle('../../../Downloads/leg_MN_fixed_somas_051923.pkl')\n",
    "leg_w_fragments_df = pd.read_pickle('../../../Downloads/pre_to_mn_df_pre_match_to_pool_w_fragments_20240129.pkl')"
   ]
  },
  {
   "cell_type": "code",
   "execution_count": 4,
   "metadata": {},
   "outputs": [
    {
     "name": "stdout",
     "output_type": "stream",
     "text": [
      "Leg: 212190 synapses from 1546 preMNs\n",
      "v604 leg: 207991 synapses from 1460 preMNs\n",
      "Wing: 144668 synapses from 1784 preMNs\n"
     ]
    }
   ],
   "source": [
    "# X synapses from Y preMNs\n",
    "\n",
    "print(\"Leg: {} synapses from {} preMNs\".format(leg_multi_df.sum().sum(), len(leg_multi_df)))\n",
    "print(\"v604 leg: {} synapses from {} preMNs\".format(old_leg_df.sum().sum(), len(old_leg_df)))\n",
    "\n",
    "print(\"Wing: {} synapses from {} preMNs\".format(wing_multi_df.MN_syn_total.sum(), len(wing_multi_df)))\n"
   ]
  },
  {
   "cell_type": "code",
   "execution_count": 5,
   "metadata": {},
   "outputs": [
    {
     "name": "stdout",
     "output_type": "stream",
     "text": [
      "Leg: 20344 fragment synapses are 8.748828128359724% of synapses\n",
      "Wing: 11966 fragment synapses are 7.639465250201106% of synapses\n"
     ]
    }
   ],
   "source": [
    "## X synapses including fragments. fragments are Y% of the connectome\n",
    "\n",
    "leg_w_frag = leg_w_fragments_df.sum().sum()\n",
    "wing_w_frag = wing_properties_df.total_inputs.sum()\n",
    "\n",
    "leg_frag_syn = leg_w_frag - leg_multi_df.sum().sum()\n",
    "wing_frag_syn = wing_w_frag - wing_multi_df.MN_syn_total.sum()\n",
    "\n",
    "print(\"Leg: {} fragment synapses are {}% of synapses\".format(\n",
    "leg_frag_syn, (leg_frag_syn/leg_w_frag)*100))\n",
    "print(\"Wing: {} fragment synapses are {}% of synapses\".format(\n",
    "wing_frag_syn, (wing_frag_syn/wing_w_frag)*100))"
   ]
  },
  {
   "cell_type": "code",
   "execution_count": 6,
   "metadata": {},
   "outputs": [
    {
     "name": "stdout",
     "output_type": "stream",
     "text": [
      "Wing: 4988.55 ± 2340.46 synapses from 251.34 ± 84.45 preMNs\n",
      "Leg: 3075.22 ± 2597.76 synapses from 161.39 ± 90.66 preMNs\n",
      "Both: 3641.41 ± 2671.16 synapses from 188.01 ± 97.89 preMNs\n"
     ]
    }
   ],
   "source": [
    "## X synapses per MN on averages, Y preMNs per MN on average\n",
    "flat_leg_multi = leg_multi_df.T.droplevel(['side','segment','function','muscle','rank','nerve']).T\n",
    "\n",
    "NUM_wing_premns = wing_multi_df.astype(bool).sum(axis=0)[:-1]\n",
    "NUM_leg_premns = flat_leg_multi.astype(bool).sum(axis=0)\n",
    "NUM_all_premns = pd.concat([NUM_wing_premns, NUM_leg_premns])\n",
    "\n",
    "NUM_wing_synapses = wing_multi_df.sum()[:-1]\n",
    "NUM_leg_synapses = flat_leg_multi.sum()\n",
    "NUM_all_synapses = pd.concat([NUM_wing_synapses,NUM_leg_synapses])\n",
    "\n",
    "print(\"Wing: {} \\u00B1 {} synapses from {} \\u00B1 {} preMNs\".format(\n",
    "    np.round(np.mean(NUM_wing_synapses),2), np.round(np.std(NUM_wing_synapses),2), np.round(np.mean(NUM_wing_premns),2), np.round(np.std(NUM_wing_premns),2)))\n",
    "\n",
    "print(\"Leg: {} \\u00B1 {} synapses from {} \\u00B1 {} preMNs\".format(\n",
    "    np.round(np.mean(NUM_leg_synapses),2), np.round(np.std(NUM_leg_synapses),2), np.round(np.mean(NUM_leg_premns),2), np.round(np.std(NUM_leg_premns),2)))\n",
    "\n",
    "print(\"Both: {} \\u00B1 {} synapses from {} \\u00B1 {} preMNs\".format(\n",
    "    np.round(np.mean(NUM_all_synapses),2), np.round(np.std(NUM_all_synapses),2), np.round(np.mean(NUM_all_premns),2), np.round(np.std(NUM_all_premns),2)))\n"
   ]
  },
  {
   "cell_type": "code",
   "execution_count": 7,
   "metadata": {},
   "outputs": [
    {
     "name": "stdout",
     "output_type": "stream",
     "text": [
      "Wing: 5.09 ± 3.08 MNs per preMN\n",
      "Leg: 7.2 ± 7.41 MNs per preMN\n",
      "Both: 6.07 ± 5.63 MNs per preMN\n"
     ]
    }
   ],
   "source": [
    "# each preMN synapses onto X MNs\n",
    "\n",
    "leg_premns = flat_leg_multi.T.astype(bool).sum(axis=0).values\n",
    "wing_premns = wing_multi_df.T.astype(bool).sum(axis=0).values\n",
    "\n",
    "print(\"Wing: {} \\u00B1 {} MNs per preMN\".format(np.round(np.mean(wing_premns),2), np.round(np.std(wing_premns),2)))\n",
    "print(\"Leg: {} \\u00B1 {} MNs per preMN\".format(np.round(np.mean(leg_premns),2), np.round(np.std(leg_premns),2)))\n",
    "print(\"Both: {} \\u00B1 {} MNs per preMN\".format(np.round(np.mean(np.concatenate([wing_premns,leg_premns])),2), np.round(np.std(np.concatenate([wing_premns,leg_premns])),2)))\n"
   ]
  },
  {
   "cell_type": "code",
   "execution_count": 8,
   "metadata": {},
   "outputs": [],
   "source": [
    "## update leg_properties_df input synapse count to include fragments/updated materialization \n"
   ]
  },
  {
   "cell_type": "code",
   "execution_count": 9,
   "metadata": {},
   "outputs": [],
   "source": [
    "flat_leg_frag = leg_w_fragments_df.T.droplevel(['side','segment','function','muscle','rank','nerve']).T\n",
    "id_and_frag = pd.DataFrame(flat_leg_frag.sum().rename_axis('pt_root_id').reset_index(name='total_inputs'))"
   ]
  },
  {
   "cell_type": "code",
   "execution_count": 11,
   "metadata": {},
   "outputs": [
    {
     "name": "stdout",
     "output_type": "stream",
     "text": [
      "Leg: 0.44 ± 0.02 synapses per um²; r = 0.91, p = 1.599309057313202e-55\n",
      "All Wing: 0.22 ± 0.04 synapses per um²; r = 0.71, p = 1.6020377958066753e-05\n",
      "Wing indirect: 0.24 ± 0.02 synapses per um²; r = 0.98, p = 4.094391038469795e-08\n",
      "Wing tension: 0.59 ± 0.07 synapses per um²; r = 0.98, p = 0.003783934743628032\n",
      "Wing direct: 0.09 ± 0.08 synapses per um²; r = 0.34, p = 0.2785120379281504\n",
      "Wing, no b1: 0.41 ± 0.07 synapses per um²; r = 0.9, p = 0.00015761763067454815\n",
      "direct+tension, no b1: 0.41 ± 0.07 synapses per um²; r = 0.9, p = 0.00015761763067454815\n",
      "16\n"
     ]
    }
   ],
   "source": [
    "# MN synapses per surface area\n",
    "\n",
    "leg_slope, intercept, leg_r, leg_p, leg_std_err = stats.linregress(leg_properties_df.total_area_fixed_um, leg_properties_df.input_syn_count)\n",
    "wing_slope, intercept, wing_r, wing_p, wing_std_err = stats.linregress(wing_properties_df.total_area_fixed_um, wing_properties_df.total_inputs)\n",
    "\n",
    "print(\"Leg: {} \\u00B1 {} synapses per um\\u00b2; r = {}, p = {}\".format(\n",
    "    np.round(leg_slope,2), np.round(leg_std_err,2), np.round(leg_r,2), leg_p))\n",
    "\n",
    "print(\"All Wing: {} \\u00B1 {} synapses per um\\u00b2; r = {}, p = {}\".format(\n",
    "    np.round(wing_slope,2), np.round(wing_std_err,2), np.round(wing_r,2), wing_p))\n",
    "\n",
    "#####\n",
    "indir_df = wing_properties_df[wing_properties_df.cell_type.str.startswith('D')].reset_index(drop=True)\n",
    "wing_slope, intercept, wing_r, wing_p, wing_std_err = stats.linregress(indir_df.total_area_fixed_um, indir_df.total_inputs)\n",
    "print(\"Wing indirect: {} \\u00B1 {} synapses per um\\u00b2; r = {}, p = {}\".format(\n",
    "    np.round(wing_slope,2), np.round(wing_std_err,2), np.round(wing_r,2), wing_p))\n",
    "\n",
    "tens_df = wing_properties_df[wing_properties_df.cell_type.str.startswith(('P','d','t'), na=False)].reset_index(drop=True)\n",
    "wing_slope, intercept, wing_r, wing_p, wing_std_err = stats.linregress(tens_df.total_area_fixed_um, tens_df.total_inputs)\n",
    "print(\"Wing tension: {} \\u00B1 {} synapses per um\\u00b2; r = {}, p = {}\".format(\n",
    "    np.round(wing_slope,2), np.round(wing_std_err,2), np.round(wing_r,2), wing_p))\n",
    "\n",
    "direct_df = wing_properties_df[wing_properties_df.cell_type.str.startswith(('i','iii','hg','b'), na=False)].reset_index(drop=True)\n",
    "wing_slope, intercept, wing_r, wing_p, wing_std_err = stats.linregress(direct_df.total_area_fixed_um, direct_df.total_inputs)\n",
    "print(\"Wing direct: {} \\u00B1 {} synapses per um\\u00b2; r = {}, p = {}\".format(\n",
    "    np.round(wing_slope,2), np.round(wing_std_err,2), np.round(wing_r,2), wing_p))\n",
    "\n",
    "direct_df = wing_properties_df[wing_properties_df.cell_type.str.startswith(('i','iii','hg','b2','b3'), na=False)].reset_index(drop=True)\n",
    "wing_slope, intercept, wing_r, wing_p, wing_std_err = stats.linregress(direct_df.total_area_fixed_um, direct_df.total_inputs)\n",
    "print(\"Wing, no b1: {} \\u00B1 {} synapses per um\\u00b2; r = {}, p = {}\".format(\n",
    "    np.round(wing_slope,2), np.round(wing_std_err,2), np.round(wing_r,2), wing_p))\n",
    "\n",
    "direct_tens_df = wing_properties_df[wing_properties_df.cell_type.str.startswith(('i','iii','hg','b2','b3','tp','P', 'd'), na=False)].reset_index(drop=True)\n",
    "wing_slope, intercept, wing_r, wing_p, wing_std_err = stats.linregress(direct_df.total_area_fixed_um, direct_df.total_inputs)\n",
    "print(\"direct+tension, no b1: {} \\u00B1 {} synapses per um\\u00b2; r = {}, p = {}\".format(\n",
    "    np.round(wing_slope,2), np.round(wing_std_err,2), np.round(wing_r,2), wing_p))\n",
    "print(len(direct_tens_df)) # should be 12+5-1=16"
   ]
  },
  {
   "cell_type": "code",
   "execution_count": 82,
   "metadata": {},
   "outputs": [
    {
     "name": "stdout",
     "output_type": "stream",
     "text": [
      "Wing: 11.181% ± 6.51% synapses from DNs\n",
      "Leg: 9.055% ± 4.19% synapses from DNs\n",
      "Both: 9.684% ± 5.09% synapses from DNs\n"
     ]
    }
   ],
   "source": [
    "## % of synapses from each cell class (DNs)\n",
    "\n",
    "wing_dn_synapses = wing_multi_df[wing_multi_df.index.get_level_values(level='classification_system').isin(['descending'])].sum()[:-1]\n",
    "leg_dn_synapses = flat_leg_multi[flat_leg_multi.index.get_level_values(level='cell_class').isin(['descending'])].sum()\n",
    "\n",
    "both_dn_synapses = pd.concat([wing_dn_synapses,leg_dn_synapses])\n",
    "both_all_synapses = pd.concat([NUM_wing_synapses,NUM_leg_synapses])\n",
    "\n",
    "print(\"Wing: {}% \\u00B1 {}% synapses from DNs\".format(\n",
    "    np.round(np.mean(wing_dn_synapses/NUM_wing_synapses)*100,3), np.round(np.std(wing_dn_synapses/NUM_wing_synapses)*100,2)))\n",
    "\n",
    "print(\"Leg: {}% \\u00B1 {}% synapses from DNs\".format(\n",
    "    np.round(np.mean(leg_dn_synapses/NUM_leg_synapses)*100,3), np.round(np.std(leg_dn_synapses/NUM_leg_synapses)*100,2)))\n",
    "\n",
    "print(\"Both: {}% \\u00B1 {}% synapses from DNs\".format(\n",
    "    np.round(np.mean(both_dn_synapses/both_all_synapses)*100,3), np.round(np.std(both_dn_synapses/both_all_synapses)*100,2)))\n"
   ]
  },
  {
   "cell_type": "code",
   "execution_count": 89,
   "metadata": {},
   "outputs": [
    {
     "name": "stdout",
     "output_type": "stream",
     "text": [
      "Wing: 39.4% ± 8.0% synapses from non local\n",
      "Leg: 31.3% ± 9.0% synapses from non local\n",
      "Both: 33.7% ± 10.0% synapses from non local\n"
     ]
    }
   ],
   "source": [
    "## % of synapses from each cell class (Non-local)\n",
    "\n",
    "wing_nonl_synapses = wing_multi_df[~wing_multi_df.index.get_level_values(level='classification_system').isin(['local'])].sum()[:-1]\n",
    "leg_nonl_synapses = flat_leg_multi[~flat_leg_multi.index.get_level_values(level='cell_class').isin(['local'])].sum()\n",
    "\n",
    "both_nonl_synapses = pd.concat([wing_nonl_synapses,leg_nonl_synapses])\n",
    "\n",
    "print(\"Wing: {}% \\u00B1 {}% synapses from non local\".format(\n",
    "    np.round(np.mean(wing_nonl_synapses/NUM_wing_synapses),3)*100, np.round(np.std(wing_nonl_synapses/NUM_wing_synapses),2)*100))\n",
    "\n",
    "print(\"Leg: {}% \\u00B1 {}% synapses from non local\".format(\n",
    "    np.round(np.mean(leg_nonl_synapses/NUM_leg_synapses),3)*100, np.round(np.std(leg_nonl_synapses/NUM_leg_synapses),2)*100))\n",
    "\n",
    "print(\"Both: {}% \\u00B1 {}% synapses from non local\".format(\n",
    "    np.round(np.mean(both_nonl_synapses/both_all_synapses),3)*100, np.round(np.std(both_nonl_synapses/both_all_synapses),2)*100))\n"
   ]
  },
  {
   "cell_type": "code",
   "execution_count": 95,
   "metadata": {},
   "outputs": [
    {
     "name": "stdout",
     "output_type": "stream",
     "text": [
      "Wing: 44.0% ± 6.0% neurons from non local\n",
      "Leg: 40.2% ± 10.0% neurons from non local\n",
      "Both: 41.3% ± 9.0% neurons from non local\n"
     ]
    }
   ],
   "source": [
    "## % of neurons from each cell class (Non-local)\n",
    "\n",
    "wing_nonl_neurons = wing_multi_df[~wing_multi_df.index.get_level_values(level='classification_system').isin(['local'])].astype(bool).sum(axis=0).values[:-1]\n",
    "leg_nonl_neurons = flat_leg_multi[~flat_leg_multi.index.get_level_values(level='cell_class').isin(['local'])].astype(bool).sum(axis=0).values\n",
    "\n",
    "wing_all_neurons = wing_multi_df.astype(bool).sum(axis=0).values[:-1]\n",
    "leg_all_neurons = flat_leg_multi.astype(bool).sum(axis=0).values\n",
    "\n",
    "both_nonl_neurons = np.concatenate([wing_nonl_neurons,leg_nonl_neurons])\n",
    "both_all_neurons = np.concatenate([wing_all_neurons,leg_all_neurons])\n",
    "\n",
    "print(\"Wing: {}% \\u00B1 {}% neurons from non local\".format(\n",
    "    np.round(np.mean(wing_nonl_neurons/wing_all_neurons),3)*100, np.round(np.std(wing_nonl_neurons/wing_all_neurons),2)*100))\n",
    "\n",
    "print(\"Leg: {}% \\u00B1 {}% neurons from non local\".format(\n",
    "    np.round(np.mean(leg_nonl_neurons/leg_all_neurons),3)*100, np.round(np.std(leg_nonl_neurons/leg_all_neurons),2)*100))\n",
    "\n",
    "print(\"Both: {}% \\u00B1 {}% neurons from non local\".format(\n",
    "    np.round(np.mean(both_nonl_neurons/both_all_neurons),3)*100, np.round(np.std(both_nonl_neurons/both_all_neurons),2)*100))"
   ]
  },
  {
   "cell_type": "code",
   "execution_count": 453,
   "metadata": {},
   "outputs": [
    {
     "name": "stdout",
     "output_type": "stream",
     "text": [
      "Leg Local: 43.1% of neurons, 66.60000000000001% of synapses\n",
      "Leg Intersegmental: 19.2% of neurons, 13.8% of synapses\n",
      "Leg Descending: 15.0% of neurons, 10.100000000000001% of synapses\n"
     ]
    }
   ],
   "source": [
    "# leg synapses/neurons per class quantifications\n",
    "\n",
    "leg_local_df = flat_leg_multi[flat_leg_multi.index.get_level_values(level='cell_class').isin(['local'])]\n",
    "leg_interseg_df = flat_leg_multi[flat_leg_multi.index.get_level_values(level='cell_class').isin(['intersegmental'])]\n",
    "leg_desc_df = flat_leg_multi[flat_leg_multi.index.get_level_values(level='cell_class').isin(['descending'])]\n",
    "\n",
    "# # per MN\n",
    "# print(\"Leg Local: {}% \\u00B1 {}% neurons, {}% \\u00B1 {}% synapses\".format(\n",
    "#     np.round(np.mean(leg_local_df.astype(bool).sum(axis=0).values/leg_all_neurons),3)*100, np.round(np.std(leg_local_df.astype(bool).sum(axis=0).values/leg_all_neurons),2)*100,\n",
    "#     np.round(np.mean(leg_local_df.sum()/NUM_leg_synapses),3)*100, np.round(np.std(leg_local_df.sum()/NUM_leg_synapses),2)*100,))\n",
    "\n",
    "# print(\"Leg Intersegmental: {}% \\u00B1 {}% neurons, {}% \\u00B1 {} synapses\".format(\n",
    "#     np.round(np.mean(leg_interseg_df.astype(bool).sum(axis=0).values/leg_all_neurons),3)*100, np.round(np.std(leg_interseg_df.astype(bool).sum(axis=0).values/leg_all_neurons),2)*100,\n",
    "#     np.round(np.mean(leg_interseg_df.sum()/NUM_leg_synapses),3)*100, np.round(np.std(leg_interseg_df.sum()/NUM_leg_synapses),2)*100,))\n",
    "\n",
    "# print(\"Leg Descending: {}% \\u00B1 {}% neurons, {}% \\u00B1 {}% synapses\".format(\n",
    "#     np.round(np.mean(leg_desc_df.astype(bool).sum(axis=0).values/leg_all_neurons),3)*100, np.round(np.std(leg_desc_df.astype(bool).sum(axis=0).values/leg_all_neurons),2)*100,\n",
    "#     np.round(np.mean(leg_desc_df.sum()/NUM_leg_synapses),3)*100, np.round(np.std(leg_desc_df.sum()/NUM_leg_synapses),2)*100,))\n",
    "\n",
    "# as a whole\n",
    "print(\"Leg Local: {}% of neurons, {}% of synapses\".format(\n",
    "    np.round(len(leg_local_df)/len(flat_leg_multi),3)*100, np.round(leg_local_df.sum().sum()/flat_leg_multi.sum().sum(),3)*100))\n",
    "print(\"Leg Intersegmental: {}% of neurons, {}% of synapses\".format(\n",
    "    np.round(len(leg_interseg_df)/len(flat_leg_multi),3)*100, np.round(leg_interseg_df.sum().sum()/flat_leg_multi.sum().sum(),3)*100))\n",
    "print(\"Leg Descending: {}% of neurons, {}% of synapses\".format(\n",
    "    np.round(len(leg_desc_df)/len(flat_leg_multi),3)*100, np.round(leg_desc_df.sum().sum()/flat_leg_multi.sum().sum(),3)*100))"
   ]
  },
  {
   "cell_type": "code",
   "execution_count": 457,
   "metadata": {},
   "outputs": [
    {
     "data": {
      "text/plain": [
       "297"
      ]
     },
     "execution_count": 457,
     "metadata": {},
     "output_type": "execute_result"
    }
   ],
   "source": [
    "len(leg_interseg_df)"
   ]
  },
  {
   "cell_type": "code",
   "execution_count": 141,
   "metadata": {},
   "outputs": [
    {
     "name": "stdout",
     "output_type": "stream",
     "text": [
      "b1 sensory: 17.299999999999997% of synapses, 24.3% of neurons\n",
      "b3 sensory: 13.5% of synapses, 20.5% of neurons\n",
      "iii3 sensory: 18.5% of synapses, 26.8% of neurons\n",
      "i2 sensory: 11.1% of synapses, 12.2% of neurons\n",
      "iv4 sensory: 4.3% of synapses, 9.5% of neurons\n"
     ]
    }
   ],
   "source": [
    "# wing steering sensory/descending input\n",
    "\n",
    "wing_sensory_df = wing_multi_df[wing_multi_df.index.get_level_values(level='classification_system').isin(['sensory'])]\n",
    "wing_descending_df = wing_multi_df[wing_multi_df.index.get_level_values(level='classification_system').isin(['descending'])]\n",
    "\n",
    "print(\"b1 sensory: {}% of synapses, {}% of neurons\".format(\n",
    "    np.round(wing_sensory_df.b1.sum().sum()/wing_multi_df.b1.sum().sum(),3)*100, np.round(wing_sensory_df.b1.astype(bool).sum()/wing_multi_df.b1.astype(bool).sum(),3)*100))\n",
    "# print(\"b1 descending: {}% of synapses, {}% of neurons\".format(\n",
    "#     np.round(wing_descending_df.b1.sum().sum()/wing_multi_df.b1.sum().sum(),3)*100, np.round(wing_descending_df.b1.astype(bool).sum()/wing_multi_df.b1.astype(bool).sum(),3)*100))\n",
    "\n",
    "print(\"b3 sensory: {}% of synapses, {}% of neurons\".format(\n",
    "    np.round(wing_sensory_df.b3_u.sum().sum()/wing_multi_df.b3_u.sum().sum(),3)*100, np.round(wing_sensory_df.b3_u.astype(bool).sum()/wing_multi_df.b3_u.astype(bool).sum(),3)*100))\n",
    "# print(\"b3 descending: {}% of synapses, {}% of neurons\".format(\n",
    "#     np.round(wing_descending_df.b3_u.sum().sum()/wing_multi_df.b3_u.sum().sum(),3)*100, np.round(wing_descending_df.b3_u.astype(bool).sum()/wing_multi_df.b3_u.astype(bool).sum(),3)*100))\n",
    "\n",
    "print(\"iii3 sensory: {}% of synapses, {}% of neurons\".format(\n",
    "    np.round(wing_sensory_df.iii3.sum().sum()/wing_multi_df.iii3.sum().sum(),3)*100, np.round(wing_sensory_df.iii3.astype(bool).sum()/wing_multi_df.iii3.astype(bool).sum(),3)*100))\n",
    "# print(\"iii3 descending: {}% of synapses, {}% of neurons\".format(\n",
    "#     np.round(wing_descending_df.iii3.sum().sum()/wing_multi_df.iii3.sum().sum(),3)*100, np.round(wing_descending_df.iii3.astype(bool).sum()/wing_multi_df.iii3.astype(bool).sum(),3)*100))\n",
    "\n",
    "print(\"i2 sensory: {}% of synapses, {}% of neurons\".format(\n",
    "    np.round(wing_sensory_df.i2_u.sum().sum()/wing_multi_df.i2_u.sum().sum(),3)*100, np.round(wing_sensory_df.i2_u.astype(bool).sum()/wing_multi_df.i2_u.astype(bool).sum(),3)*100))\n",
    "# print(\"i2 descending: {}% of synapses, {}% of neurons\".format(\n",
    "#     np.round(wing_descending_df.i2_u.sum().sum()/wing_multi_df.i2_u.sum().sum(),3)*100, np.round(wing_descending_df.i2_u.astype(bool).sum()/wing_multi_df.i2_u.astype(bool).sum(),3)*100))\n",
    "\n",
    "print(\"iv4 sensory: {}% of synapses, {}% of neurons\".format(\n",
    "    np.round(wing_sensory_df.hg4.sum().sum()/wing_multi_df.hg4.sum().sum(),3)*100, np.round(wing_sensory_df.hg4.astype(bool).sum()/wing_multi_df.hg4.astype(bool).sum(),3)*100))\n",
    "# print(\"iv4 descending: {}% of synapses, {}% of neurons\".format(\n",
    "#     np.round(wing_descending_df.hg4.sum().sum()/wing_multi_df.hg4.sum().sum(),3)*100, np.round(wing_descending_df.hg4.astype(bool).sum()/wing_multi_df.hg4.astype(bool).sum(),3)*100))"
   ]
  },
  {
   "cell_type": "code",
   "execution_count": 157,
   "metadata": {},
   "outputs": [
    {
     "data": {
      "text/html": [
       "<div>\n",
       "<style scoped>\n",
       "    .dataframe tbody tr th:only-of-type {\n",
       "        vertical-align: middle;\n",
       "    }\n",
       "\n",
       "    .dataframe tbody tr th {\n",
       "        vertical-align: top;\n",
       "    }\n",
       "\n",
       "    .dataframe thead th {\n",
       "        text-align: right;\n",
       "    }\n",
       "</style>\n",
       "<table border=\"1\" class=\"dataframe\">\n",
       "  <thead>\n",
       "    <tr style=\"text-align: right;\">\n",
       "      <th></th>\n",
       "      <th>pt_root_id</th>\n",
       "      <th>sensory input %</th>\n",
       "    </tr>\n",
       "  </thead>\n",
       "  <tbody>\n",
       "    <tr>\n",
       "      <th>20</th>\n",
       "      <td>iii3</td>\n",
       "      <td>18.471338</td>\n",
       "    </tr>\n",
       "    <tr>\n",
       "      <th>26</th>\n",
       "      <td>b1</td>\n",
       "      <td>17.273126</td>\n",
       "    </tr>\n",
       "    <tr>\n",
       "      <th>28</th>\n",
       "      <td>b3_u</td>\n",
       "      <td>13.521968</td>\n",
       "    </tr>\n",
       "    <tr>\n",
       "      <th>18</th>\n",
       "      <td>i2_u</td>\n",
       "      <td>11.092839</td>\n",
       "    </tr>\n",
       "    <tr>\n",
       "      <th>27</th>\n",
       "      <td>b2</td>\n",
       "      <td>8.426628</td>\n",
       "    </tr>\n",
       "    <tr>\n",
       "      <th>17</th>\n",
       "      <td>i1</td>\n",
       "      <td>6.309317</td>\n",
       "    </tr>\n",
       "    <tr>\n",
       "      <th>6</th>\n",
       "      <td>DVM_1b</td>\n",
       "      <td>5.010087</td>\n",
       "    </tr>\n",
       "    <tr>\n",
       "      <th>21</th>\n",
       "      <td>iii4a_u</td>\n",
       "      <td>4.971629</td>\n",
       "    </tr>\n",
       "    <tr>\n",
       "      <th>16</th>\n",
       "      <td>tpn</td>\n",
       "      <td>4.916574</td>\n",
       "    </tr>\n",
       "    <tr>\n",
       "      <th>29</th>\n",
       "      <td>MN_syn_total</td>\n",
       "      <td>4.618160</td>\n",
       "    </tr>\n",
       "    <tr>\n",
       "      <th>25</th>\n",
       "      <td>hg4</td>\n",
       "      <td>4.287950</td>\n",
       "    </tr>\n",
       "    <tr>\n",
       "      <th>19</th>\n",
       "      <td>iii1</td>\n",
       "      <td>4.139395</td>\n",
       "    </tr>\n",
       "    <tr>\n",
       "      <th>13</th>\n",
       "      <td>PS2</td>\n",
       "      <td>3.361345</td>\n",
       "    </tr>\n",
       "    <tr>\n",
       "      <th>12</th>\n",
       "      <td>PS1</td>\n",
       "      <td>3.135889</td>\n",
       "    </tr>\n",
       "    <tr>\n",
       "      <th>10</th>\n",
       "      <td>DVM_3a</td>\n",
       "      <td>2.809325</td>\n",
       "    </tr>\n",
       "    <tr>\n",
       "      <th>5</th>\n",
       "      <td>DVM_1a</td>\n",
       "      <td>2.621810</td>\n",
       "    </tr>\n",
       "    <tr>\n",
       "      <th>7</th>\n",
       "      <td>DVM_1c</td>\n",
       "      <td>2.451791</td>\n",
       "    </tr>\n",
       "    <tr>\n",
       "      <th>22</th>\n",
       "      <td>hg1_u</td>\n",
       "      <td>2.308252</td>\n",
       "    </tr>\n",
       "    <tr>\n",
       "      <th>11</th>\n",
       "      <td>DVM_3b</td>\n",
       "      <td>2.123945</td>\n",
       "    </tr>\n",
       "    <tr>\n",
       "      <th>24</th>\n",
       "      <td>hg3</td>\n",
       "      <td>1.730034</td>\n",
       "    </tr>\n",
       "    <tr>\n",
       "      <th>14</th>\n",
       "      <td>dtpmn_u</td>\n",
       "      <td>1.176759</td>\n",
       "    </tr>\n",
       "    <tr>\n",
       "      <th>9</th>\n",
       "      <td>DVM_2b</td>\n",
       "      <td>0.842105</td>\n",
       "    </tr>\n",
       "    <tr>\n",
       "      <th>8</th>\n",
       "      <td>DVM_2a</td>\n",
       "      <td>0.747198</td>\n",
       "    </tr>\n",
       "    <tr>\n",
       "      <th>4</th>\n",
       "      <td>DLM_5</td>\n",
       "      <td>0.721761</td>\n",
       "    </tr>\n",
       "    <tr>\n",
       "      <th>23</th>\n",
       "      <td>hg2</td>\n",
       "      <td>0.357995</td>\n",
       "    </tr>\n",
       "    <tr>\n",
       "      <th>15</th>\n",
       "      <td>tp2</td>\n",
       "      <td>0.304136</td>\n",
       "    </tr>\n",
       "    <tr>\n",
       "      <th>0</th>\n",
       "      <td>DLM_1</td>\n",
       "      <td>0.292398</td>\n",
       "    </tr>\n",
       "    <tr>\n",
       "      <th>1</th>\n",
       "      <td>DLM_2</td>\n",
       "      <td>0.164967</td>\n",
       "    </tr>\n",
       "    <tr>\n",
       "      <th>2</th>\n",
       "      <td>DLM_3</td>\n",
       "      <td>0.059862</td>\n",
       "    </tr>\n",
       "    <tr>\n",
       "      <th>3</th>\n",
       "      <td>DLM_4</td>\n",
       "      <td>0.000000</td>\n",
       "    </tr>\n",
       "  </tbody>\n",
       "</table>\n",
       "</div>"
      ],
      "text/plain": [
       "      pt_root_id  sensory input %\n",
       "20          iii3        18.471338\n",
       "26            b1        17.273126\n",
       "28          b3_u        13.521968\n",
       "18          i2_u        11.092839\n",
       "27            b2         8.426628\n",
       "17            i1         6.309317\n",
       "6         DVM_1b         5.010087\n",
       "21       iii4a_u         4.971629\n",
       "16           tpn         4.916574\n",
       "29  MN_syn_total         4.618160\n",
       "25           hg4         4.287950\n",
       "19          iii1         4.139395\n",
       "13           PS2         3.361345\n",
       "12           PS1         3.135889\n",
       "10        DVM_3a         2.809325\n",
       "5         DVM_1a         2.621810\n",
       "7         DVM_1c         2.451791\n",
       "22         hg1_u         2.308252\n",
       "11        DVM_3b         2.123945\n",
       "24           hg3         1.730034\n",
       "14       dtpmn_u         1.176759\n",
       "9         DVM_2b         0.842105\n",
       "8         DVM_2a         0.747198\n",
       "4          DLM_5         0.721761\n",
       "23           hg2         0.357995\n",
       "15           tp2         0.304136\n",
       "0          DLM_1         0.292398\n",
       "1          DLM_2         0.164967\n",
       "2          DLM_3         0.059862\n",
       "3          DLM_4         0.000000"
      ]
     },
     "execution_count": 157,
     "metadata": {},
     "output_type": "execute_result"
    }
   ],
   "source": [
    "## % of sensory input for each wing MN\n",
    "\n",
    "pd.DataFrame(((wing_sensory_df.sum()/wing_multi_df.sum())*100).rename_axis('pt_root_id').reset_index(name='sensory input %')).sort_values(by='sensory input %', ascending=False)"
   ]
  },
  {
   "cell_type": "code",
   "execution_count": 168,
   "metadata": {},
   "outputs": [],
   "source": [
    "#### similarity ####\n",
    "\n",
    "# make cosine similarity matrices # \n",
    "\n",
    "from sklearn.metrics.pairwise import cosine_similarity\n",
    "\n",
    "clust_order = ['DLM_1', 'DLM_2', 'DLM_3', 'DLM_4', 'DLM_5', \n",
    "               'DVM_1a', 'DVM_1b', 'DVM_1c', 'DVM_2a', 'DVM_2b', 'DVM_3a', 'DVM_3b', \n",
    "                'PS1','PS2',\n",
    "                'dtpmn_u', 'tp2',\n",
    "                'tpn','iii3','iii1',  \n",
    "                'i2_u','i1','b3_u',\n",
    "                'b1', 'b2',\n",
    "                'hg1_u','hg3', 'hg4','iii4a_u', \n",
    "                'hg2']\n"
   ]
  },
  {
   "cell_type": "code",
   "execution_count": 218,
   "metadata": {},
   "outputs": [
    {
     "data": {
      "text/plain": [
       "<Axes: >"
      ]
     },
     "execution_count": 218,
     "metadata": {},
     "output_type": "execute_result"
    },
    {
     "data": {
      "image/png": "[encoded data removed]",
      "text/plain": [
       "<Figure size 640x480 with 2 Axes>"
      ]
     },
     "metadata": {},
     "output_type": "display_data"
    }
   ],
   "source": [
    "wing_simmat = cosine_similarity(wing_multi_df[clust_order].T)\n",
    "wing_simmat = pd.DataFrame(data=wing_simmat, columns=clust_order, index=clust_order)\n",
    "wing_long_simmat = pd.melt(wing_simmat.rename_axis('mn_1').reset_index(), id_vars='mn_1', value_vars=wing_simmat.columns).rename(columns={'variable':'mn_2'})\n",
    "\n",
    "sns.heatmap(wing_simmat)"
   ]
  },
  {
   "cell_type": "code",
   "execution_count": 257,
   "metadata": {},
   "outputs": [
    {
     "name": "stdout",
     "output_type": "stream",
     "text": [
      "35 comparisons\n",
      "0.501 ± 0.069 average similarity\n"
     ]
    }
   ],
   "source": [
    "# similarity between DLMs and DVMs\n",
    "\n",
    "# mn_1 = DLM, mn_2 = DVM. should be 35 pairwise comparisons\n",
    "indir_sim = wing_long_simmat[wing_long_simmat.mn_1.str.startswith('DL') & wing_long_simmat.mn_2.str.startswith('DV')].reset_index(drop=True)\n",
    "\n",
    "print(\"{} comparisons\".format(\n",
    "    len(indir_sim)))\n",
    "\n",
    "print(\"{} \\u00B1 {} average similarity\".format(\n",
    "    np.round(np.mean(indir_sim.value),3), np.round(np.std(indir_sim.value),3)))"
   ]
  },
  {
   "cell_type": "code",
   "execution_count": 258,
   "metadata": {},
   "outputs": [
    {
     "name": "stdout",
     "output_type": "stream",
     "text": [
      "10 comparisons\n",
      "0.127 ± 0.101 average similarity\n"
     ]
    }
   ],
   "source": [
    "# similarity between tension MNs, 10 pairwise comparisons\n",
    "tens_sim = wing_long_simmat[wing_long_simmat.mn_1.isin(tens_df.cell_type.to_list()) & wing_long_simmat.mn_2.isin(tens_df.cell_type.to_list())].reset_index(drop=True)\n",
    "tens_sim = tens_sim[tens_sim.value < 0.9999].drop_duplicates(subset='value').reset_index(drop=True)\n",
    "\n",
    "print(\"{} comparisons\".format(\n",
    "    len(tens_sim)))\n",
    "\n",
    "print(\"{} \\u00B1 {} average similarity\".format(\n",
    "    np.round(np.mean(tens_sim.value),3), np.round(np.std(tens_sim.value),3)))"
   ]
  },
  {
   "cell_type": "code",
   "execution_count": 262,
   "metadata": {},
   "outputs": [],
   "source": [
    "### module preference ###\n",
    "\n",
    "# motor clusters\n",
    "cluster_dict = {\n",
    "\"DLM_clu\" : ['DLM_1','DLM_2','DLM_3','DLM_4','DLM_5'],\n",
    "\"DVM_clu\" : ['DVM_1a','DVM_1b','DVM_1c','DVM_2a','DVM_2b','DVM_3a','DVM_3b'],\n",
    "\"tension_clu\" : ['PS1','PS2','dtpmn_u','tp2'],\n",
    "\"steerA_clu\" : ['tpn','iii1','iii3'],\n",
    "\"steerB_clu\" : ['i2_u','i1','b3_u'],\n",
    "\"steerC_clu\" : ['b2','b1'],\n",
    "\"steerD_clu\" : ['hg1_u','hg3','hg4','iii4a_u'],\n",
    "\"hg2_clu\" : ['hg2']\n",
    "}\n",
    "flat_wing_dict = {val:key for key, lst in cluster_dict.items() for val in lst}\n",
    "\n"
   ]
  },
  {
   "cell_type": "code",
   "execution_count": 272,
   "metadata": {},
   "outputs": [
    {
     "data": {
      "text/html": [
       "<div>\n",
       "<style scoped>\n",
       "    .dataframe tbody tr th:only-of-type {\n",
       "        vertical-align: middle;\n",
       "    }\n",
       "\n",
       "    .dataframe tbody tr th {\n",
       "        vertical-align: top;\n",
       "    }\n",
       "\n",
       "    .dataframe thead th {\n",
       "        text-align: right;\n",
       "    }\n",
       "</style>\n",
       "<table border=\"1\" class=\"dataframe\">\n",
       "  <thead>\n",
       "    <tr style=\"text-align: right;\">\n",
       "      <th></th>\n",
       "      <th>pre_pt_root_id</th>\n",
       "      <th>MN_syn</th>\n",
       "      <th>top_syn</th>\n",
       "      <th>proportion</th>\n",
       "      <th>classification_system</th>\n",
       "    </tr>\n",
       "  </thead>\n",
       "  <tbody>\n",
       "    <tr>\n",
       "      <th>0</th>\n",
       "      <td>648518346459413252</td>\n",
       "      <td>39</td>\n",
       "      <td>38</td>\n",
       "      <td>0.974359</td>\n",
       "      <td>local</td>\n",
       "    </tr>\n",
       "    <tr>\n",
       "      <th>1</th>\n",
       "      <td>648518346459520004</td>\n",
       "      <td>263</td>\n",
       "      <td>138</td>\n",
       "      <td>0.524715</td>\n",
       "      <td>descending</td>\n",
       "    </tr>\n",
       "    <tr>\n",
       "      <th>2</th>\n",
       "      <td>648518346459550468</td>\n",
       "      <td>54</td>\n",
       "      <td>49</td>\n",
       "      <td>0.907407</td>\n",
       "      <td>local</td>\n",
       "    </tr>\n",
       "    <tr>\n",
       "      <th>3</th>\n",
       "      <td>648518346459573508</td>\n",
       "      <td>93</td>\n",
       "      <td>84</td>\n",
       "      <td>0.903226</td>\n",
       "      <td>local</td>\n",
       "    </tr>\n",
       "    <tr>\n",
       "      <th>4</th>\n",
       "      <td>648518346459589380</td>\n",
       "      <td>29</td>\n",
       "      <td>27</td>\n",
       "      <td>0.931034</td>\n",
       "      <td>local</td>\n",
       "    </tr>\n",
       "  </tbody>\n",
       "</table>\n",
       "</div>"
      ],
      "text/plain": [
       "       pre_pt_root_id  MN_syn  top_syn  proportion classification_system\n",
       "0  648518346459413252      39       38    0.974359                 local\n",
       "1  648518346459520004     263      138    0.524715            descending\n",
       "2  648518346459550468      54       49    0.907407                 local\n",
       "3  648518346459573508      93       84    0.903226                 local\n",
       "4  648518346459589380      29       27    0.931034                 local"
      ]
     },
     "execution_count": 272,
     "metadata": {},
     "output_type": "execute_result"
    }
   ],
   "source": [
    "# wing preference df\n",
    "wing_properties_df['cluster'] = wing_properties_df.cell_type.map(flat_wing_dict)\n",
    "properties_df = wing_properties_df.rename(columns={'MN_id':'post_pt_root_id'})\n",
    "syn_df = wing_synapses_df.merge(wing_properties_df.rename(columns={'pt_root_id':'post_pt_root_id'})[['post_pt_root_id','cluster']])\n",
    "adj = pd.crosstab(syn_df.pre_pt_root_id,syn_df.cluster)\n",
    "wing_pref_df = pd.DataFrame(adj.sum(axis=1).reset_index(name='MN_syn'))\n",
    "wing_pref_df = wing_pref_df.merge(pd.DataFrame(adj.max(axis=1).reset_index(name='top_syn')))\n",
    "wing_pref_df['proportion'] = wing_pref_df.top_syn / wing_pref_df.MN_syn\n",
    "wing_pref_df = wing_pref_df.merge(wing_multi_df.reset_index()[['pre_pt_root_id','classification_system']])\n",
    "\n",
    "wing_pref_df.head()\n"
   ]
  },
  {
   "cell_type": "code",
   "execution_count": 275,
   "metadata": {},
   "outputs": [
    {
     "name": "stdout",
     "output_type": "stream",
     "text": [
      "wing median preference score, all premns: 0.829\n"
     ]
    }
   ],
   "source": [
    "# wing median preference score\n",
    "\n",
    "print(\"wing median preference score, all premns: {}\".format(\n",
    "    np.round(np.median(wing_pref_df.proportion),3)))"
   ]
  },
  {
   "cell_type": "code",
   "execution_count": null,
   "metadata": {},
   "outputs": [],
   "source": [
    "## TO DO: LEG MODULE PREFERENCE ## "
   ]
  },
  {
   "cell_type": "code",
   "execution_count": 340,
   "metadata": {},
   "outputs": [
    {
     "name": "stdout",
     "output_type": "stream",
     "text": [
      "1830 of 2115 premns typed: 86.5%\n"
     ]
    }
   ],
   "source": [
    "## hemilineage quantification ##\n",
    "\n",
    "# what % of local+intersegmental neurons are typed?\n",
    "wing_df = wing_multi_df[wing_multi_df.index.get_level_values(level='classification_system').str.startswith('l')].reset_index()\n",
    "leg_df = flat_leg_multi[flat_leg_multi.index.get_level_values(level='cell_class').isin(['local','intersegmental'])].reset_index()\n",
    "leg_df = leg_df.rename(columns={'segID':'pre_pt_root_id','NT':'putative_NT'})\n",
    "\n",
    "merged_premns = pd.concat([wing_df[['pre_pt_root_id','cell_type']],leg_df[['pre_pt_root_id','cell_type']]]).drop_duplicates(subset='pre_pt_root_id')\n",
    "merged_premns = merged_premns.replace(['unk3'], 'uk')\n",
    "merged_premns.cell_type = merged_premns.cell_type.fillna('uk')\n",
    "\n",
    "typed_premns = merged_premns[~merged_premns.cell_type.isin(['uk'])]\n",
    "\n",
    "print(\"{} of {} premns typed: {}%\".format(\n",
    "    len(typed_premns), len(merged_premns), np.round(len(typed_premns)/len(merged_premns),3)*100))\n"
   ]
  },
  {
   "cell_type": "code",
   "execution_count": 376,
   "metadata": {},
   "outputs": [
    {
     "name": "stdout",
     "output_type": "stream",
     "text": [
      "257429 of 286316 synapses typed: 89.9%\n"
     ]
    }
   ],
   "source": [
    "# what percent of synapses are typed?\n",
    "trunc_leg_df = leg_df.iloc[:,5:].set_index('pre_pt_root_id')\n",
    "trunc_wing_df = wing_df.set_index('pre_pt_root_id').iloc[:,5:-1]\n",
    "\n",
    "trunc_leg_df_typed = trunc_leg_df[trunc_leg_df.index.isin(typed_premns.pre_pt_root_id.to_list())]\n",
    "trunc_wing_df_typed = trunc_wing_df[trunc_wing_df.index.isin(typed_premns.pre_pt_root_id.to_list())]\n",
    "\n",
    "print(\"{} of {} synapses typed: {}%\".format(\n",
    "    trunc_leg_df_typed.sum().sum()+trunc_wing_df_typed.sum().sum(), trunc_leg_df.sum().sum()+trunc_wing_df.sum().sum(), \n",
    "    np.round((trunc_leg_df_typed.sum().sum()+trunc_wing_df_typed.sum().sum()) / (trunc_leg_df.sum().sum()+trunc_wing_df.sum().sum()),3)*100))"
   ]
  },
  {
   "cell_type": "code",
   "execution_count": null,
   "metadata": {},
   "outputs": [],
   "source": []
  }
 ],
 "metadata": {
  "kernelspec": {
   "display_name": ".venv",
   "language": "python",
   "name": "python3"
  },
  "language_info": {
   "codemirror_mode": {
    "name": "ipython",
    "version": 3
   },
   "file_extension": ".py",
   "mimetype": "text/x-python",
   "name": "python",
   "nbconvert_exporter": "python",
   "pygments_lexer": "ipython3",
   "version": "3.9.6"
  }
 },
 "nbformat": 4,
 "nbformat_minor": 2
}
